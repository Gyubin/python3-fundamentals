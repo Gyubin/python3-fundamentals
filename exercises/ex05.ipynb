{
 "cells": [
  {
   "cell_type": "code",
   "execution_count": 10,
   "metadata": {
    "id": "jHHWT4sxDBb8"
   },
   "outputs": [],
   "source": [
    "# 기본 함수의 형태\n",
    "def add(a ,b):\n",
    "  return a+b"
   ]
  },
  {
   "cell_type": "code",
   "execution_count": 11,
   "metadata": {
    "colab": {
     "base_uri": "https://localhost:8080/",
     "height": 35
    },
    "id": "8BoV5HF6Es1B",
    "outputId": "a4db364b-4879-4b70-f154-b186adf0f9a2"
   },
   "outputs": [
    {
     "name": "stdout",
     "output_type": "stream",
     "text": [
      "7\n"
     ]
    }
   ],
   "source": [
    "a = 3\n",
    "b = 4\n",
    "c = add(a, b)\n",
    "print(c)"
   ]
  },
  {
   "cell_type": "code",
   "execution_count": 12,
   "metadata": {
    "id": "vUM0MQFtEwsv"
   },
   "outputs": [],
   "source": [
    "# 일반적인 함수의 형태\n",
    "def add(a, b):\n",
    "  result = a + b\n",
    "  return result\n"
   ]
  },
  {
   "cell_type": "code",
   "execution_count": 13,
   "metadata": {
    "colab": {
     "base_uri": "https://localhost:8080/",
     "height": 35
    },
    "id": "VTINbRE_Fbn4",
    "outputId": "e78b6cbd-3bb1-40bb-a4e9-5dbffb22f710"
   },
   "outputs": [
    {
     "name": "stdout",
     "output_type": "stream",
     "text": [
      "7\n"
     ]
    }
   ],
   "source": [
    "a = add(3, 4)\n",
    "print(a)"
   ]
  },
  {
   "cell_type": "code",
   "execution_count": 14,
   "metadata": {
    "id": "OzJIQvT_Feg_"
   },
   "outputs": [],
   "source": [
    "# 입력값이 없는 함수\n",
    "def say():\n",
    "  return 'Hi'"
   ]
  },
  {
   "cell_type": "code",
   "execution_count": 15,
   "metadata": {
    "colab": {
     "base_uri": "https://localhost:8080/",
     "height": 35
    },
    "id": "PYB6WlJbFygg",
    "outputId": "66cbcd0b-38ab-43f4-a69d-7cf07bfb6447"
   },
   "outputs": [
    {
     "name": "stdout",
     "output_type": "stream",
     "text": [
      "Hi\n"
     ]
    }
   ],
   "source": [
    "a = say()\n",
    "print(a)"
   ]
  },
  {
   "cell_type": "code",
   "execution_count": 19,
   "metadata": {
    "id": "74VZH68dF0lI"
   },
   "outputs": [],
   "source": [
    "# 결과값이 없는 함수\n",
    "def add(a ,b):\n",
    "  print(\"%d + %d의 합은 %d입니다.\" % (a, b, a+b))"
   ]
  },
  {
   "cell_type": "code",
   "execution_count": 20,
   "metadata": {
    "colab": {
     "base_uri": "https://localhost:8080/",
     "height": 35
    },
    "id": "ZEpCIGRSGP1Y",
    "outputId": "94c3a5ce-8d9d-4e4e-ed17-d5349f454adb"
   },
   "outputs": [
    {
     "name": "stdout",
     "output_type": "stream",
     "text": [
      "3 + 4의 합은 7입니다.\n"
     ]
    }
   ],
   "source": [
    "add(3, 4)"
   ]
  },
  {
   "cell_type": "code",
   "execution_count": 21,
   "metadata": {
    "id": "RrlAGeh_GRIP"
   },
   "outputs": [],
   "source": [
    "# 입력값도 결과값도 없는 함수\n",
    "def say():\n",
    "  print('Hi')"
   ]
  },
  {
   "cell_type": "code",
   "execution_count": 22,
   "metadata": {
    "id": "eMSkEPJYGqA7"
   },
   "outputs": [],
   "source": [
    "# 매개변수 지정하여 호출하기\n",
    "def add(a, b):\n",
    "  return a+b"
   ]
  },
  {
   "cell_type": "code",
   "execution_count": 24,
   "metadata": {
    "colab": {
     "base_uri": "https://localhost:8080/",
     "height": 35
    },
    "id": "fb9kFbp2G3JZ",
    "outputId": "946a7623-b9f4-4af9-8297-e918f576866e"
   },
   "outputs": [
    {
     "name": "stdout",
     "output_type": "stream",
     "text": [
      "6\n"
     ]
    }
   ],
   "source": [
    "result = add(a=5, b=1)\n",
    "print(result)"
   ]
  },
  {
   "cell_type": "code",
   "execution_count": 25,
   "metadata": {
    "id": "C8Oym1GlG9Ii"
   },
   "outputs": [],
   "source": [
    "# 여러개의 입력값을 받는 함수 만들기\n",
    "def add_many(*args):\n",
    "  result = 0\n",
    "  for i in args:\n",
    "    result = result + i\n",
    "  return result"
   ]
  },
  {
   "cell_type": "code",
   "execution_count": 26,
   "metadata": {
    "colab": {
     "base_uri": "https://localhost:8080/",
     "height": 35
    },
    "id": "oRlxQxzSHiys",
    "outputId": "b04ba3c6-460f-4708-ed6c-c9a4c02f16ee"
   },
   "outputs": [
    {
     "name": "stdout",
     "output_type": "stream",
     "text": [
      "6\n"
     ]
    }
   ],
   "source": [
    "result = add_many(1,2,3)\n",
    "print(result)"
   ]
  },
  {
   "cell_type": "code",
   "execution_count": 27,
   "metadata": {
    "colab": {
     "base_uri": "https://localhost:8080/",
     "height": 35
    },
    "id": "WdhHJ9AqH2Nk",
    "outputId": "6adbd876-0b25-42d6-ccbb-9c973e1a5495"
   },
   "outputs": [
    {
     "name": "stdout",
     "output_type": "stream",
     "text": [
      "15\n"
     ]
    }
   ],
   "source": [
    "result = add_many(1, 2, 3, 4, 5)\n",
    "print(result)"
   ]
  },
  {
   "cell_type": "code",
   "execution_count": 31,
   "metadata": {
    "id": "qoIGTvG7H8W8"
   },
   "outputs": [],
   "source": [
    "# 여러개의 입력값을 받는 함수 \n",
    "def add_mul(choice, *args):\n",
    "  if choice == \"add\":\n",
    "    result = 0\n",
    "    for i in args:\n",
    "      result = result + i\n",
    "  elif choice == \"mul\":\n",
    "      result = 1\n",
    "      for i in args:\n",
    "        result = result * i\n",
    "  return result"
   ]
  },
  {
   "cell_type": "code",
   "execution_count": 32,
   "metadata": {
    "colab": {
     "base_uri": "https://localhost:8080/",
     "height": 35
    },
    "id": "mBrOEfpHIwFN",
    "outputId": "aab34bee-3049-43e3-dd19-a0d7868bbd61"
   },
   "outputs": [
    {
     "name": "stdout",
     "output_type": "stream",
     "text": [
      "15\n"
     ]
    }
   ],
   "source": [
    "result = add_mul('add', 1,2,3,4,5)\n",
    "print(result)"
   ]
  },
  {
   "cell_type": "code",
   "execution_count": 33,
   "metadata": {
    "colab": {
     "base_uri": "https://localhost:8080/",
     "height": 35
    },
    "id": "tOEj1PFMJCM2",
    "outputId": "b58a7761-727b-416c-c0e5-837b8c820226"
   },
   "outputs": [
    {
     "name": "stdout",
     "output_type": "stream",
     "text": [
      "120\n"
     ]
    }
   ],
   "source": [
    "result = add_mul('mul', 1,2,3,4,5)\n",
    "print(result)"
   ]
  },
  {
   "cell_type": "code",
   "execution_count": 34,
   "metadata": {
    "id": "0LJ0oLXdJF8P"
   },
   "outputs": [],
   "source": [
    "# 키워드 파라미터 \n",
    "def print_kwargs(**kwargs):\n",
    "  print(kwargs)"
   ]
  },
  {
   "cell_type": "code",
   "execution_count": 35,
   "metadata": {
    "colab": {
     "base_uri": "https://localhost:8080/",
     "height": 35
    },
    "id": "VbsbztelJX0x",
    "outputId": "d5eff4bf-412c-4984-8062-1fe4db953f10"
   },
   "outputs": [
    {
     "name": "stdout",
     "output_type": "stream",
     "text": [
      "{'a': 1}\n"
     ]
    }
   ],
   "source": [
    "print_kwargs(a=1)"
   ]
  },
  {
   "cell_type": "code",
   "execution_count": 36,
   "metadata": {
    "colab": {
     "base_uri": "https://localhost:8080/",
     "height": 35
    },
    "id": "2TnMeYyTJhu5",
    "outputId": "3bbcfab2-1313-48c0-a077-b2eb2bf32602"
   },
   "outputs": [
    {
     "name": "stdout",
     "output_type": "stream",
     "text": [
      "{'name': 'foo', 'age': 3}\n"
     ]
    }
   ],
   "source": [
    "print_kwargs(name='foo', age=3)"
   ]
  },
  {
   "cell_type": "code",
   "execution_count": 37,
   "metadata": {
    "id": "JU9Oymg9Jla3"
   },
   "outputs": [],
   "source": [
    "# 함수의 결과 값은 언제나 하나\n",
    "\n",
    "def add_and_mul(a, b):\n",
    "  return a+b, a*b"
   ]
  },
  {
   "cell_type": "code",
   "execution_count": 38,
   "metadata": {
    "id": "-SCamV-DKC8w"
   },
   "outputs": [],
   "source": [
    "result = add_and_mul(3, 4)"
   ]
  },
  {
   "cell_type": "code",
   "execution_count": 39,
   "metadata": {
    "colab": {
     "base_uri": "https://localhost:8080/",
     "height": 35
    },
    "id": "Vg5gTwUnKFa4",
    "outputId": "327efffb-eb75-44e6-f928-f25a7523145f"
   },
   "outputs": [
    {
     "name": "stdout",
     "output_type": "stream",
     "text": [
      "(7, 12)\n"
     ]
    }
   ],
   "source": [
    "print(result)"
   ]
  },
  {
   "cell_type": "code",
   "execution_count": 40,
   "metadata": {
    "id": "Ku_d2Yn0KOrG"
   },
   "outputs": [],
   "source": [
    "def add_and_mul_2(a, b):\n",
    "  return a+b\n",
    "  return a*b"
   ]
  },
  {
   "cell_type": "code",
   "execution_count": 41,
   "metadata": {
    "colab": {
     "base_uri": "https://localhost:8080/",
     "height": 35
    },
    "id": "0OnE7nEPKalC",
    "outputId": "fae2753e-8989-463b-acdd-442bc261dc8a"
   },
   "outputs": [
    {
     "name": "stdout",
     "output_type": "stream",
     "text": [
      "5\n"
     ]
    }
   ],
   "source": [
    "result = add_and_mul_2(2, 3)\n",
    "print(result)"
   ]
  },
  {
   "cell_type": "code",
   "execution_count": 42,
   "metadata": {
    "id": "gq83Ds9uKffp"
   },
   "outputs": [],
   "source": [
    "# return의 또 다른 쓰임새\n",
    "def say_nick(nick):\n",
    "  if nick == \"바보\":\n",
    "    return\n",
    "  print(\"나의 별명은 %s 입니다.\" % nick)"
   ]
  },
  {
   "cell_type": "code",
   "execution_count": 43,
   "metadata": {
    "colab": {
     "base_uri": "https://localhost:8080/",
     "height": 35
    },
    "id": "j_xs-_AWK83m",
    "outputId": "9c16d059-2bbc-4857-d6cf-7860c8ed447a"
   },
   "outputs": [
    {
     "name": "stdout",
     "output_type": "stream",
     "text": [
      "나의 별명은 야호 입니다.\n"
     ]
    }
   ],
   "source": [
    "say_nick('야호')"
   ]
  },
  {
   "cell_type": "code",
   "execution_count": 44,
   "metadata": {
    "id": "G8IrzUjsLACU"
   },
   "outputs": [],
   "source": [
    "say_nick('바보')"
   ]
  },
  {
   "cell_type": "code",
   "execution_count": 49,
   "metadata": {
    "id": "iNRXjv3tLD5G"
   },
   "outputs": [],
   "source": [
    "# 매개변수에 초기값 미리 설정하기\n",
    "def say_myself(name, old, man):\n",
    "  print(\"나의 이름은 %s 입니다.\" % name)\n",
    "  print(\"나이는 %d살 입니다.\" % old)\n",
    "  if man:\n",
    "    print(\"남자\")\n",
    "  else:\n",
    "    print(\"여자\")"
   ]
  },
  {
   "cell_type": "code",
   "execution_count": null,
   "metadata": {
    "id": "5bFnqHTUMYYU"
   },
   "outputs": [],
   "source": []
  },
  {
   "cell_type": "code",
   "execution_count": 52,
   "metadata": {
    "colab": {
     "base_uri": "https://localhost:8080/",
     "height": 72
    },
    "id": "nR1jlvnrLpV0",
    "outputId": "5a550e11-9d23-4ee5-b5ea-f8860be2ee2f"
   },
   "outputs": [
    {
     "name": "stdout",
     "output_type": "stream",
     "text": [
      "나의 이름은 이길준 입니다.\n",
      "나이는 29살 입니다.\n",
      "남자\n"
     ]
    }
   ],
   "source": [
    "say_myself(\"이길준\", 29, True)"
   ]
  },
  {
   "cell_type": "code",
   "execution_count": 55,
   "metadata": {
    "colab": {
     "base_uri": "https://localhost:8080/",
     "height": 136
    },
    "id": "ZCqc-18ZLtoa",
    "outputId": "a1259095-e761-480b-a139-966fb53144f2"
   },
   "outputs": [
    {
     "ename": "SyntaxError",
     "evalue": "ignored",
     "output_type": "error",
     "traceback": [
      "\u001b[0;36m  File \u001b[0;32m\"<ipython-input-55-2f9c76484191>\"\u001b[0;36m, line \u001b[0;32m1\u001b[0m\n\u001b[0;31m    def say_myself(name, man=True, old):\u001b[0m\n\u001b[0m                  ^\u001b[0m\n\u001b[0;31mSyntaxError\u001b[0m\u001b[0;31m:\u001b[0m non-default argument follows default argument\n"
     ]
    }
   ],
   "source": [
    "def say_myself(name, man=True, old):\n",
    "  print(\"나의 이름은 %s 입니다.\" % name)\n",
    "  print(\"나이는 %d살 입니다.\" % old)\n",
    "  if man:\n",
    "    print(\"남자\")\n",
    "  else:\n",
    "    print(\"여자\")"
   ]
  },
  {
   "cell_type": "code",
   "execution_count": 56,
   "metadata": {
    "id": "ZSbyPDuzMeyX"
   },
   "outputs": [],
   "source": [
    "a = 1\n",
    "def vartest(a):\n",
    "  a = a + 1"
   ]
  },
  {
   "cell_type": "code",
   "execution_count": 57,
   "metadata": {
    "id": "4gqWKl0PM9vs"
   },
   "outputs": [],
   "source": [
    "vartest(a)"
   ]
  },
  {
   "cell_type": "code",
   "execution_count": 58,
   "metadata": {
    "colab": {
     "base_uri": "https://localhost:8080/",
     "height": 35
    },
    "id": "iPNO1d2IM-6L",
    "outputId": "db89540f-0ed4-42cc-a3ea-168b99f74e94"
   },
   "outputs": [
    {
     "name": "stdout",
     "output_type": "stream",
     "text": [
      "1\n"
     ]
    }
   ],
   "source": [
    "print(a)\n"
   ]
  },
  {
   "cell_type": "code",
   "execution_count": 59,
   "metadata": {
    "id": "3oJS9ZNJNAGr"
   },
   "outputs": [],
   "source": [
    "def vartest(a):\n",
    "  a = a + 1\n",
    "  "
   ]
  },
  {
   "cell_type": "code",
   "execution_count": 60,
   "metadata": {
    "id": "MV57pPdGNUso"
   },
   "outputs": [],
   "source": [
    "vartest(3)"
   ]
  },
  {
   "cell_type": "code",
   "execution_count": 61,
   "metadata": {
    "colab": {
     "base_uri": "https://localhost:8080/",
     "height": 35
    },
    "id": "TiqfT1w9NV7R",
    "outputId": "c02e109d-acb8-4ec3-9d12-83608a75b8a3"
   },
   "outputs": [
    {
     "name": "stdout",
     "output_type": "stream",
     "text": [
      "1\n"
     ]
    }
   ],
   "source": [
    "print(a)"
   ]
  },
  {
   "cell_type": "code",
   "execution_count": 63,
   "metadata": {
    "id": "eHdJmAOANWxs"
   },
   "outputs": [],
   "source": [
    "# 함수 안에서 함수 밖의 변수를 변경하는 방법\n",
    "# return 사용하기\n",
    "a = 1\n",
    "def vartest(a):\n",
    "  a = a + 1\n",
    "  return a"
   ]
  },
  {
   "cell_type": "code",
   "execution_count": 64,
   "metadata": {
    "colab": {
     "base_uri": "https://localhost:8080/",
     "height": 35
    },
    "id": "i5kmQweMRIOL",
    "outputId": "cedfa69e-6f2d-4667-e64c-83f16c2ffdd4"
   },
   "outputs": [
    {
     "name": "stdout",
     "output_type": "stream",
     "text": [
      "2\n"
     ]
    }
   ],
   "source": [
    "a = vartest(a)\n",
    "print(a)"
   ]
  },
  {
   "cell_type": "code",
   "execution_count": 65,
   "metadata": {
    "id": "lLMpwI5uRPBz"
   },
   "outputs": [],
   "source": [
    "a = 1\n",
    "def vartest():\n",
    "  global a\n",
    "  a = a + 1\n",
    "  "
   ]
  },
  {
   "cell_type": "code",
   "execution_count": 66,
   "metadata": {
    "colab": {
     "base_uri": "https://localhost:8080/",
     "height": 35
    },
    "id": "C4E8cHVTRl0a",
    "outputId": "3c3eb937-8da8-4c9f-bf34-8843ef09a8f9"
   },
   "outputs": [
    {
     "name": "stdout",
     "output_type": "stream",
     "text": [
      "2\n"
     ]
    }
   ],
   "source": [
    "vartest()\n",
    "print(a)"
   ]
  },
  {
   "cell_type": "code",
   "execution_count": 67,
   "metadata": {
    "colab": {
     "base_uri": "https://localhost:8080/",
     "height": 35
    },
    "id": "m8VpK4U0RnjS",
    "outputId": "89db1f8a-d88c-484e-87a9-1fbb497b3aea"
   },
   "outputs": [
    {
     "name": "stdout",
     "output_type": "stream",
     "text": [
      "7\n"
     ]
    }
   ],
   "source": [
    "# Lambda \n",
    "add = lambda a, b: a+b\n",
    "result = add(3, 4)\n",
    "print(result)"
   ]
  },
  {
   "cell_type": "code",
   "execution_count": 68,
   "metadata": {
    "colab": {
     "base_uri": "https://localhost:8080/",
     "height": 35
    },
    "id": "KQRgXYbDSNIq",
    "outputId": "e75295da-b19f-4c12-acf0-2c90cae8ed07"
   },
   "outputs": [
    {
     "name": "stdout",
     "output_type": "stream",
     "text": [
      "[['101호', '102호'], ['201호', '202호'], ['301호', '302호']]\n"
     ]
    }
   ],
   "source": [
    "# 반복문 181~200번 (숙제)\n",
    "\n",
    "# 181번\n",
    "apart = [[\"101호\", \"102호\"],[\"201호\", \"202호\"],[\"301호\", \"302호\"]]\n",
    "print(apart)"
   ]
  },
  {
   "cell_type": "code",
   "execution_count": 69,
   "metadata": {
    "colab": {
     "base_uri": "https://localhost:8080/",
     "height": 35
    },
    "id": "mNWkrevjTLU3",
    "outputId": "fa50a450-e2f3-40a4-93d3-04c66112fb44"
   },
   "outputs": [
    {
     "name": "stdout",
     "output_type": "stream",
     "text": [
      "[['시가', 100, 200, 300], ['종가', 80, 210, 330]]\n"
     ]
    }
   ],
   "source": [
    "# 182번\n",
    "stock = [[\"시가\", 100, 200, 300], [\"종가\", 80, 210, 330]]\n",
    "print(stock)"
   ]
  },
  {
   "cell_type": "code",
   "execution_count": 70,
   "metadata": {
    "colab": {
     "base_uri": "https://localhost:8080/",
     "height": 35
    },
    "id": "LvSJj-eATdAV",
    "outputId": "f78d524f-96f3-4c9d-9168-e1ecc6345e99"
   },
   "outputs": [
    {
     "name": "stdout",
     "output_type": "stream",
     "text": [
      "{'시가': [100, 200, 300], '종가': [80, 210, 330]}\n"
     ]
    }
   ],
   "source": [
    "# 183번\n",
    "stock = {\"시가\":[100, 200, 300], \"종가\":[80, 210, 330]}\n",
    "print(stock)"
   ]
  },
  {
   "cell_type": "code",
   "execution_count": 72,
   "metadata": {
    "colab": {
     "base_uri": "https://localhost:8080/",
     "height": 35
    },
    "id": "pWfS6Y8WT0GW",
    "outputId": "5ec42abe-60fc-4faa-f6e5-f3afa3dd22ab"
   },
   "outputs": [
    {
     "name": "stdout",
     "output_type": "stream",
     "text": [
      "{'10/10': [80, 110, 70, 90], '10/11': [210, 230, 190, 200]}\n"
     ]
    }
   ],
   "source": [
    "# 184번\n",
    "stock = {\"10/10\":[80, 110, 70, 90], \"10/11\":[210, 230, 190, 200]}\n",
    "print(stock)\n",
    "\n"
   ]
  },
  {
   "cell_type": "code",
   "execution_count": 74,
   "metadata": {
    "colab": {
     "base_uri": "https://localhost:8080/",
     "height": 126
    },
    "id": "OH9mNKu-UC-z",
    "outputId": "8fc3eee4-60d7-437a-a876-3fc64a60c1d9"
   },
   "outputs": [
    {
     "name": "stdout",
     "output_type": "stream",
     "text": [
      "101호\n",
      "102호\n",
      "201호\n",
      "202호\n",
      "301호\n",
      "302호\n"
     ]
    }
   ],
   "source": [
    "# 185번\n",
    "apart = [[\"101호\", \"102호\"],[\"201호\", \"202호\"],[\"301호\", \"302호\"]]\n",
    "for row in apart:\n",
    "  for col in row:\n",
    "    print(col)"
   ]
  },
  {
   "cell_type": "code",
   "execution_count": 75,
   "metadata": {
    "colab": {
     "base_uri": "https://localhost:8080/",
     "height": 126
    },
    "id": "pz5cI3gnUlaf",
    "outputId": "b170adef-a8e0-4bc5-e90d-0cc29634f5f0"
   },
   "outputs": [
    {
     "name": "stdout",
     "output_type": "stream",
     "text": [
      "301 Ho\n",
      "302 Ho\n",
      "201 Ho\n",
      "202 Ho\n",
      "101 Ho\n",
      "202 Ho\n"
     ]
    }
   ],
   "source": [
    "# 186번\n",
    "apart = [[101, 202], [201, 202], [301, 302]]\n",
    "for row in apart[::-1]:\n",
    "  for col in row:\n",
    "    print(col, \"Ho\")"
   ]
  },
  {
   "cell_type": "code",
   "execution_count": 76,
   "metadata": {
    "colab": {
     "base_uri": "https://localhost:8080/",
     "height": 126
    },
    "id": "9bCvC7XaVFki",
    "outputId": "fb8d7f1d-ac43-48ba-cb33-56cb04590988"
   },
   "outputs": [
    {
     "name": "stdout",
     "output_type": "stream",
     "text": [
      "302 Ho\n",
      "301 Ho\n",
      "202 Ho\n",
      "201 Ho\n",
      "202 Ho\n",
      "101 Ho\n"
     ]
    }
   ],
   "source": [
    "# 187번\n",
    "apart = [[101, 202], [201, 202], [301, 302]]\n",
    "for row in apart[::-1]:\n",
    "  for col in row[::-1]:\n",
    "    print(col, \"Ho\")"
   ]
  },
  {
   "cell_type": "code",
   "execution_count": 78,
   "metadata": {
    "colab": {
     "base_uri": "https://localhost:8080/",
     "height": 235
    },
    "id": "9V2pVIZJVXby",
    "outputId": "afc5cd1f-97c1-46e6-f629-714343e5f46b"
   },
   "outputs": [
    {
     "name": "stdout",
     "output_type": "stream",
     "text": [
      "101 Ho\n",
      "-----\n",
      "202 Ho\n",
      "-----\n",
      "201 Ho\n",
      "-----\n",
      "202 Ho\n",
      "-----\n",
      "301 Ho\n",
      "-----\n",
      "302 Ho\n",
      "-----\n"
     ]
    }
   ],
   "source": [
    "# 188번\n",
    "apart = [[101, 202], [201, 202], [301, 302]]\n",
    "for row in apart:\n",
    "  for col in row:\n",
    "    print(col, \"Ho\")\n",
    "    print(\"-\" * 5)"
   ]
  },
  {
   "cell_type": "code",
   "execution_count": 81,
   "metadata": {
    "colab": {
     "base_uri": "https://localhost:8080/",
     "height": 181
    },
    "id": "ultpVcWwVkK0",
    "outputId": "054cf42a-daf5-496c-c267-16863feaf990"
   },
   "outputs": [
    {
     "name": "stdout",
     "output_type": "stream",
     "text": [
      "101 Ho\n",
      "202 Ho\n",
      "-----\n",
      "201 Ho\n",
      "202 Ho\n",
      "-----\n",
      "301 Ho\n",
      "302 Ho\n",
      "-----\n"
     ]
    }
   ],
   "source": [
    "# 189번\n",
    "apart = [[101, 202], [201, 202], [301, 302]]\n",
    "for row in apart:\n",
    "  for col in row:\n",
    "    print(col, \"Ho\")\n",
    "  print(\"-\" * 5)"
   ]
  },
  {
   "cell_type": "code",
   "execution_count": 82,
   "metadata": {
    "colab": {
     "base_uri": "https://localhost:8080/",
     "height": 145
    },
    "id": "l75b3HXxV6G2",
    "outputId": "27fed456-d21a-4a03-dac0-900e2559cbff"
   },
   "outputs": [
    {
     "name": "stdout",
     "output_type": "stream",
     "text": [
      "101 Ho\n",
      "202 Ho\n",
      "201 Ho\n",
      "202 Ho\n",
      "301 Ho\n",
      "302 Ho\n",
      "-----\n"
     ]
    }
   ],
   "source": [
    "# 190번\n",
    "apart = [[101, 202], [201, 202], [301, 302]]\n",
    "for row in apart:\n",
    "  for col in row:\n",
    "    print(col, \"Ho\")\n",
    "print(\"-\" * 5)"
   ]
  },
  {
   "cell_type": "code",
   "execution_count": 88,
   "metadata": {
    "colab": {
     "base_uri": "https://localhost:8080/",
     "height": 235
    },
    "id": "egyyWqDUWlwx",
    "outputId": "99aba7c0-ba0b-4421-b89d-8ab841412646"
   },
   "outputs": [
    {
     "name": "stdout",
     "output_type": "stream",
     "text": [
      "수수료 : 2000.28\n",
      "수수료 : 3050.427\n",
      "수수료 : 2050.2870000000003\n",
      "수수료 : 1980.2772\n",
      "수수료 : 7501.05\n",
      "수수료 : 2050.2870000000003\n",
      "수수료 : 2050.2870000000003\n",
      "수수료 : 1980.2772\n",
      "수수료 : 15452.163\n",
      "수수료 : 15052.107\n",
      "수수료 : 15552.177\n",
      "수수료 : 14902.086000000001\n"
     ]
    }
   ],
   "source": [
    "# 191번\n",
    "data = [\n",
    "        [2000, 3050, 2050, 1980],\n",
    "        [7500, 2050, 2050, 1980],\n",
    "        [15450, 15050, 15550, 14900]\n",
    "]\n",
    "\n",
    "for line in data:\n",
    "  for col in line:\n",
    "    print(\"수수료 :\", col * 1.00014)"
   ]
  },
  {
   "cell_type": "code",
   "execution_count": 89,
   "metadata": {
    "colab": {
     "base_uri": "https://localhost:8080/",
     "height": 290
    },
    "id": "x0ygriJKW-nI",
    "outputId": "3e38b879-fa31-44a8-c972-3d181a22a358"
   },
   "outputs": [
    {
     "name": "stdout",
     "output_type": "stream",
     "text": [
      "수수료 : 2000.28\n",
      "수수료 : 3050.427\n",
      "수수료 : 2050.2870000000003\n",
      "수수료 : 1980.2772\n",
      "----\n",
      "수수료 : 7501.05\n",
      "수수료 : 2050.2870000000003\n",
      "수수료 : 2050.2870000000003\n",
      "수수료 : 1980.2772\n",
      "----\n",
      "수수료 : 15452.163\n",
      "수수료 : 15052.107\n",
      "수수료 : 15552.177\n",
      "수수료 : 14902.086000000001\n",
      "----\n"
     ]
    }
   ],
   "source": [
    "# 192번\n",
    "data = [\n",
    "        [2000, 3050, 2050, 1980],\n",
    "        [7500, 2050, 2050, 1980],\n",
    "        [15450, 15050, 15550, 14900]\n",
    "]\n",
    "\n",
    "for line in data:\n",
    "  for col in line:\n",
    "    print(\"수수료 :\", col * 1.00014)\n",
    "  print(\"-\" * 4)"
   ]
  },
  {
   "cell_type": "code",
   "execution_count": 98,
   "metadata": {
    "colab": {
     "base_uri": "https://localhost:8080/",
     "height": 55
    },
    "id": "2rXZMV1xYDEu",
    "outputId": "2edc48a9-97f0-444f-d0f5-2b36052de6d2"
   },
   "outputs": [
    {
     "name": "stdout",
     "output_type": "stream",
     "text": [
      "[2000.28, 3050.427, 2050.2870000000003, 1980.2772, 7501.05, 2050.2870000000003, 2050.2870000000003, 1980.2772, 15452.163, 15052.107, 15552.177, 14902.086000000001]\n"
     ]
    }
   ],
   "source": [
    "# 193번\n",
    "data = [\n",
    "        [2000, 3050, 2050, 1980],\n",
    "        [7500, 2050, 2050, 1980],\n",
    "        [15450, 15050, 15550, 14900]\n",
    "]\n",
    "result = []\n",
    "for line in data:\n",
    "    for column in line:\n",
    "        result.append(column * 1.00014)\n",
    "print(result)"
   ]
  },
  {
   "cell_type": "code",
   "execution_count": 99,
   "metadata": {
    "colab": {
     "base_uri": "https://localhost:8080/",
     "height": 55
    },
    "id": "h0vC8Z6bYZD4",
    "outputId": "739859bf-7ac8-4d73-e8b8-ee43d9ec1cc7"
   },
   "outputs": [
    {
     "name": "stdout",
     "output_type": "stream",
     "text": [
      "[[2000.28, 3050.427, 2050.2870000000003, 1980.2772], [7501.05, 2050.2870000000003, 2050.2870000000003, 1980.2772], [15452.163, 15052.107, 15552.177, 14902.086000000001]]\n"
     ]
    }
   ],
   "source": [
    "# 194번\n",
    "data = [\n",
    "        [2000, 3050, 2050, 1980],\n",
    "        [7500, 2050, 2050, 1980],\n",
    "        [15450, 15050, 15550, 14900]\n",
    "]\n",
    "result = []\n",
    "for line in data:\n",
    "  sub = []\n",
    "  for col in line:\n",
    "    sub.append(col * 1.00014)\n",
    "  result.append(sub)\n",
    "print(result)"
   ]
  },
  {
   "cell_type": "code",
   "execution_count": 103,
   "metadata": {
    "colab": {
     "base_uri": "https://localhost:8080/",
     "height": 72
    },
    "id": "-hzLvHGuZsuY",
    "outputId": "d7ba68c3-f002-4461-8691-c899fac20690"
   },
   "outputs": [
    {
     "name": "stdout",
     "output_type": "stream",
     "text": [
      "100\n",
      "190\n",
      "310\n"
     ]
    }
   ],
   "source": [
    "# 195번\n",
    "ohlc = [[\"open\", \"high\", \"low\", \"close\"],\n",
    "        [100, 110, 70, 100],\n",
    "        [200, 210, 180, 190],\n",
    "        [300, 310, 300, 310]]\n",
    "for row in ohlc[1:]:\n",
    "  print(row[3])"
   ]
  },
  {
   "cell_type": "code",
   "execution_count": 105,
   "metadata": {
    "colab": {
     "base_uri": "https://localhost:8080/",
     "height": 54
    },
    "id": "GTGyM6XcZ2k4",
    "outputId": "fc05969e-aa4d-4741-da70-61893a743881"
   },
   "outputs": [
    {
     "name": "stdout",
     "output_type": "stream",
     "text": [
      "190\n",
      "310\n"
     ]
    }
   ],
   "source": [
    "# 196번\n",
    "ohlc = [[\"open\", \"high\", \"low\", \"close\"],\n",
    "        [100, 110, 70, 100],\n",
    "        [200, 210, 180, 190],\n",
    "        [300, 310, 300, 310]]\n",
    "for row in ohlc[1:]:\n",
    "  if(row[3]>150):\n",
    "    print((row[3]))"
   ]
  },
  {
   "cell_type": "code",
   "execution_count": 111,
   "metadata": {
    "colab": {
     "base_uri": "https://localhost:8080/",
     "height": 54
    },
    "id": "qHvwlcGua2xF",
    "outputId": "7d038cc5-f6a8-4e8c-8b1d-588ae6c0ec44"
   },
   "outputs": [
    {
     "name": "stdout",
     "output_type": "stream",
     "text": [
      "100\n",
      "310\n"
     ]
    }
   ],
   "source": [
    "# 197번\n",
    "ohlc = [[\"open\", \"high\", \"low\", \"close\"],\n",
    "        [100, 110, 70, 100],\n",
    "        [200, 210, 180, 190],\n",
    "        [300, 310, 300, 310]]\n",
    "for row in ohlc[1:]:\n",
    "    if (row[3] >= row[0]):\n",
    "        print(row[3])\n",
    "        "
   ]
  },
  {
   "cell_type": "code",
   "execution_count": 113,
   "metadata": {
    "colab": {
     "base_uri": "https://localhost:8080/",
     "height": 35
    },
    "id": "UHWZJmRFbRwg",
    "outputId": "2fd3d87b-ae60-401c-d2d5-956f09018e09"
   },
   "outputs": [
    {
     "name": "stdout",
     "output_type": "stream",
     "text": [
      "[40, 30, 10]\n"
     ]
    }
   ],
   "source": [
    "# 198번\n",
    "ohlc = [[\"open\", \"high\", \"low\", \"close\"],\n",
    "        [100, 110, 70, 100],\n",
    "        [200, 210, 180, 190],\n",
    "        [300, 310, 300, 310]]\n",
    "volatility = []\n",
    "for row in ohlc[1:]:\n",
    "  volatility.append(row[1]-row[2])\n",
    "print(volatility)"
   ]
  },
  {
   "cell_type": "code",
   "execution_count": 114,
   "metadata": {
    "colab": {
     "base_uri": "https://localhost:8080/",
     "height": 35
    },
    "id": "BXrOAeH0b3r0",
    "outputId": "025875e1-300d-45fe-e04a-fbe123aa16f4"
   },
   "outputs": [
    {
     "name": "stdout",
     "output_type": "stream",
     "text": [
      "10\n"
     ]
    }
   ],
   "source": [
    "# 199번\n",
    "ohlc = [[\"open\", \"high\", \"low\", \"close\"],\n",
    "        [100, 110, 70, 100],\n",
    "        [200, 210, 180, 190],\n",
    "        [300, 310, 300, 310]]\n",
    "for row in ohlc[1:]:\n",
    "  if row[3] > row[0]:\n",
    "    print(row[1]-row[2]) #고가 -시가 "
   ]
  },
  {
   "cell_type": "code",
   "execution_count": 117,
   "metadata": {
    "colab": {
     "base_uri": "https://localhost:8080/",
     "height": 35
    },
    "id": "TmlUBylmcbEM",
    "outputId": "f0ad213b-1774-4ae4-c8fd-89038fce3cfb"
   },
   "outputs": [
    {
     "name": "stdout",
     "output_type": "stream",
     "text": [
      "0\n"
     ]
    }
   ],
   "source": [
    "# 200번\n",
    "ohlc = [[\"open\", \"high\", \"low\", \"close\"],\n",
    "        [100, 110, 70, 100],\n",
    "        [200, 210, 180, 190],\n",
    "        [300, 310, 300, 310]]\n",
    "profit = 0\n",
    "for row in ohlc[1:]:\n",
    "  profit += (row[3]-row[0])\n",
    "print(profit)"
   ]
  },
  {
   "cell_type": "code",
   "execution_count": 124,
   "metadata": {
    "id": "TAuIGm4hdLTZ"
   },
   "outputs": [],
   "source": [
    "# 함수 문제 풀이\n",
    "\n",
    "# 201번\n",
    "def print_coin():\n",
    "  print(\"비트코인\")"
   ]
  },
  {
   "cell_type": "code",
   "execution_count": 125,
   "metadata": {
    "colab": {
     "base_uri": "https://localhost:8080/",
     "height": 35
    },
    "id": "vzeV5QwahiOC",
    "outputId": "cf4bec86-f31a-4537-cae9-1bbe932dd327"
   },
   "outputs": [
    {
     "name": "stdout",
     "output_type": "stream",
     "text": [
      "비트코인\n"
     ]
    }
   ],
   "source": [
    "# 202번\n",
    "print_coin()"
   ]
  },
  {
   "cell_type": "code",
   "execution_count": 127,
   "metadata": {
    "colab": {
     "base_uri": "https://localhost:8080/",
     "height": 108
    },
    "id": "aE0VYtgQhjIk",
    "outputId": "dd6e8e79-d1c1-4b50-f500-66d765fd5a19"
   },
   "outputs": [
    {
     "name": "stdout",
     "output_type": "stream",
     "text": [
      "비트코인\n",
      "비트코인\n",
      "비트코인\n",
      "비트코인\n",
      "비트코인\n"
     ]
    }
   ],
   "source": [
    "# 203번\n",
    "for i in range(5):\n",
    "  print_coin()"
   ]
  },
  {
   "cell_type": "code",
   "execution_count": 128,
   "metadata": {
    "id": "Bi_hzWRChkOi"
   },
   "outputs": [],
   "source": [
    "# 204번\n",
    "def print_coins():\n",
    "  for i in range(5):\n",
    "    print(\"비트코인\")"
   ]
  },
  {
   "cell_type": "code",
   "execution_count": 129,
   "metadata": {
    "colab": {
     "base_uri": "https://localhost:8080/",
     "height": 108
    },
    "id": "5Rc7S8L4icFe",
    "outputId": "146e555b-096c-4211-ca59-93784c64786f"
   },
   "outputs": [
    {
     "name": "stdout",
     "output_type": "stream",
     "text": [
      "비트코인\n",
      "비트코인\n",
      "비트코인\n",
      "비트코인\n",
      "비트코인\n"
     ]
    }
   ],
   "source": [
    "print_coins()"
   ]
  },
  {
   "cell_type": "code",
   "execution_count": 133,
   "metadata": {
    "colab": {
     "base_uri": "https://localhost:8080/",
     "height": 227
    },
    "id": "N6qKDr8ChlHL",
    "outputId": "5355fcf8-68f2-4902-f3d6-349823462e37"
   },
   "outputs": [
    {
     "ename": "NameError",
     "evalue": "ignored",
     "output_type": "error",
     "traceback": [
      "\u001b[0;31m---------------------------------------------------------------------------\u001b[0m",
      "\u001b[0;31mNameError\u001b[0m                                 Traceback (most recent call last)",
      "\u001b[0;32m<ipython-input-133-885993f2b983>\u001b[0m in \u001b[0;36m<module>\u001b[0;34m()\u001b[0m\n\u001b[1;32m      1\u001b[0m \u001b[0;31m# 205번\u001b[0m\u001b[0;34m\u001b[0m\u001b[0;34m\u001b[0m\u001b[0;34m\u001b[0m\u001b[0m\n\u001b[1;32m      2\u001b[0m \u001b[0;34m\u001b[0m\u001b[0m\n\u001b[0;32m----> 3\u001b[0;31m \u001b[0mhello2\u001b[0m\u001b[0;34m(\u001b[0m\u001b[0;34m)\u001b[0m\u001b[0;34m\u001b[0m\u001b[0;34m\u001b[0m\u001b[0m\n\u001b[0m\u001b[1;32m      4\u001b[0m \u001b[0;34m\u001b[0m\u001b[0m\n",
      "\u001b[0;31mNameError\u001b[0m: name 'hello2' is not defined"
     ]
    }
   ],
   "source": [
    "# 205번\n",
    "\n",
    "hello2()\n",
    "\n"
   ]
  },
  {
   "cell_type": "code",
   "execution_count": 134,
   "metadata": {
    "id": "Mz9f_rU8jO_D"
   },
   "outputs": [],
   "source": [
    "\n",
    "def hello2():\n",
    "  print(\"korea\")"
   ]
  },
  {
   "cell_type": "code",
   "execution_count": 137,
   "metadata": {
    "colab": {
     "base_uri": "https://localhost:8080/",
     "height": 108
    },
    "id": "A_bnUzd_hmRD",
    "outputId": "d0d343bf-5bc9-4bcd-efd7-ee92cbffcf8e"
   },
   "outputs": [
    {
     "name": "stdout",
     "output_type": "stream",
     "text": [
      "A\n",
      "B\n",
      "C\n",
      "A\n",
      "B\n"
     ]
    }
   ],
   "source": [
    "# 206번\n",
    "def message():\n",
    "  print(\"A\")\n",
    "  print(\"B\")\n",
    "message()\n",
    "print(\"C\")\n",
    "message()"
   ]
  },
  {
   "cell_type": "code",
   "execution_count": 138,
   "metadata": {
    "colab": {
     "base_uri": "https://localhost:8080/",
     "height": 72
    },
    "id": "VdAIvTOxhnPs",
    "outputId": "4205da90-065b-459d-b6f8-a7733179abcd"
   },
   "outputs": [
    {
     "name": "stdout",
     "output_type": "stream",
     "text": [
      "A\n",
      "C\n",
      "B\n"
     ]
    }
   ],
   "source": [
    "# 207번\n",
    "print(\"A\")\n",
    "\n",
    "def message():\n",
    "  print(\"B\")\n",
    "print(\"C\")\n",
    "message()"
   ]
  },
  {
   "cell_type": "code",
   "execution_count": 140,
   "metadata": {
    "colab": {
     "base_uri": "https://localhost:8080/",
     "height": 108
    },
    "id": "Zy-76Lamj9E4",
    "outputId": "3ca3220c-a413-4213-b72d-0636747eeea5"
   },
   "outputs": [
    {
     "name": "stdout",
     "output_type": "stream",
     "text": [
      "A\n",
      "C\n",
      "B\n",
      "E\n",
      "D\n"
     ]
    }
   ],
   "source": [
    "# 208번\n",
    "print(\"A\")\n",
    "def message1():\n",
    "  print(\"B\")\n",
    "print(\"C\")\n",
    "def message2():\n",
    "  print(\"D\")\n",
    "message1()\n",
    "print(\"E\")\n",
    "message2()"
   ]
  },
  {
   "cell_type": "code",
   "execution_count": 141,
   "metadata": {
    "colab": {
     "base_uri": "https://localhost:8080/",
     "height": 54
    },
    "id": "0Wu20RTVkSp6",
    "outputId": "033d4b75-8eb3-4e66-b03b-30b2b96d2c31"
   },
   "outputs": [
    {
     "name": "stdout",
     "output_type": "stream",
     "text": [
      "B\n",
      "A\n"
     ]
    }
   ],
   "source": [
    "# 209번\n",
    "def message1():\n",
    "  print(\"A\")\n",
    "def message2():\n",
    "  print(\"B\")\n",
    "  message1()\n",
    "message2()"
   ]
  },
  {
   "cell_type": "code",
   "execution_count": 142,
   "metadata": {
    "colab": {
     "base_uri": "https://localhost:8080/",
     "height": 145
    },
    "id": "I7dWCKyKkiEV",
    "outputId": "420a0b8b-90d3-497c-e86b-23c0dc489b65"
   },
   "outputs": [
    {
     "name": "stdout",
     "output_type": "stream",
     "text": [
      "B\n",
      "C\n",
      "B\n",
      "C\n",
      "B\n",
      "C\n",
      "A\n"
     ]
    }
   ],
   "source": [
    "# 210번\n",
    "def message1():\n",
    "  print(\"A\")\n",
    "def message2():\n",
    "  print(\"B\")\n",
    "def message3():\n",
    "  for i in range(3):\n",
    "    message2()\n",
    "    print(\"C\")\n",
    "  message1()\n",
    "message3()"
   ]
  },
  {
   "cell_type": "code",
   "execution_count": 143,
   "metadata": {
    "colab": {
     "base_uri": "https://localhost:8080/",
     "height": 54
    },
    "id": "otQ6p1r0k--F",
    "outputId": "9c613e90-2a3d-4f8b-db80-eba5869d05f9"
   },
   "outputs": [
    {
     "name": "stdout",
     "output_type": "stream",
     "text": [
      "hi\n",
      "hello\n"
     ]
    }
   ],
   "source": [
    "# 211번\n",
    "def ham(moon):\n",
    "  print(moon)\n",
    "\n",
    "ham(\"hi\")\n",
    "ham(\"hello\")"
   ]
  },
  {
   "cell_type": "code",
   "execution_count": 145,
   "metadata": {
    "colab": {
     "base_uri": "https://localhost:8080/",
     "height": 54
    },
    "id": "LmieQuHjlbhm",
    "outputId": "67dadd5a-93fe-4951-a13d-bc1ddfa91e33"
   },
   "outputs": [
    {
     "name": "stdout",
     "output_type": "stream",
     "text": [
      "7\n",
      "15\n"
     ]
    }
   ],
   "source": [
    "# 212\n",
    "def ham(a, b):\n",
    "  print(a+b)\n",
    "ham(3, 4)\n",
    "ham(7, 8)"
   ]
  },
  {
   "cell_type": "code",
   "execution_count": 146,
   "metadata": {
    "id": "eKYW_-VjlooM"
   },
   "outputs": [],
   "source": [
    "# 213번\n",
    "def 함수(문자열):\n",
    "  print(문자열)"
   ]
  },
  {
   "cell_type": "code",
   "execution_count": 149,
   "metadata": {
    "colab": {
     "base_uri": "https://localhost:8080/",
     "height": 173
    },
    "id": "dxrw-t9LmAOM",
    "outputId": "8bcab46d-4ffc-40cb-8b44-abeae4532b7b"
   },
   "outputs": [
    {
     "ename": "TypeError",
     "evalue": "ignored",
     "output_type": "error",
     "traceback": [
      "\u001b[0;31m---------------------------------------------------------------------------\u001b[0m",
      "\u001b[0;31mTypeError\u001b[0m                                 Traceback (most recent call last)",
      "\u001b[0;32m<ipython-input-149-6a17d9725539>\u001b[0m in \u001b[0;36m<module>\u001b[0;34m()\u001b[0m\n\u001b[0;32m----> 1\u001b[0;31m \u001b[0m함수\u001b[0m\u001b[0;34m(\u001b[0m\u001b[0;34m)\u001b[0m\u001b[0;34m\u001b[0m\u001b[0;34m\u001b[0m\u001b[0m\n\u001b[0m",
      "\u001b[0;31mTypeError\u001b[0m: 함수() missing 1 required positional argument: '문자열'"
     ]
    }
   ],
   "source": [
    "함수()"
   ]
  },
  {
   "cell_type": "code",
   "execution_count": 151,
   "metadata": {
    "colab": {
     "base_uri": "https://localhost:8080/",
     "height": 35
    },
    "id": "hwpMXE7LmBYd",
    "outputId": "9e6ca00b-6daa-44ca-f810-80b78961ac27"
   },
   "outputs": [
    {
     "name": "stdout",
     "output_type": "stream",
     "text": [
      "8\n"
     ]
    }
   ],
   "source": [
    "# 214번\n",
    "def ham(a,b):\n",
    "  print(a+b)\n",
    "ham(\"안녕\", 3)"
   ]
  },
  {
   "cell_type": "code",
   "execution_count": 152,
   "metadata": {
    "id": "CdApZ0PQmUjB"
   },
   "outputs": [],
   "source": [
    "# 215번\n",
    "def print_with_smile(string):\n",
    "  print(string + \":D\")"
   ]
  },
  {
   "cell_type": "code",
   "execution_count": 153,
   "metadata": {
    "colab": {
     "base_uri": "https://localhost:8080/",
     "height": 35
    },
    "id": "_XZwU62knLBJ",
    "outputId": "52322553-432c-48e3-8d71-f375f5ceff3e"
   },
   "outputs": [
    {
     "name": "stdout",
     "output_type": "stream",
     "text": [
      "안녕:D\n"
     ]
    }
   ],
   "source": [
    "# 216번\n",
    "print_with_smile(\"안녕\")"
   ]
  },
  {
   "cell_type": "code",
   "execution_count": 157,
   "metadata": {
    "colab": {
     "base_uri": "https://localhost:8080/",
     "height": 35
    },
    "id": "pWTlnKTsnOpT",
    "outputId": "c90694c9-ac4c-420b-b007-d0ae24189e41"
   },
   "outputs": [
    {
     "name": "stdout",
     "output_type": "stream",
     "text": [
      "533.0\n"
     ]
    }
   ],
   "source": [
    "# 217번\n",
    "def print_upper_price(price):\n",
    "  print(price * 1.3)\n",
    "print_upper_price(410)"
   ]
  },
  {
   "cell_type": "code",
   "execution_count": 163,
   "metadata": {
    "colab": {
     "base_uri": "https://localhost:8080/",
     "height": 35
    },
    "id": "THMFrjBJnaPM",
    "outputId": "153ca65b-62bb-46b6-e9ba-9558e15872e2"
   },
   "outputs": [
    {
     "name": "stdout",
     "output_type": "stream",
     "text": [
      "8\n"
     ]
    }
   ],
   "source": [
    "# 218번\n",
    "def print_sum (a, b):\n",
    "  print(a+b)\n",
    "print_sum(3, 5)"
   ]
  },
  {
   "cell_type": "code",
   "execution_count": 165,
   "metadata": {
    "colab": {
     "base_uri": "https://localhost:8080/",
     "height": 90
    },
    "id": "uN70fz8ZnqxJ",
    "outputId": "bb580cf6-6377-47d7-ad0a-ffd64c4e2133"
   },
   "outputs": [
    {
     "name": "stdout",
     "output_type": "stream",
     "text": [
      "20 + 5 = 25\n",
      "20 - 5 = 15\n",
      "20 * 5 = 100\n",
      "20 / 5 = 4.0\n"
     ]
    }
   ],
   "source": [
    "# 219번\n",
    "def print_a_o(a, b):\n",
    "  print(a, \"+\", b, \"=\", a+b)\n",
    "  print(a, \"-\", b, \"=\", a-b)\n",
    "  print(a, \"*\", b, \"=\", a*b)\n",
    "  print(a, \"/\", b, \"=\", a/b)\n",
    "print_a_o(20, 5)"
   ]
  },
  {
   "cell_type": "code",
   "execution_count": 167,
   "metadata": {
    "id": "N_DQs48Vnrqv"
   },
   "outputs": [],
   "source": [
    "# 220번\n",
    "def print_max(a, b, c):\n",
    "  max_val = 0\n",
    "  if a > max_val:\n",
    "    max_val = a\n",
    "  if b > max_val:\n",
    "    max_val = b\n",
    "  if c > max_val:\n",
    "    max_val = c\n",
    "  print(max_val)\n",
    "    "
   ]
  },
  {
   "cell_type": "code",
   "execution_count": 168,
   "metadata": {
    "colab": {
     "base_uri": "https://localhost:8080/",
     "height": 35
    },
    "id": "GqVBx8UfntJE",
    "outputId": "eff9ef1e-4020-4642-a6a7-a8db36a685ac"
   },
   "outputs": [
    {
     "name": "stdout",
     "output_type": "stream",
     "text": [
      "7\n"
     ]
    }
   ],
   "source": [
    "print_max(3, 5, 7)"
   ]
  },
  {
   "cell_type": "code",
   "execution_count": 171,
   "metadata": {
    "colab": {
     "base_uri": "https://localhost:8080/",
     "height": 35
    },
    "id": "EtX0gPK_qV1g",
    "outputId": "04ec3432-c1dc-436f-abaf-b3d2c5c83ea7"
   },
   "outputs": [
    {
     "name": "stdout",
     "output_type": "stream",
     "text": [
      "nohtyp\n"
     ]
    }
   ],
   "source": [
    "# 221\n",
    "def pr(string):\n",
    "  print(string[::-1])\n",
    "pr(\"python\")"
   ]
  },
  {
   "cell_type": "code",
   "execution_count": 173,
   "metadata": {
    "colab": {
     "base_uri": "https://localhost:8080/",
     "height": 35
    },
    "id": "ty3Re5ICtidL",
    "outputId": "1840e270-71ec-4fa4-8aa5-fa1494bc0bb4"
   },
   "outputs": [
    {
     "name": "stdout",
     "output_type": "stream",
     "text": [
      "2.0\n"
     ]
    }
   ],
   "source": [
    "# 222\n",
    "def ps(score):\n",
    "  print(sum(score)/len(score))\n",
    "ps([1, 2, 3])"
   ]
  },
  {
   "cell_type": "code",
   "execution_count": 176,
   "metadata": {
    "colab": {
     "base_uri": "https://localhost:8080/",
     "height": 72
    },
    "id": "VyBpcn27uqAK",
    "outputId": "a86396dc-4b4a-4d9f-e1c2-da221d6efc80"
   },
   "outputs": [
    {
     "name": "stdout",
     "output_type": "stream",
     "text": [
      "2\n",
      "10\n",
      "12\n"
     ]
    }
   ],
   "source": [
    "# 223\n",
    "def pe(list):\n",
    "  for i in list:\n",
    "    if i % 2 == 0:\n",
    "      print(i)\n",
    "pe([1, 3, 2, 10, 12, 11, 15])"
   ]
  },
  {
   "cell_type": "code",
   "execution_count": 177,
   "metadata": {
    "colab": {
     "base_uri": "https://localhost:8080/",
     "height": 72
    },
    "id": "d2EDDdfavxO-",
    "outputId": "2847f45b-123a-459b-b21a-d85691855889"
   },
   "outputs": [
    {
     "name": "stdout",
     "output_type": "stream",
     "text": [
      "이름\n",
      "나이\n",
      "성별\n"
     ]
    }
   ],
   "source": [
    "# 224\n",
    "def pk(dic):\n",
    "  for keys in dic.keys():\n",
    "    print(keys)\n",
    "pk({\"이름\":\"김말똥\", \"나이\":30, \"성별\":0})"
   ]
  },
  {
   "cell_type": "code",
   "execution_count": 185,
   "metadata": {
    "colab": {
     "base_uri": "https://localhost:8080/",
     "height": 35
    },
    "id": "HYOZNp2DwmlN",
    "outputId": "c1a0174a-854f-4319-d5a4-9ea7ad58754c"
   },
   "outputs": [
    {
     "name": "stdout",
     "output_type": "stream",
     "text": [
      "[100, 130, 100, 100]\n"
     ]
    }
   ],
   "source": [
    "# 225번\n",
    "my_dict = {\"10/26\" : [100, 130, 100, 100],\n",
    "          \"10/27\" : [10, 12, 10, 11]}\n",
    "def print_value_by_key (my_dict, key) :\n",
    "    print(my_dict[key])\n",
    "\n",
    "print_value_by_key(my_dict, \"10/26\")"
   ]
  },
  {
   "cell_type": "markdown",
   "metadata": {
    "id": "_xjzUQNayJTn"
   },
   "source": []
  },
  {
   "cell_type": "code",
   "execution_count": 184,
   "metadata": {
    "colab": {
     "base_uri": "https://localhost:8080/",
     "height": 72
    },
    "id": "sqpnq1lIw0y9",
    "outputId": "022d5ee4-f5ba-4d16-d47e-c4df79e037f5"
   },
   "outputs": [
    {
     "name": "stdout",
     "output_type": "stream",
     "text": [
      "아이엠어보\n",
      "이유알어걸\n",
      "\n"
     ]
    }
   ],
   "source": [
    "# 226번\n",
    "def print_5xn(line):\n",
    "    chunk_num = int(len(line) / 5)\n",
    "    for x in range(chunk_num + 1) :\n",
    "        print(line[x * 5: x * 5 + 5])\n",
    "        \n",
    "print_5xn(\"아이엠어보이유알어걸\")\n"
   ]
  },
  {
   "cell_type": "code",
   "execution_count": 191,
   "metadata": {
    "colab": {
     "base_uri": "https://localhost:8080/",
     "height": 90
    },
    "id": "7rx2eGc3xHAT",
    "outputId": "ddfcb8e0-1ad4-48d1-dd0c-2d6ff163a141"
   },
   "outputs": [
    {
     "name": "stdout",
     "output_type": "stream",
     "text": [
      "아이엠\n",
      "어보이\n",
      "유알어\n",
      "걸\n"
     ]
    }
   ],
   "source": [
    "# 227번\n",
    "def print_mxn(line, num):\n",
    "  chuck_num = int(len(line)/num)\n",
    "  for i in range(chuck_num + 1):\n",
    "    print(line[i * num: i * num + num])\n",
    "print_mxn(\"아이엠어보이유알어걸\", 3)"
   ]
  },
  {
   "cell_type": "code",
   "execution_count": 193,
   "metadata": {
    "colab": {
     "base_uri": "https://localhost:8080/",
     "height": 35
    },
    "id": "kr0gxaRyyk-J",
    "outputId": "a4c3243f-5d53-4485-e95a-6bf0983d4073"
   },
   "outputs": [
    {
     "data": {
      "text/plain": [
       "1000000"
      ]
     },
     "execution_count": 193,
     "metadata": {
      "tags": []
     },
     "output_type": "execute_result"
    }
   ],
   "source": [
    "# 228번\n",
    "def calc_monthly_salary(annual_salary):\n",
    "  monthly_pay = int(annual_salary/12)\n",
    "  return monthly_pay\n",
    "calc_monthly_salary(12000000)"
   ]
  },
  {
   "cell_type": "code",
   "execution_count": null,
   "metadata": {
    "id": "UYUEeCbhylu9"
   },
   "outputs": [],
   "source": [
    "# 229~240번까지 추석 숙제\n",
    "# Q1~Q7 숙제"
   ]
  }
 ],
 "metadata": {
  "colab": {
   "name": "ex05.ipynb",
   "provenance": []
  },
  "kernelspec": {
   "display_name": "Python 3",
   "language": "python",
   "name": "python3"
  },
  "language_info": {
   "codemirror_mode": {
    "name": "ipython",
    "version": 3
   },
   "file_extension": ".py",
   "mimetype": "text/x-python",
   "name": "python",
   "nbconvert_exporter": "python",
   "pygments_lexer": "ipython3",
   "version": "3.8.2"
  }
 },
 "nbformat": 4,
 "nbformat_minor": 1
}
