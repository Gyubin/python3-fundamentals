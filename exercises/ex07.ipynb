{
 "cells": [
  {
   "cell_type": "code",
   "execution_count": null,
   "metadata": {
    "id": "aZt2MwWHPBPl"
   },
   "outputs": [],
   "source": [
    "# 255\n",
    "class Human:\n",
    "  def __init__(self, name, age, gender):\n",
    "    self.name = name\n",
    "    self.age = age\n",
    "    self.gender = gender\n",
    "\n",
    "areum = Human(\"아름\", 25, \"여자\")\n"
   ]
  },
  {
   "cell_type": "code",
   "execution_count": null,
   "metadata": {
    "id": "-MAgUBwsPFGQ"
   },
   "outputs": [],
   "source": [
    "# 256\n",
    "class Human:\n",
    "  def __init__(self, name, age, gender):\n",
    "    self.name = name\n",
    "    self.age = age\n",
    "    self.gender = gender\n",
    "\n",
    "areum = Human(\"아름\", 25, \"여자\")\n",
    "\n",
    "print(areum.name)\n",
    "print(areum.age)\n",
    "print(areum.gender)"
   ]
  },
  {
   "cell_type": "code",
   "execution_count": null,
   "metadata": {
    "id": "-Yd-LGP_PF5_"
   },
   "outputs": [],
   "source": [
    "# 257\n",
    "class Human:\n",
    "  def __init__(self, name, age, gender):\n",
    "    self.name = name\n",
    "    self.age = age\n",
    "    self.gender = gender\n",
    "    \n",
    "  def who(self):\n",
    "    print(\"이름:{}, 나이:{}, 성별:{}\".format(self.name, self.age, self.gender))\n",
    "\n",
    "areum = Human(\"아름이\", 25, \"여자\")\n",
    "areum.who() "
   ]
  },
  {
   "cell_type": "code",
   "execution_count": null,
   "metadata": {
    "id": "1QMsEh8DRwdt"
   },
   "outputs": [],
   "source": [
    "# 258\n",
    "class Human:\n",
    "  def __init__(self, name, age, gender):\n",
    "    self.name = name\n",
    "    self.age = age\n",
    "    self.gender = gender\n",
    "    \n",
    "  def who(self):\n",
    "    print(\"이름:{}, 나이:{}, 성별:{}\".format(self.name, self.age, self.gender))\n",
    "\n",
    "  def setInfo(self, name, age, gender):\n",
    "    self.name = name\n",
    "    self.age = age\n",
    "    self.gender = gender\n",
    "\n",
    "areum = Human(\"아름이\", 25, \"여자\")\n",
    "areum.who() \\\n",
    "\n",
    "areum.setInfo(\"모름이\", 0, \"모름\")\n",
    "areum.who()\n",
    "  "
   ]
  },
  {
   "cell_type": "code",
   "execution_count": null,
   "metadata": {
    "id": "EAi5iST6Wmvo"
   },
   "outputs": [],
   "source": [
    "# 259\n",
    "class Human:\n",
    "  def __init__(self, name, age, gender):\n",
    "    self.name = name\n",
    "    self.age = age\n",
    "    self.gender = gender\n",
    "\n",
    "  def __del__(self):\n",
    "    print(\"나의 죽음을 적에게 알리지 말라\")\n",
    "\n",
    "  def who(self):\n",
    "    print(\"이름:{}, 나이:{}, 성별:{}\".format(self.name, self.age, self.gender))\n",
    "\n",
    "  def setInfo(self, name, age, gender):\n",
    "    self.name = name\n",
    "    self.age = age\n",
    "    self.gender = gender\n",
    "\n",
    "areum = Human(\"아름이\", 25, \"여자\")\n",
    "del(areum)\n"
   ]
  },
  {
   "cell_type": "code",
   "execution_count": null,
   "metadata": {
    "id": "FbvCxJHwXvlh"
   },
   "outputs": [],
   "source": [
    "# 260번\n",
    "class OMG:\n",
    "  def print():\n",
    "    print(\"oh my god\")"
   ]
  },
  {
   "cell_type": "code",
   "execution_count": null,
   "metadata": {
    "id": "Fh4UcBQkYDBx"
   },
   "outputs": [],
   "source": [
    "myStock = OMG()\n",
    "myStock.print()"
   ]
  },
  {
   "cell_type": "code",
   "execution_count": null,
   "metadata": {
    "id": "5UxHiHUhYFrZ"
   },
   "outputs": [],
   "source": [
    "# 261\n",
    "class Stock:\n",
    "  pass"
   ]
  },
  {
   "cell_type": "code",
   "execution_count": null,
   "metadata": {
    "id": "TClt-6BqY2lb"
   },
   "outputs": [],
   "source": [
    "# 262\n",
    "class Stock:\n",
    "  def __init__(self, name, code):\n",
    "    self.name = name\n",
    "    self.code = code\n",
    "\n",
    "samsung = Stock(\"삼성전자\", \"005930\")\n",
    "print(samsung.name)\n",
    "print(samsung.code)"
   ]
  },
  {
   "cell_type": "code",
   "execution_count": null,
   "metadata": {
    "id": "-A8We9JjfLc1"
   },
   "outputs": [],
   "source": [
    "# 263 \n",
    "class Stock:\n",
    "  def __init__(self, name, code):\n",
    "    self.name = name\n",
    "    self.code = code\n",
    "\n",
    "  def set_name(self, name):\n",
    "    self.name = name\n",
    "\n",
    "a = Stock(None, None)\n",
    "a.set_name(\"삼성전자\")\n",
    "print(a.name)"
   ]
  },
  {
   "cell_type": "code",
   "execution_count": null,
   "metadata": {
    "id": "yS4360C1aHQN"
   },
   "outputs": [],
   "source": [
    "# 264\n",
    "class Stock:\n",
    "  def __init__(self, name, code):\n",
    "    self.name = name\n",
    "    self.code = code\n",
    "\n",
    "  def set_name(self, name):\n",
    "    self.name = name\n",
    "\n",
    "  def set_code(self, code):\n",
    "    self.code = code\n",
    "\n",
    "a = Stock(None, None)\n",
    "a.set_name(\"삼성전자\")\n",
    "a.set_code(\"005930\")\n",
    "print(a.name)\n",
    "print(a.code)"
   ]
  },
  {
   "cell_type": "code",
   "execution_count": null,
   "metadata": {
    "id": "FeKyqM5cgBQC"
   },
   "outputs": [],
   "source": [
    "# 265\n",
    "class Stock:\n",
    "  def __init__(self, name, code):\n",
    "    self.name = name\n",
    "    self.code = code\n",
    "\n",
    "  def set_name(self, name):\n",
    "    self.name = name\n",
    "\n",
    "  def set_code(self, code):\n",
    "    self.code = code\n",
    "\n",
    "  def get_name(self):\n",
    "    return self.name\n",
    "\n",
    "  def get_code(self):\n",
    "    return self.code\n",
    "\n",
    "samsung = Stock(\"삼성전자\", \"005930\")\n",
    "print(samsung.name)\n",
    "print(samsung.code)\n",
    "print(samsung.get_name())\n",
    "print(samsung.get_code())\n"
   ]
  },
  {
   "cell_type": "code",
   "execution_count": null,
   "metadata": {
    "id": "NJNkunUzjNbb"
   },
   "outputs": [],
   "source": [
    "# 266\n",
    "class Stock:\n",
    "    def __init__(self, name, code, per, pbr, ratio):\n",
    "        self.name = name\n",
    "        self.code = code\n",
    "        self.per = per\n",
    "        self.pbr = pbr\n",
    "        self.ratio = ratio\n",
    "\n",
    "    def set_name(self, name):\n",
    "        self.name = name\n",
    "\n",
    "    def set_code(self, code):\n",
    "        self.code = code\n",
    "\n",
    "    def get_name(self):\n",
    "        return self.name\n",
    "\n",
    "    def get_code(self):\n",
    "        return self.code"
   ]
  },
  {
   "cell_type": "code",
   "execution_count": null,
   "metadata": {
    "id": "IO1ayImNmUbQ"
   },
   "outputs": [],
   "source": [
    "# 267\n",
    "samsung = Stock(\"삼성전자\", \"005930\", 15.79, 1.33, 2.83)\n",
    "print(samsung.name)\n",
    "print(samsung.code)\n",
    "print(samsung.per)\n",
    "print(samsung.pbr)\n",
    "print(samsung.ratio)"
   ]
  },
  {
   "cell_type": "code",
   "execution_count": null,
   "metadata": {
    "id": "W8AEf85vqJMJ"
   },
   "outputs": [],
   "source": [
    "# 268\n",
    "class Stock:\n",
    "    def __init__(self, name, code, per, pbr, ratio):\n",
    "        self.name = name\n",
    "        self.code = code\n",
    "        self.per = per\n",
    "        self.pbr = pbr\n",
    "        self.ratio = ratio\n",
    "\n",
    "    def set_name(self, name):\n",
    "        self.name = name\n",
    "\n",
    "    def set_code(self, code):\n",
    "        self.code = code\n",
    "\n",
    "    def get_name(self):\n",
    "        return self.name\n",
    "\n",
    "    def get_code(self):\n",
    "        return self.code\n",
    "\n",
    "    def set_per(self, per):\n",
    "        self.per = per\n",
    "\n",
    "    def set_pbr(self, pbr):\n",
    "        self.pbr = pbr\n",
    "    \n",
    "    def set_dividend(self, dividend):\n",
    "        self.dividend = dividend"
   ]
  },
  {
   "cell_type": "code",
   "execution_count": null,
   "metadata": {
    "id": "3bszaqp4t7HF"
   },
   "outputs": [],
   "source": [
    "# 269\n",
    "samsung = Stock(\"삼성전자\", \"005930\", 15.79, 1.33, 2.83)\n",
    "print(samsung.per)\n",
    "samsung.set_per(12.75)\n",
    "print(samsung.per)"
   ]
  },
  {
   "cell_type": "code",
   "execution_count": null,
   "metadata": {
    "id": "jfldmpFauJEx"
   },
   "outputs": [],
   "source": [
    "# 270\n",
    "kind = []\n",
    "samsung = Stock(\"삼성전자\", \"005930\", 15.79, 1.33, 2.83)\n",
    "hyundai = Stock(\"현대차\", \"005380\", 8.70, 0.35, 4.27)\n",
    "LG = Stock(\"LG전자\", \"066570\", 317.35, 0.69, 1.37)\n",
    "\n",
    "kind.append(samsung)\n",
    "kind.append(hyundai)\n",
    "kind.append(LG)\n",
    "\n",
    "for i in kind:\n",
    "  print(i.code, i.per)"
   ]
  },
  {
   "cell_type": "code",
   "execution_count": null,
   "metadata": {
    "id": "FxV1zv72xYix"
   },
   "outputs": [],
   "source": [
    "# 271\n",
    "import random\n",
    "\n",
    "class Account:\n",
    "  def __init__(self, name, balance):\n",
    "    self.name = name\n",
    "    self.balance = balance\n",
    "    self.bank = \"SCBank\"\n",
    "    num1 = random.randint(0, 999)\n",
    "    num2 = random.randint(0, 99)\n",
    "    num3 = random.randint(0, 999999)\n",
    "\n",
    "    num1 = str(num1).zfill(3)\n",
    "    num2 = str(num2).zfill(2) \n",
    "    num3 = str(num3).zfill(6)\n",
    "\n",
    "    self.account_number = num1 + \"-\" + num2 + \"-\" + num3\n",
    "    "
   ]
  },
  {
   "cell_type": "code",
   "execution_count": null,
   "metadata": {
    "id": "CR_ZI6SIy6df"
   },
   "outputs": [],
   "source": [
    "Lee = Account(\"이길준\", 100) # 초기잔액 100원\n",
    "print(Lee.name)\n",
    "print(Lee.balance)\n",
    "print(Lee.bank)\n",
    "print(Lee.account_number)"
   ]
  },
  {
   "cell_type": "code",
   "execution_count": null,
   "metadata": {
    "id": "ZhFsEeKfzOeU"
   },
   "outputs": [],
   "source": [
    "# 272 \n",
    "import random\n",
    "\n",
    "class Account:\n",
    "\n",
    "  account_count = 0\n",
    "  \n",
    "  def __init__(self, name, balance):\n",
    "    self.name = name\n",
    "    self.balance = balance\n",
    "    self.bank = \"SCBank\"\n",
    "    num1 = random.randint(0, 999)\n",
    "    num2 = random.randint(0, 99)\n",
    "    num3 = random.randint(0, 999999)\n",
    "\n",
    "    num1 = str(num1).zfill(3)\n",
    "    num2 = str(num2).zfill(2) \n",
    "    num3 = str(num3).zfill(6)\n",
    "\n",
    "    self.account_number = num1 + \"-\" + num2 + \"-\" + num3\n",
    "    \n",
    "    Account.account_count += 1\n",
    "  \n",
    "Lee = Account(\"이길준\", 100)\n",
    "print(Account.account_count)\n",
    "\n",
    "Hong = Account(\"홍길동\", 300)\n",
    "print(Account.account_count)\n"
   ]
  },
  {
   "cell_type": "code",
   "execution_count": null,
   "metadata": {
    "id": "ybal3V1f1ptZ"
   },
   "outputs": [],
   "source": [
    "# 273\n",
    "import random\n",
    "\n",
    "class Account:\n",
    "\n",
    "  account_count = 0\n",
    "  \n",
    "  def __init__(self, name, balance):\n",
    "    self.name = name\n",
    "    self.balance = balance\n",
    "    self.bank = \"SCBank\"\n",
    "    num1 = random.randint(0, 999)\n",
    "    num2 = random.randint(0, 99)\n",
    "    num3 = random.randint(0, 999999)\n",
    "\n",
    "    num1 = str(num1).zfill(3)\n",
    "    num2 = str(num2).zfill(2) \n",
    "    num3 = str(num3).zfill(6)\n",
    "\n",
    "    self.account_number = num1 + \"-\" + num2 + \"-\" + num3\n",
    "    Account.account_count += 1\n",
    "  \n",
    "  def get_account_num(cls):\n",
    "    print(cls.account_count)\n",
    "\n",
    "Lee = Account(\"이길준\", 100) \n",
    "Hong = Account(\"홍길동\", 300)\n",
    "Long = Account(\"롱길동\", 300)\n",
    "\n",
    "Lee.get_account_num() "
   ]
  },
  {
   "cell_type": "code",
   "execution_count": null,
   "metadata": {
    "id": "AKyu_CPY7Bqf"
   },
   "outputs": [],
   "source": [
    "# 274\n",
    "\n",
    "import random\n",
    "\n",
    "class Account:\n",
    "\n",
    "  account_count = 0\n",
    "  \n",
    "  def __init__(self, name, balance):\n",
    "    self.name = name\n",
    "    self.balance = balance\n",
    "    self.bank = \"SCBank\"\n",
    "    num1 = random.randint(0, 999)\n",
    "    num2 = random.randint(0, 99)\n",
    "    num3 = random.randint(0, 999999)\n",
    "\n",
    "    num1 = str(num1).zfill(3)\n",
    "    num2 = str(num2).zfill(2) \n",
    "    num3 = str(num3).zfill(6)\n",
    "\n",
    "    self.account_number = num1 + \"-\" + num2 + \"-\" + num3\n",
    "    Account.account_count += 1\n",
    "  \n",
    "  def get_account_num(cls):\n",
    "    print(cls.account_count)\n",
    "\n",
    "  def deposit(self, amount):\n",
    "    if amount >= 1:\n",
    "      self.balance += amount\n",
    "\n",
    "\n",
    "Lee = Account(\"이길준\", 100) \n",
    "Hong = Account(\"홍길동\", 0)\n",
    "\n",
    "Lee.deposit(100)\n",
    "print(Lee.balance)"
   ]
  },
  {
   "cell_type": "code",
   "execution_count": null,
   "metadata": {
    "id": "qfk148pd9I9E"
   },
   "outputs": [],
   "source": [
    "# 275 \n",
    "import random\n",
    "\n",
    "class Account:\n",
    "\n",
    "  account_count = 0\n",
    "  \n",
    "  def __init__(self, name, balance):\n",
    "    self.name = name\n",
    "    self.balance = balance\n",
    "    self.bank = \"SCBank\"\n",
    "    num1 = random.randint(0, 999)\n",
    "    num2 = random.randint(0, 99)\n",
    "    num3 = random.randint(0, 999999)\n",
    "\n",
    "    num1 = str(num1).zfill(3)\n",
    "    num2 = str(num2).zfill(2) \n",
    "    num3 = str(num3).zfill(6)\n",
    "\n",
    "    self.account_number = num1 + \"-\" + num2 + \"-\" + num3\n",
    "    Account.account_count += 1\n",
    "  \n",
    "  def get_account_num(cls):\n",
    "    print(cls.account_count)\n",
    "\n",
    "  def deposit(self, amount):\n",
    "    if amount >= 1:\n",
    "      self.balance += amount\n",
    "  \n",
    "\n",
    "  def withdraw(self, amount):\n",
    "      if self.balance > amount:\n",
    "          self.balance -= amount\n",
    "      else:\n",
    "        print(\"출금불가능\")\n",
    "\n",
    "Lee = Account(\"이길준\", 100) \n",
    "Lee.withdraw(540)\n",
    "print(Lee.balance)"
   ]
  },
  {
   "cell_type": "code",
   "execution_count": null,
   "metadata": {
    "id": "CsF3UdgL_uQ4"
   },
   "outputs": [],
   "source": [
    "# 276\n",
    "import random\n",
    "\n",
    "class Account:\n",
    "\n",
    "  account_count = 0\n",
    "  \n",
    "  def __init__(self, name, balance):\n",
    "    self.name = name\n",
    "    self.balance = balance\n",
    "    self.bank = \"SCBank\"\n",
    "    num1 = random.randint(0, 999)\n",
    "    num2 = random.randint(0, 99)\n",
    "    num3 = random.randint(0, 999999)\n",
    "\n",
    "    num1 = str(num1).zfill(3)\n",
    "    num2 = str(num2).zfill(2) \n",
    "    num3 = str(num3).zfill(6)\n",
    "\n",
    "    self.account_number = num1 + \"-\" + num2 + \"-\" + num3\n",
    "    Account.account_count += 1\n",
    "  \n",
    "  def get_account_num(cls):\n",
    "    print(cls.account_count)\n",
    "\n",
    "  def deposit(self, amount):\n",
    "    if amount >= 1:\n",
    "      self.balance += amount\n",
    "  \n",
    "  def withdraw(self, amount):\n",
    "      if self.balance > amount:\n",
    "          self.balance -= amount\n",
    "      else:\n",
    "        print(\"출금불가능\")\n",
    "\n",
    "  def display_info(self):\n",
    "    print(\"은행명:\", self.bank)\n",
    "    print(\"예금주:\", self.name)\n",
    "    print(\"계좌번호:\", self.account_number)\n",
    "    print(\"잔고:\", self.balance)\n",
    "\n",
    "\n",
    "Lee = Account(\"이길준\", 10000)\n",
    "Lee.display_info()    "
   ]
  },
  {
   "cell_type": "code",
   "execution_count": null,
   "metadata": {
    "id": "oOg6wGB8AMO4"
   },
   "outputs": [],
   "source": []
  }
 ],
 "metadata": {
  "colab": {
   "name": "ex07.ipynb",
   "private_outputs": true,
   "provenance": []
  },
  "kernelspec": {
   "display_name": "Python 3",
   "language": "python",
   "name": "python3"
  },
  "language_info": {
   "codemirror_mode": {
    "name": "ipython",
    "version": 3
   },
   "file_extension": ".py",
   "mimetype": "text/x-python",
   "name": "python",
   "nbconvert_exporter": "python",
   "pygments_lexer": "ipython3",
   "version": "3.8.2"
  }
 },
 "nbformat": 4,
 "nbformat_minor": 1
}
