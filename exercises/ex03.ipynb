{
 "cells": [
  {
   "cell_type": "code",
   "execution_count": null,
   "metadata": {
    "colab": {},
    "colab_type": "code",
    "id": "_jF3dI7dbtA-"
   },
   "outputs": [],
   "source": [
    "# 4일차 \n",
    "# 반복문 조건문 문자열 변수 문제풀이"
   ]
  },
  {
   "cell_type": "code",
   "execution_count": null,
   "metadata": {
    "colab": {},
    "colab_type": "code",
    "id": "CkftFJ7eb02h"
   },
   "outputs": [],
   "source": [
    "# 125번\n",
    "\n",
    "number = input(\"휴대전화 번호 입력:\")\n",
    "num = number.split(\"-\")[0]\n",
    "if num == \"011\":\n",
    "  com = \"SKT\"\n",
    "elif num == \"016\":\n",
    "  com = \"KT\"\n",
    "elif num == \"019\":\n",
    "  com = \"LGU\"\n",
    "else:\n",
    "  com = \"알수없음\"\n",
    "print(f\"당신은 {com} 사용자 입니다.\")"
   ]
  },
  {
   "cell_type": "code",
   "execution_count": null,
   "metadata": {
    "colab": {},
    "colab_type": "code",
    "id": "8SCyKgJKd5nD"
   },
   "outputs": [],
   "source": [
    "# 126번\n",
    "post_num = input(\"우편번호: \")\n",
    "post_num = post_num[:3]\n",
    "if post_num in [\"010\", \"011\", \"012\"]:\n",
    "    print(\"강북구\")\n",
    "elif post_num in [\"014\", \"015\", \"016\"]:\n",
    "    print(\"도봉구\")\n",
    "else:\n",
    "    print(\"노원구\")"
   ]
  },
  {
   "cell_type": "code",
   "execution_count": null,
   "metadata": {
    "colab": {},
    "colab_type": "code",
    "id": "y5zCc-OtflP5"
   },
   "outputs": [],
   "source": [
    "# 127번 \n",
    "number = input(\"주민번호:\")\n",
    "number = number.split(\"-\")[1]\n",
    "if number[0] == \"1\" or number[0] == \"3\":\n",
    "  print(\"남\")\n",
    "else:\n",
    "  print(\"여\")"
   ]
  },
  {
   "cell_type": "code",
   "execution_count": null,
   "metadata": {
    "colab": {},
    "colab_type": "code",
    "id": "id2Q6y8Xgg1U"
   },
   "outputs": [],
   "source": [
    "# 128번\n",
    "front = input(\"주민번호:\")\n",
    "back = front.split(\"-\")[1]\n",
    "if 0 <= int(back[1:3]) <= 9:\n",
    "  print(\"서울입니다.\")\n",
    "else:\n",
    "  print(\"서울이 아닙니다.\")"
   ]
  },
  {
   "cell_type": "code",
   "execution_count": null,
   "metadata": {
    "colab": {},
    "colab_type": "code",
    "id": "k1F7Ovg2hOm2"
   },
   "outputs": [],
   "source": [
    "# 129번\n",
    "num = input(\"주민등록번호: \")\n",
    "Calc_1 = int(num[0]) * 2 + int(num[1]) * 3 + int(num[2]) * 4 + int(num[3]) * 5 + int(num[4]) * 6 + \\\n",
    "        int(num[5]) * 7 + int(num[7]) * 8 + int(num[8]) * 9 + int(num[9]) * 2 + int(num[10])* 3 + \\\n",
    "        int(num[11])* 4 + int(num[12]) * 5\n",
    "print(Calc_1)\n",
    "Calc_2 = 11 - (Calc_1 % 11)\n",
    "print(Calc_2)\n",
    "Calc_3 = str(Calc_2)\n",
    "\n",
    "if num[-1] == Calc_3[-1]:\n",
    "    print(\"유효한 주민등록번호입니다.\")\n",
    "else:\n",
    "    print(\"유효하지 않은 주민등록번호입니다.\")"
   ]
  },
  {
   "cell_type": "code",
   "execution_count": null,
   "metadata": {
    "colab": {},
    "colab_type": "code",
    "id": "5Cfk8ycQoAcg"
   },
   "outputs": [],
   "source": [
    "#129번\n",
    "num = input(\"주민번호 유효성 검사 >> \")\n",
    "zip_chk1 = num.split(\"-\")[0]\n",
    "zip_chk2 = num.split(\"-\")[1]\n",
    "final_chk = num.split(\"-\")[1][-1:]\n",
    "# 1차 계산\n",
    "calcu_1 = (int(zip_chk1[0])*2) + (int(zip_chk1[1])*3) + (int(zip_chk1[2])*4) + (int(zip_chk1[3])*5) + (int(zip_chk1[4])*6) + (int(zip_chk1[5])*7) + (int(zip_chk2[0])*8) + (int(zip_chk2[1])*9) + (int(zip_chk2[2])*2) + (int(zip_chk2[3])*3) + (int(zip_chk2[4])*4) + (int(zip_chk2[5])*5)\n",
    "calcu_2 = calcu_1 % 11\n",
    "#2차 계산\n",
    "calcu_3 = 11 - calcu_2\n",
    "if calcu_3 == int(final_chk):\n",
    "  print(\"유효한 주민번호입니다\")\n",
    "else:\n",
    "  print(\"유효하지 않은 주민번호입니다\")\n"
   ]
  },
  {
   "cell_type": "code",
   "execution_count": null,
   "metadata": {
    "colab": {},
    "colab_type": "code",
    "id": "752NLfl9hPxz"
   },
   "outputs": [],
   "source": [
    "# 130번\n",
    "import requests\n",
    "btc = requests.get(\"https://api.bithumb.com/public/ticker/\").json()['data']\n",
    "\n",
    "print(btc)\n",
    "\n",
    "Dynamic = float(btc['max_price']) - float(btc['min_price'])\n",
    "Now_price = float(btc['opening_price'])\n",
    "Max_price = float(btc['max_price'])\n",
    "\n",
    "if (Now_price+Dynamic) > Max_price:\n",
    "    print(\"상승장\")\n",
    "else:\n",
    "    print(\"하락장\")"
   ]
  },
  {
   "cell_type": "code",
   "execution_count": null,
   "metadata": {
    "colab": {},
    "colab_type": "code",
    "id": "comagInkouuU"
   },
   "outputs": [],
   "source": [
    "# 131번\n",
    "fruit = [\"사과\", \"귤\", \"수박\"]\n",
    "for i in fruit:\n",
    "  print(fruit)"
   ]
  },
  {
   "cell_type": "code",
   "execution_count": null,
   "metadata": {
    "colab": {},
    "colab_type": "code",
    "id": "gDuq2o4Gvad3"
   },
   "outputs": [],
   "source": [
    "# 132번\n",
    "fruit = [\"사과\", \"귤\", \"수박\"]\n",
    "for i in fruit:\n",
    "  print(\"####\")"
   ]
  },
  {
   "cell_type": "code",
   "execution_count": null,
   "metadata": {
    "colab": {},
    "colab_type": "code",
    "id": "IcCADZzfvbXP"
   },
   "outputs": [],
   "source": [
    "# 133번\n",
    "print(\"A\")\n",
    "print(\"B\")\n",
    "print(\"C\")"
   ]
  },
  {
   "cell_type": "code",
   "execution_count": null,
   "metadata": {
    "colab": {},
    "colab_type": "code",
    "id": "5auTPZBuvcc-"
   },
   "outputs": [],
   "source": [
    "# 134번\n",
    "print(\"out:\", \"A\")\n",
    "print(\"out:\", \"B\")\n",
    "print(\"out:\", \"C\")"
   ]
  },
  {
   "cell_type": "code",
   "execution_count": null,
   "metadata": {
    "colab": {},
    "colab_type": "code",
    "id": "vL6382JivdrX"
   },
   "outputs": [],
   "source": [
    "# 135번\n",
    "m = \"A\"\n",
    "b = m.lower()\n",
    "print(\"변환:\", b)\n",
    "m = \"B\"\n",
    "b = m.lower()\n",
    "print(\"변환:\", b)\n",
    "m = \"C\"\n",
    "b = m.lower()\n",
    "print(\"변환:\", b)"
   ]
  },
  {
   "cell_type": "code",
   "execution_count": null,
   "metadata": {
    "colab": {},
    "colab_type": "code",
    "id": "yRCFP16Sw9UU"
   },
   "outputs": [],
   "source": [
    "# 136번\n",
    "L = [10, 20, 30]\n",
    "for i in L:\n",
    "  print(i)"
   ]
  },
  {
   "cell_type": "code",
   "execution_count": null,
   "metadata": {
    "colab": {},
    "colab_type": "code",
    "id": "-yK1h9zsxOcS"
   },
   "outputs": [],
   "source": [
    "# 137번\n",
    "for i in [10, 20, 30]:\n",
    "  print(i)"
   ]
  },
  {
   "cell_type": "code",
   "execution_count": null,
   "metadata": {
    "colab": {},
    "colab_type": "code",
    "id": "ZodeAnmPxtRt"
   },
   "outputs": [],
   "source": [
    "# 138번\n",
    "for i in [10, 20, 30]:\n",
    "  print(i)\n",
    "  print(\"--------\")"
   ]
  },
  {
   "cell_type": "code",
   "execution_count": null,
   "metadata": {
    "colab": {},
    "colab_type": "code",
    "id": "W3u7m_l8x751"
   },
   "outputs": [],
   "source": [
    "# 139번\n",
    "print(\"++++\")\n",
    "for i in [10, 20, 30]:\n",
    "  print(i)"
   ]
  },
  {
   "cell_type": "code",
   "execution_count": null,
   "metadata": {
    "colab": {},
    "colab_type": "code",
    "id": "9siy1iTmyc4q"
   },
   "outputs": [],
   "source": [
    "# 140번\n",
    "for i in [1, 2, 3, 4]:\n",
    "  print(\"-----\")\n"
   ]
  },
  {
   "cell_type": "code",
   "execution_count": null,
   "metadata": {
    "colab": {},
    "colab_type": "code",
    "id": "y_t8zxCzyoRq"
   },
   "outputs": [],
   "source": [
    "# 141번\n",
    "L = [100, 200, 300]\n",
    "for i in L:\n",
    "  print(i + 10)"
   ]
  },
  {
   "cell_type": "code",
   "execution_count": null,
   "metadata": {
    "colab": {},
    "colab_type": "code",
    "id": "EVigQ4gBzI4G"
   },
   "outputs": [],
   "source": [
    "# 142번\n",
    "L = [\"김밥\", '라면', \"튀김\"]\n",
    "for i in L:\n",
    "  print(\"오늘의 메뉴 : \", i)"
   ]
  },
  {
   "cell_type": "code",
   "execution_count": null,
   "metadata": {
    "colab": {},
    "colab_type": "code",
    "id": "Vjv8x6-XzYrc"
   },
   "outputs": [],
   "source": [
    "# 143번\n",
    "L = [\"SK\", \"Sam\", \"LG\"]\n",
    "for i in L:\n",
    "  length = len(i)\n",
    "  print(length)"
   ]
  },
  {
   "cell_type": "code",
   "execution_count": null,
   "metadata": {
    "colab": {},
    "colab_type": "code",
    "id": "SIs3N9fVz6DR"
   },
   "outputs": [],
   "source": [
    "# 144번\n",
    "L = [\"dog\", \"cat\", \"parrot\"]\n",
    "for i in L:\n",
    "  print(i, len(i))"
   ]
  },
  {
   "cell_type": "code",
   "execution_count": null,
   "metadata": {
    "colab": {},
    "colab_type": "code",
    "id": "IpJYP53f0ueG"
   },
   "outputs": [],
   "source": [
    "# 145번\n",
    "name = [\"dog\", \"cat\", \"parrot\"]\n",
    "for i in name:\n",
    "  print(i[0])\n"
   ]
  },
  {
   "cell_type": "code",
   "execution_count": null,
   "metadata": {
    "colab": {},
    "colab_type": "code",
    "id": "ZYU1WsaG1iiP"
   },
   "outputs": [],
   "source": [
    "# 146번\n",
    "L = [1, 2, 3]\n",
    "for i in L:\n",
    "  print(\"3 x\", i)"
   ]
  },
  {
   "cell_type": "code",
   "execution_count": null,
   "metadata": {
    "colab": {},
    "colab_type": "code",
    "id": "ZNS4U-vI1r1k"
   },
   "outputs": [],
   "source": [
    "# 147번\n",
    "L = [1, 2, 3]\n",
    "for i in L:\n",
    "  print(\"3 x \", i, \"=\", 3 * i)"
   ]
  },
  {
   "cell_type": "code",
   "execution_count": null,
   "metadata": {
    "colab": {},
    "colab_type": "code",
    "id": "4-nJ6dXB2KTj"
   },
   "outputs": [],
   "source": [
    "# 148번\n",
    "l = [\"가\", \"나\", \"다\", \"라\"]\n",
    "l = l[1:]\n",
    "for i in l:\n",
    "  print(i)"
   ]
  },
  {
   "cell_type": "code",
   "execution_count": null,
   "metadata": {
    "colab": {},
    "colab_type": "code",
    "id": "PiXaFLZS2nde"
   },
   "outputs": [],
   "source": [
    "# 149번\n",
    "l = [\"가\", \"나\", \"다\", \"라\"]\n",
    "for i in l[: :2]:\n",
    "  print(i)"
   ]
  },
  {
   "cell_type": "code",
   "execution_count": null,
   "metadata": {
    "colab": {},
    "colab_type": "code",
    "id": "0Y5Ti0vZ3FxQ"
   },
   "outputs": [],
   "source": [
    "# 150번\n",
    "l = [\"가\", \"나\", \"다\", \"라\"]\n",
    "for i in l[: :-1]:\n",
    "  print(i)"
   ]
  },
  {
   "cell_type": "code",
   "execution_count": null,
   "metadata": {
    "colab": {},
    "colab_type": "code",
    "id": "lT1dtuDw3NG8"
   },
   "outputs": [],
   "source": [
    "string = [\"가\",\"나\",\"다\",\"라\"]\n",
    "for i in range(len(string)):\n",
    "  print(string[len(string)-1-i])\n"
   ]
  },
  {
   "cell_type": "code",
   "execution_count": null,
   "metadata": {
    "colab": {},
    "colab_type": "code",
    "id": "_k8RCJ8b4M-f"
   },
   "outputs": [],
   "source": [
    "# 151번\n",
    "L = [3, -20, -3, 44]\n",
    "for i in L:\n",
    "  if i < 0:\n",
    "    print(i)"
   ]
  },
  {
   "cell_type": "code",
   "execution_count": null,
   "metadata": {
    "colab": {},
    "colab_type": "code",
    "id": "8uTM2eh_8B8e"
   },
   "outputs": [],
   "source": [
    "# 152번\n",
    "L = [3, 100, 23, 44]\n",
    "for i in L:\n",
    "  if i % 3 == 0:\n",
    "    print(i)"
   ]
  },
  {
   "cell_type": "code",
   "execution_count": null,
   "metadata": {
    "colab": {},
    "colab_type": "code",
    "id": "7LbdciSm8jqC"
   },
   "outputs": [],
   "source": [
    "# 153번\n",
    "리스트 = [13, 21, 12, 14, 30, 18]\n",
    "for 변수 in 리스트:\n",
    "  if (변수 < 20) and (변수 % 3 == 0):\n",
    "    print(변수)"
   ]
  },
  {
   "cell_type": "code",
   "execution_count": null,
   "metadata": {
    "colab": {},
    "colab_type": "code",
    "id": "XGSien3f8v7b"
   },
   "outputs": [],
   "source": [
    "# 154번\n",
    "리스트 = [\"I\", \"study\", \"python\", \"language\", \"!\"]\n",
    "for 변수 in 리스트:\n",
    "  if len(변수) >= 3:\n",
    "    print(변수)"
   ]
  },
  {
   "cell_type": "code",
   "execution_count": null,
   "metadata": {
    "colab": {},
    "colab_type": "code",
    "id": "IuXOyVRY8w0H"
   },
   "outputs": [],
   "source": [
    "# 155번\n",
    "리스트 = [\"A\", \"b\", \"c\", \"D\"]\n",
    "for 변수 in 리스트:\n",
    "  if 변수.isupper():\n",
    "    print(변수)"
   ]
  },
  {
   "cell_type": "code",
   "execution_count": null,
   "metadata": {
    "colab": {},
    "colab_type": "code",
    "id": "NmZuFiqv8yKX"
   },
   "outputs": [],
   "source": [
    "# 156번\n",
    "리스트 = [\"A\", \"b\", \"c\", \"D\"]\n",
    "for 변수 in 리스트:\n",
    "  if 변수.isupper() != True:\n",
    "    print(변수)"
   ]
  },
  {
   "cell_type": "code",
   "execution_count": null,
   "metadata": {
    "colab": {},
    "colab_type": "code",
    "id": "7O0r6BLa-xNN"
   },
   "outputs": [],
   "source": [
    "# 157번\n",
    "l = ['dog', 'cat', 'parrot']\n",
    "for i in l:\n",
    "  f = i[0]              # 1)\n",
    "  big = f.upper()     # 2)\n",
    "  print(big + i[1:])      # 3)"
   ]
  },
  {
   "cell_type": "code",
   "execution_count": null,
   "metadata": {
    "colab": {},
    "colab_type": "code",
    "id": "NsVNlIJ8-9AX"
   },
   "outputs": [],
   "source": [
    "# 158번\n",
    "리스트 = ['hello.py', 'ex01.py', 'intro.hwp']\n",
    "for 변수 in 리스트:\n",
    "  split = 변수.split(\".\")\n",
    "  print(split[0])  "
   ]
  },
  {
   "cell_type": "code",
   "execution_count": null,
   "metadata": {
    "colab": {},
    "colab_type": "code",
    "id": "gdHvZhhC_eiD"
   },
   "outputs": [],
   "source": [
    "# 159번\n",
    "l = ['intra.h', 'intra.c', 'define.h', 'run.py']\n",
    "for i in l:\n",
    "  split = i.split(\".\")\n",
    "  if split[1] == \"h\":\n",
    "    print(i)"
   ]
  },
  {
   "cell_type": "code",
   "execution_count": null,
   "metadata": {
    "colab": {},
    "colab_type": "code",
    "id": "0nQJliOTA23d"
   },
   "outputs": [],
   "source": [
    "# 160번\n",
    "l = ['intra.h', 'intra.c', 'define.h', 'run.py']\n",
    "for i in l:\n",
    "  split = i.split(\".\")\n",
    "  if (split[1] == \"h\") or (split[1] == \"c\"):\n",
    "    print(i)"
   ]
  },
  {
   "cell_type": "code",
   "execution_count": null,
   "metadata": {
    "colab": {},
    "colab_type": "code",
    "id": "TLahbKyzA3-Y"
   },
   "outputs": [],
   "source": [
    "# 161번\n",
    "for i in range(100):\n",
    "  print(i)"
   ]
  },
  {
   "cell_type": "code",
   "execution_count": null,
   "metadata": {
    "colab": {},
    "colab_type": "code",
    "id": "nDogD0SAB1Iu"
   },
   "outputs": [],
   "source": [
    "# 162번\n",
    "for i in range(2002, 2051, 4): # 3번째 파라미터는 증감폭 결정합니다.\n",
    "  print (i)"
   ]
  },
  {
   "cell_type": "code",
   "execution_count": null,
   "metadata": {
    "colab": {},
    "colab_type": "code",
    "id": "--x5DfbJCIE8"
   },
   "outputs": [],
   "source": [
    "# 163번\n",
    "for i in range(3, 31, 3): # 3번째 파라미터는 증감폭 결정합니다.\n",
    "  print (i)"
   ]
  },
  {
   "cell_type": "code",
   "execution_count": null,
   "metadata": {
    "colab": {},
    "colab_type": "code",
    "id": "zmNnemZrCb9g"
   },
   "outputs": [],
   "source": [
    "# 164번\n",
    "\n",
    "#for i in range(100):\n",
    "#  print (99 - i)\n",
    "\n",
    "for i in range(99, 0, -1):\n",
    "  print(i)"
   ]
  },
  {
   "cell_type": "code",
   "execution_count": null,
   "metadata": {
    "colab": {},
    "colab_type": "code",
    "id": "rvOoqei8DOZw"
   },
   "outputs": [],
   "source": [
    "# 165번\n",
    "for i in range(10):\n",
    "  print(i/10)"
   ]
  },
  {
   "cell_type": "code",
   "execution_count": null,
   "metadata": {
    "colab": {},
    "colab_type": "code",
    "id": "vyfD9j54Djsp"
   },
   "outputs": [],
   "source": [
    "# 166번\n",
    "num = 3\n",
    "for i in range(1, 10, 1):\n",
    "  print(num, \"x\", i, \"=\", num*i)"
   ]
  },
  {
   "cell_type": "code",
   "execution_count": null,
   "metadata": {
    "colab": {},
    "colab_type": "code",
    "id": "nCguwJzxEQKk"
   },
   "outputs": [],
   "source": [
    "# 167번\n",
    "num = 3\n",
    "for i in range(2, 11, 2):\n",
    "  print(num, \"x\", i, \"=\", num*i)"
   ]
  },
  {
   "cell_type": "code",
   "execution_count": null,
   "metadata": {
    "colab": {},
    "colab_type": "code",
    "id": "YFlC_ydhE1uj"
   },
   "outputs": [],
   "source": [
    "# 168번\n",
    "sum = 0\n",
    "for i in range(1, 11):\n",
    "  sum += i\n",
    "print(sum)"
   ]
  },
  {
   "cell_type": "code",
   "execution_count": null,
   "metadata": {
    "colab": {},
    "colab_type": "code",
    "id": "L7HQJXZwFGvH"
   },
   "outputs": [],
   "source": [
    "# 169번\n",
    "sum = 0\n",
    "for i in range(1, 11, 2):\n",
    "  sum += i\n",
    "print(sum)"
   ]
  },
  {
   "cell_type": "code",
   "execution_count": null,
   "metadata": {
    "colab": {},
    "colab_type": "code",
    "id": "F_-1qfR5Fil-"
   },
   "outputs": [],
   "source": [
    "# 170번\n",
    "sum = 1\n",
    "for i in range(1, 11):\n",
    "  sum *= i\n",
    "print(sum)"
   ]
  },
  {
   "cell_type": "code",
   "execution_count": null,
   "metadata": {
    "colab": {},
    "colab_type": "code",
    "id": "jEmQk8CwGFdW"
   },
   "outputs": [],
   "source": [
    "# 171번\n",
    "price_list = [32100, 32150, 32000, 32500]\n",
    "\n",
    "for i in range(4):\n",
    "  print(price_list[i])\n",
    "print(\"\\n\")\n",
    "for i in range(len(price_list)):\n",
    "  print(price_list[i])"
   ]
  },
  {
   "cell_type": "code",
   "execution_count": null,
   "metadata": {
    "colab": {},
    "colab_type": "code",
    "id": "imv_xJHIKyNV"
   },
   "outputs": [],
   "source": [
    "# 172번\n",
    "price_list = [32100, 32150, 32000, 32500]\n",
    "for i in range(len(price_list)) :\n",
    "    print(i, price_list[i])\n"
   ]
  },
  {
   "cell_type": "code",
   "execution_count": null,
   "metadata": {
    "colab": {},
    "colab_type": "code",
    "id": "wQCnVEJKKy--"
   },
   "outputs": [],
   "source": [
    "# 173번\n",
    "for i in range(len(price_list)):\n",
    "    print(3 - i, price_list[i])\n",
    "\n",
    "for i in range(len(price_list)):\n",
    "    print((len(price_list) - 1) - i, price_list[i])"
   ]
  },
  {
   "cell_type": "code",
   "execution_count": null,
   "metadata": {
    "colab": {},
    "colab_type": "code",
    "id": "ljDMEgzQKzxt"
   },
   "outputs": [],
   "source": [
    "# 174번\n",
    "for i in range(1, 4):\n",
    "    print(90 + 10 * i, price_list[i])"
   ]
  },
  {
   "cell_type": "code",
   "execution_count": null,
   "metadata": {
    "colab": {},
    "colab_type": "code",
    "id": "bdWgqEQyK0fe"
   },
   "outputs": [],
   "source": [
    "# 175번\n",
    "my_list = [\"가\", \"나\", \"다\", \"마\"]\n",
    "for i in[0, 1, 2]:\n",
    "  print(my_list[i], my_list[i+1])"
   ]
  },
  {
   "cell_type": "code",
   "execution_count": null,
   "metadata": {
    "colab": {},
    "colab_type": "code",
    "id": "uoFeTJUMK1TH"
   },
   "outputs": [],
   "source": [
    "# 176번\n",
    "my_list = [\"가\", \"나\", \"다\", \"마\"]\n",
    "for i in range( len(my_list) -2):\n",
    "    print(my_list[i], my_list[i+1], my_list[i+2])"
   ]
  },
  {
   "cell_type": "code",
   "execution_count": null,
   "metadata": {
    "colab": {},
    "colab_type": "code",
    "id": "gNqmwZb3K3JG"
   },
   "outputs": [],
   "source": [
    "# 177번\n",
    "for i in range(len(my_list) - 1, 0, -1):\n",
    "    print(my_list[i-0], my_list[i-1])"
   ]
  },
  {
   "cell_type": "code",
   "execution_count": null,
   "metadata": {
    "colab": {},
    "colab_type": "code",
    "id": "5gq3VZfqQJS8"
   },
   "outputs": [],
   "source": [
    "# 178\n",
    "my_list = [100, 200, 400, 800]\n",
    "for i in range(len(my_list) - 1):\n",
    "    print(abs(my_list[i+1] - my_list[i]))"
   ]
  },
  {
   "cell_type": "code",
   "execution_count": null,
   "metadata": {
    "colab": {},
    "colab_type": "code",
    "id": "0cNVRFkKQKGD"
   },
   "outputs": [],
   "source": [
    "# 179번\n",
    "my_list = [100,200,400,800,1000,1300]\n",
    "\n",
    "for i in range(1, len(my_list) -1):\n",
    "    print(abs(my_list[i-1] + my_list[i] + my_list[i+1]) / 3)"
   ]
  },
  {
   "cell_type": "code",
   "execution_count": null,
   "metadata": {
    "colab": {},
    "colab_type": "code",
    "id": "7okjcvy3QMiD"
   },
   "outputs": [],
   "source": [
    "#180번\n",
    "low_prices = [100,200,400,800,1000]\n",
    "high_prices= [150,300,430,880,1000]\n",
    "volatility =[]\n",
    "for i in range(len(low_prices)):\n",
    "    volatility.append(high_prices[i] - low_prices[i])\n",
    "print(volatility)\n"
   ]
  },
  {
   "cell_type": "code",
   "execution_count": null,
   "metadata": {
    "colab": {},
    "colab_type": "code",
    "id": "hAMEglgLTSmj"
   },
   "outputs": [],
   "source": []
  }
 ],
 "metadata": {
  "colab": {
   "name": "ex03.ipynb",
   "private_outputs": true,
   "provenance": []
  },
  "kernelspec": {
   "display_name": "Python 3",
   "language": "python",
   "name": "python3"
  },
  "language_info": {
   "codemirror_mode": {
    "name": "ipython",
    "version": 3
   },
   "file_extension": ".py",
   "mimetype": "text/x-python",
   "name": "python",
   "nbconvert_exporter": "python",
   "pygments_lexer": "ipython3",
   "version": "3.8.2"
  }
 },
 "nbformat": 4,
 "nbformat_minor": 1
}
