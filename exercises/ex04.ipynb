{
 "cells": [
  {
   "cell_type": "code",
   "execution_count": null,
   "metadata": {
    "colab": {},
    "colab_type": "code",
    "id": "ZSanMG14jtMc"
   },
   "outputs": [],
   "source": [
    "# 5일차 문제풀이"
   ]
  },
  {
   "cell_type": "code",
   "execution_count": null,
   "metadata": {
    "colab": {},
    "colab_type": "code",
    "id": "ErzxbuSwj-R_"
   },
   "outputs": [],
   "source": [
    "# 금일 순서\n",
    "# 문자열 연산자 25~100\n",
    "# 반복문 180~200\n"
   ]
  },
  {
   "cell_type": "code",
   "execution_count": null,
   "metadata": {
    "colab": {},
    "colab_type": "code",
    "id": "8GGUe1VGm1qm"
   },
   "outputs": [],
   "source": [
    "# 25번\n",
    "phone_number = \"010-8431-0554\"\n",
    "remove_number = phone_number.replace(\"-\", \" \")\n",
    "print(remove_number)"
   ]
  },
  {
   "cell_type": "code",
   "execution_count": null,
   "metadata": {
    "colab": {},
    "colab_type": "code",
    "id": "vlbUUBubnMo9"
   },
   "outputs": [],
   "source": [
    "# 26번\n",
    "phone_number = \"010-8431-0554\"\n",
    "remove_number = phone_number.replace(\"-\", \"\")\n",
    "print(remove_number)"
   ]
  },
  {
   "cell_type": "code",
   "execution_count": null,
   "metadata": {
    "colab": {},
    "colab_type": "code",
    "id": "obewJjiEnczr"
   },
   "outputs": [],
   "source": [
    "# 27번\n",
    "url = \"http://sharebook.kr\"\n",
    "url_split = url.split(\".\")\n",
    "print(url_split[1])"
   ]
  },
  {
   "cell_type": "code",
   "execution_count": null,
   "metadata": {
    "colab": {},
    "colab_type": "code",
    "id": "Cynad7HDnuP9"
   },
   "outputs": [],
   "source": [
    "# 28번\n",
    "lang = 'python'\n",
    "lang[0] = 'P'\n",
    "print(lang)"
   ]
  },
  {
   "cell_type": "code",
   "execution_count": null,
   "metadata": {
    "colab": {},
    "colab_type": "code",
    "id": "QgEHYGMVnzwR"
   },
   "outputs": [],
   "source": [
    "# 29번\n",
    "string = 'abcdfe2a354a32a'\n",
    "string = string.replace('a', 'A')\n",
    "print(string)"
   ]
  },
  {
   "cell_type": "code",
   "execution_count": null,
   "metadata": {
    "colab": {},
    "colab_type": "code",
    "id": "HTwnWgR1olSg"
   },
   "outputs": [],
   "source": [
    "# 30번\n",
    "string = 'abcd'\n",
    "string.replace('b', 'B')\n",
    "print(string)"
   ]
  },
  {
   "cell_type": "code",
   "execution_count": null,
   "metadata": {
    "colab": {},
    "colab_type": "code",
    "id": "Jhtd7FTvowUs"
   },
   "outputs": [],
   "source": [
    "# 31번\n",
    "a = \"3\" #숫자가 아니다\n",
    "b = \"4\"\n",
    "print(a+b)"
   ]
  },
  {
   "cell_type": "code",
   "execution_count": null,
   "metadata": {
    "colab": {},
    "colab_type": "code",
    "id": "eTmNm_wLpClS"
   },
   "outputs": [],
   "source": [
    "# 32번\n",
    "print(\"Hi\" * 3)"
   ]
  },
  {
   "cell_type": "code",
   "execution_count": null,
   "metadata": {
    "colab": {},
    "colab_type": "code",
    "id": "EJH5fbBbpDeC"
   },
   "outputs": [],
   "source": [
    "# 33번\n",
    "print(\"-\" * 10)"
   ]
  },
  {
   "cell_type": "code",
   "execution_count": null,
   "metadata": {
    "colab": {},
    "colab_type": "code",
    "id": "dihJl4ybpo87"
   },
   "outputs": [],
   "source": [
    "# 34번\n",
    "t1 = 'python'\n",
    "t2 = 'java'\n",
    "t3 = t1 + ' ' + t2 + ' '\n",
    "print(t3 * 4)"
   ]
  },
  {
   "cell_type": "code",
   "execution_count": null,
   "metadata": {
    "colab": {},
    "colab_type": "code",
    "id": "2plvRWBBp8M6"
   },
   "outputs": [],
   "source": [
    "# 35번\n",
    "name1 = \"김민수\" \n",
    "age1 = 10\n",
    "name2 = \"이철희\"\n",
    "age2 = 13\n",
    "print(\"이름: %s 나이: %d\" % (name1, age1))\n",
    "print(\"이름: %s 나이: %d\" % (name2, age2))"
   ]
  },
  {
   "cell_type": "code",
   "execution_count": null,
   "metadata": {
    "colab": {},
    "colab_type": "code",
    "id": "3AIcqsPvqcVW"
   },
   "outputs": [],
   "source": [
    "# 36번\n",
    "name1 = \"김민수\" \n",
    "age1 = 10\n",
    "name2 = \"이철희\"\n",
    "age2 = 13\n",
    "\n",
    "print(\"이름: {} 나이: {}\".format(name1, age1))\n",
    "print(\"이름: {} 나이: {}\".format(name2, age2))"
   ]
  },
  {
   "cell_type": "code",
   "execution_count": null,
   "metadata": {
    "colab": {},
    "colab_type": "code",
    "id": "GA-ksz8yq-ha"
   },
   "outputs": [],
   "source": [
    "# 37번\n",
    "name1 = \"김민수\" \n",
    "age1 = 10\n",
    "name2 = \"이철희\"\n",
    "age2 = 13\n",
    "\n",
    "print(f\"이름: {name1} 나이: {age1}\")\n",
    "print(f\"이름: {name2} 나이: {age2}\")"
   ]
  },
  {
   "cell_type": "code",
   "execution_count": null,
   "metadata": {
    "colab": {},
    "colab_type": "code",
    "id": "zac4MkoHrdoO"
   },
   "outputs": [],
   "source": [
    "# 38번\n",
    "Stock = \"5,969,782,550\"\n",
    "print(type(Stock))\n",
    "remove = Stock.replace(\",\", \"\")\n",
    "changeType = int(remove)\n",
    "print(changeType, type(changeType))"
   ]
  },
  {
   "cell_type": "code",
   "execution_count": null,
   "metadata": {
    "colab": {},
    "colab_type": "code",
    "id": "bM6Z9_RdsLYE"
   },
   "outputs": [],
   "source": [
    "# 39번\n",
    "semeter = \"2020/03(E) (IFTS연결)\"\n",
    "print(semeter[:7])"
   ]
  },
  {
   "cell_type": "code",
   "execution_count": null,
   "metadata": {
    "colab": {},
    "colab_type": "code",
    "id": "KG-9JagIsibe"
   },
   "outputs": [],
   "source": [
    "# 40번\n",
    "data = \"   삼성전자   \"\n",
    "print(data)\n",
    "data1 = data.strip()\n",
    "print(data1)"
   ]
  },
  {
   "cell_type": "code",
   "execution_count": null,
   "metadata": {
    "colab": {},
    "colab_type": "code",
    "id": "FdIPYRiJtV_A"
   },
   "outputs": [],
   "source": [
    "# 41번\n",
    "ticker = \"btc_krw\"\n",
    "ticker1 = ticker.upper()\n",
    "print(ticker1)"
   ]
  },
  {
   "cell_type": "code",
   "execution_count": null,
   "metadata": {
    "colab": {},
    "colab_type": "code",
    "id": "7s-RG3G8tldP"
   },
   "outputs": [],
   "source": [
    "# 42번\n",
    "ticker = \"BTC_KRW\"\n",
    "ticker = ticker.lower()\n",
    "print(ticker)"
   ]
  },
  {
   "cell_type": "code",
   "execution_count": null,
   "metadata": {
    "colab": {},
    "colab_type": "code",
    "id": "QSgp8cbUt1NQ"
   },
   "outputs": [],
   "source": [
    "# 43번\n",
    "a = \"hello\"\n",
    "a = a.capitalize() # 앞글자 대문자 만드는 매서드\n",
    "print(a)"
   ]
  },
  {
   "cell_type": "code",
   "execution_count": null,
   "metadata": {
    "colab": {},
    "colab_type": "code",
    "id": "HDG1BUQruHMo"
   },
   "outputs": [],
   "source": [
    "# 44번\n",
    "file_name = \"보고서.xlsx\"\n",
    "file_name.endswith((\"xlsx\"))"
   ]
  },
  {
   "cell_type": "code",
   "execution_count": null,
   "metadata": {
    "colab": {},
    "colab_type": "code",
    "id": "_W4SS7xSug8F"
   },
   "outputs": [],
   "source": [
    "# 45번\n",
    "file_name = \"보고서.xlsx\"\n",
    "file_name.endswith((\"xlsx\", \"xls\"))"
   ]
  },
  {
   "cell_type": "code",
   "execution_count": null,
   "metadata": {
    "colab": {},
    "colab_type": "code",
    "id": "XEpsIVnavPH_"
   },
   "outputs": [],
   "source": [
    "# 46번\n",
    "file_name = \"2020_보고서.xlsx\"\n",
    "file_name.startswith((\"2010\"))"
   ]
  },
  {
   "cell_type": "code",
   "execution_count": null,
   "metadata": {
    "colab": {},
    "colab_type": "code",
    "id": "IC68drY1vaA0"
   },
   "outputs": [],
   "source": [
    "# 47번\n",
    "a = \"hello world\"\n",
    "a.split()"
   ]
  },
  {
   "cell_type": "code",
   "execution_count": null,
   "metadata": {
    "colab": {},
    "colab_type": "code",
    "id": "jf30NVc2vmxX"
   },
   "outputs": [],
   "source": [
    "# 48번\n",
    "ticker = \"btc_krw\"\n",
    "ticker.split(\"_\")"
   ]
  },
  {
   "cell_type": "code",
   "execution_count": null,
   "metadata": {
    "colab": {},
    "colab_type": "code",
    "id": "H46X1GpHvnje"
   },
   "outputs": [],
   "source": [
    "# 49번\n",
    "data = \"2020-05-01\"\n",
    "data.split(\"-\")"
   ]
  },
  {
   "cell_type": "code",
   "execution_count": null,
   "metadata": {
    "colab": {},
    "colab_type": "code",
    "id": "eg1g34rvvobo"
   },
   "outputs": [],
   "source": [
    "# 50번\n",
    "data = \"039490     \"\n",
    "data = data.rstrip()\n",
    "print(data)"
   ]
  },
  {
   "cell_type": "code",
   "execution_count": null,
   "metadata": {
    "colab": {},
    "colab_type": "code",
    "id": "AR9oUlbmwdPt"
   },
   "outputs": [],
   "source": [
    "# 51번\n",
    "movie_rank = [\"닥터 스트레인지\", \"스플릿\", \"럭키\"]\n",
    "print(movie_rank)"
   ]
  },
  {
   "cell_type": "code",
   "execution_count": null,
   "metadata": {
    "colab": {},
    "colab_type": "code",
    "id": "Tj2wQStO0mex"
   },
   "outputs": [],
   "source": [
    "# 52번\n",
    "movie_rank = [\"닥터 스트레인지\", \"스플릿\", \"럭키\"]\n",
    "movie_rank.append(\"배트맨\")\n",
    "print(movie_rank)"
   ]
  },
  {
   "cell_type": "code",
   "execution_count": null,
   "metadata": {
    "colab": {},
    "colab_type": "code",
    "id": "ATTM1zxO1WkG"
   },
   "outputs": [],
   "source": [
    "# 53번\n",
    "movie_rank = [\"닥터 스트레인지\", \"스플릿\", \"럭키\", \"배트맨\"]\n",
    "movie_rank.insert(1, \"배트맨\")\n",
    "print(movie_rank)"
   ]
  },
  {
   "cell_type": "code",
   "execution_count": null,
   "metadata": {
    "colab": {},
    "colab_type": "code",
    "id": "Bq1L6eyA142n"
   },
   "outputs": [],
   "source": [
    "# 54번\n",
    "movie_rank = [\"닥터 스트레인지\", \"스플릿\", \"럭키\", \"배트맨\"]\n",
    "del movie_rank[2]\n",
    "print(movie_rank)"
   ]
  },
  {
   "cell_type": "code",
   "execution_count": null,
   "metadata": {
    "colab": {},
    "colab_type": "code",
    "id": "9phM5yQv2FHK"
   },
   "outputs": [],
   "source": [
    "# 55번\n",
    "movie_rank = [\"닥터 스트레인지\", \"슈퍼맨\", \"스플릿\", \"배트맨\"]\n",
    "del movie_rank[2]\n",
    "print(movie_rank)\n",
    "del movie_rank[2]\n",
    "print(movie_rank)"
   ]
  },
  {
   "cell_type": "code",
   "execution_count": null,
   "metadata": {
    "colab": {},
    "colab_type": "code",
    "id": "rpVHN1C22Xrj"
   },
   "outputs": [],
   "source": [
    "# 56번\n",
    "lang1 = [\"C\", \"C++\", \"JAVA\"]\n",
    "lang2 = [\"Python\", \"Go\", \"C#\"]\n",
    "langs = lang1 + lang2\n",
    "print(langs)"
   ]
  },
  {
   "cell_type": "code",
   "execution_count": null,
   "metadata": {
    "colab": {},
    "colab_type": "code",
    "id": "mXC7Im2R3DsY"
   },
   "outputs": [],
   "source": [
    "# 57번\n",
    "nums = [1, 2, 3, 4, 5, 6, 7]\n",
    "print(max(nums))\n",
    "print(min(nums))\n"
   ]
  },
  {
   "cell_type": "code",
   "execution_count": null,
   "metadata": {
    "colab": {},
    "colab_type": "code",
    "id": "KZx6_bML3RaD"
   },
   "outputs": [],
   "source": [
    "# 58번\n",
    "nums = [1, 2, 3, 4, 5]\n",
    "print(sum(nums))"
   ]
  },
  {
   "cell_type": "code",
   "execution_count": null,
   "metadata": {
    "colab": {},
    "colab_type": "code",
    "id": "Y9c_R04m3hEZ"
   },
   "outputs": [],
   "source": [
    "# 59번\n",
    "cook = [\"피자\", \"김밥\", \"만두\", \"양념치킨\", \"족발\", \"파스타\", \"쫄면\", \"쏘세지\", \"라면\", \"팥빙수\", \"김치전\"]\n",
    "print(len(cook))"
   ]
  },
  {
   "cell_type": "code",
   "execution_count": null,
   "metadata": {
    "colab": {},
    "colab_type": "code",
    "id": "p-8J3exT4CW2"
   },
   "outputs": [],
   "source": [
    "# 60번\n",
    "num = [1, 2, 3, 4, 5]\n",
    "avg = sum(num)/len(num)\n",
    "print(avg)"
   ]
  },
  {
   "cell_type": "code",
   "execution_count": null,
   "metadata": {
    "colab": {},
    "colab_type": "code",
    "id": "LEeRWau44T9P"
   },
   "outputs": [],
   "source": [
    "# 61번\n",
    "price = ['20180728', 100, 130, 140, 150, 160, 170]\n",
    "print(price[1:])"
   ]
  },
  {
   "cell_type": "code",
   "execution_count": null,
   "metadata": {
    "colab": {},
    "colab_type": "code",
    "id": "jFXc4nle4mhH"
   },
   "outputs": [],
   "source": [
    "# 62번\n",
    "nums = [1, 2, 3, 4, 5, 6, 7, 8, 9, 10]\n",
    "print(nums[::2])"
   ]
  },
  {
   "cell_type": "code",
   "execution_count": null,
   "metadata": {
    "colab": {},
    "colab_type": "code",
    "id": "Wx51Wa_05JHR"
   },
   "outputs": [],
   "source": [
    "# 63번\n",
    "nums = [1, 2, 3, 4, 5, 6, 7, 8, 9, 10]\n",
    "print(nums[1::2])"
   ]
  },
  {
   "cell_type": "code",
   "execution_count": null,
   "metadata": {
    "colab": {},
    "colab_type": "code",
    "id": "ZhuSoc5B5SJV"
   },
   "outputs": [],
   "source": [
    "# 64번\n",
    "nums = [1, 2, 3, 4, 5, 6, 7, 8, 9, 10]\n",
    "print(nums[::-1])"
   ]
  },
  {
   "cell_type": "code",
   "execution_count": null,
   "metadata": {
    "colab": {},
    "colab_type": "code",
    "id": "ilHFOkRQ5acA"
   },
   "outputs": [],
   "source": [
    "# 65번\n",
    "interest = [\"sam\", \"LG\", \"Na\"]\n",
    "print(interest[0], interest[2])"
   ]
  },
  {
   "cell_type": "code",
   "execution_count": null,
   "metadata": {
    "colab": {},
    "colab_type": "code",
    "id": "2BAdknBM6AqR"
   },
   "outputs": [],
   "source": [
    "# 66번\n",
    "interest = [\"Sam\", \"LG\", \"Na\", \"SK\", \"미래\"]\n",
    "print(\" \".join(interest)) "
   ]
  },
  {
   "cell_type": "code",
   "execution_count": null,
   "metadata": {
    "colab": {},
    "colab_type": "code",
    "id": "ODJwNmmf6CIZ"
   },
   "outputs": [],
   "source": [
    "# 67번\n",
    "interest = [\"Sam\", \"LG\", \"Na\", \"SK\", \"미래\"]\n",
    "print(\"/\".join(interest)) "
   ]
  },
  {
   "cell_type": "code",
   "execution_count": null,
   "metadata": {
    "colab": {},
    "colab_type": "code",
    "id": "xvsO2jQw7Hbw"
   },
   "outputs": [],
   "source": [
    "# 68번\n",
    "interest = [\"Sam\", \"LG\", \"Na\", \"SK\", \"미래\"]\n",
    "print(\"\\n\".join(interest)) "
   ]
  },
  {
   "cell_type": "code",
   "execution_count": null,
   "metadata": {
    "colab": {},
    "colab_type": "code",
    "id": "p0nUyS7Q7Xfj"
   },
   "outputs": [],
   "source": [
    "# 69번\n",
    "interest = \"Sam/LG/Na/SK/미래\"\n",
    "a = interest.split(\"/\")\n",
    "print(a) "
   ]
  },
  {
   "cell_type": "code",
   "execution_count": null,
   "metadata": {
    "colab": {},
    "colab_type": "code",
    "id": "AiU7sjGQ9E48"
   },
   "outputs": [],
   "source": [
    "# 70번\n",
    "data = [2, 4, 3, 1, 5, 10, 9]\n",
    "data2 = sorted(data)\n",
    "print(data2)"
   ]
  },
  {
   "cell_type": "code",
   "execution_count": null,
   "metadata": {
    "colab": {},
    "colab_type": "code",
    "id": "X_CenXQS9l4F"
   },
   "outputs": [],
   "source": [
    "# 71번\n",
    "my_variable = ()\n",
    "print(type(my_variable))"
   ]
  },
  {
   "cell_type": "code",
   "execution_count": null,
   "metadata": {
    "colab": {},
    "colab_type": "code",
    "id": "w8KzqxNcCHTP"
   },
   "outputs": [],
   "source": [
    "# 72번\n",
    "movie_lank = (\"닥스\", \"스플\", \"럭키\")\n",
    "print(movie_lank)"
   ]
  },
  {
   "cell_type": "code",
   "execution_count": null,
   "metadata": {
    "colab": {},
    "colab_type": "code",
    "id": "RjSzhoF0Cscn"
   },
   "outputs": [],
   "source": [
    "# 73번\n",
    "my = (1,)\n",
    "type(my)"
   ]
  },
  {
   "cell_type": "code",
   "execution_count": null,
   "metadata": {
    "colab": {},
    "colab_type": "code",
    "id": "laG1wBGPC7xp"
   },
   "outputs": [],
   "source": [
    "# 74번\n",
    "t = (1, 2, 3)\n",
    "t[0] ='a'\n",
    "print(t)"
   ]
  },
  {
   "cell_type": "code",
   "execution_count": null,
   "metadata": {
    "colab": {},
    "colab_type": "code",
    "id": "UTpN3S81DSME"
   },
   "outputs": [],
   "source": [
    "# 75번\n",
    "t = (1, 2, 3, 4)\n",
    "print(type(t))"
   ]
  },
  {
   "cell_type": "code",
   "execution_count": null,
   "metadata": {
    "colab": {},
    "colab_type": "code",
    "id": "Ln6YnJcMDjjA"
   },
   "outputs": [],
   "source": [
    "# 76번\n",
    "t = ('a', 'b', 'c')\n",
    "t = ('A', 'b', 'c')\n",
    "print(t)\n",
    "print(type(t))\n"
   ]
  },
  {
   "cell_type": "code",
   "execution_count": null,
   "metadata": {
    "colab": {},
    "colab_type": "code",
    "id": "035zQ6iOEKco"
   },
   "outputs": [],
   "source": [
    "# 77번\n",
    "interest = (\"sam\", \"LG\", \"SK\")\n",
    "data = list(interest)\n",
    "print(data)\n",
    "# 튜플을 리스트로"
   ]
  },
  {
   "cell_type": "code",
   "execution_count": null,
   "metadata": {
    "colab": {},
    "colab_type": "code",
    "id": "OoKg7FTWEwVf"
   },
   "outputs": [],
   "source": [
    "# 78번\n",
    "interest = [\"sam\", \"LG\", \"SK\"]\n",
    "data = tuple(interest)\n",
    "print(data)\n",
    "# 리스트를 튜플로\n"
   ]
  },
  {
   "cell_type": "code",
   "execution_count": null,
   "metadata": {
    "colab": {},
    "colab_type": "code",
    "id": "XljRExT-FqnE"
   },
   "outputs": [],
   "source": [
    "# 79번\n",
    "temp = (\"ap\", \"ba\", \"ca\")\n",
    "a, b, c = temp\n",
    "print(a, b, c)"
   ]
  },
  {
   "cell_type": "code",
   "execution_count": null,
   "metadata": {
    "colab": {},
    "colab_type": "code",
    "id": "TmVHvSRHGBO5"
   },
   "outputs": [],
   "source": [
    "# 80번\n",
    "data = tuple(range(2, 100, 2))\n",
    "print(data)"
   ]
  },
  {
   "cell_type": "code",
   "execution_count": null,
   "metadata": {
    "colab": {},
    "colab_type": "code",
    "id": "gMTm1HnAGt0y"
   },
   "outputs": [],
   "source": [
    "# 81번\n",
    "scores = [8.8, 8.9, 8.7, 9.2, 9.7, 9.9, 9.5, 7.8, 9.4]\n",
    "*valid_score, _, _ = scores\n",
    "print(valid_score)"
   ]
  },
  {
   "cell_type": "code",
   "execution_count": null,
   "metadata": {
    "colab": {},
    "colab_type": "code",
    "id": "jlJ4dsnWIaIF"
   },
   "outputs": [],
   "source": [
    "# 82번\n",
    "scores = [8.8, 8.9, 8.7, 9.2, 9.7, 9.9, 9.5, 7.8, 9.4]\n",
    "_, _, *valid_score2 = scores\n",
    "print(valid_score2)"
   ]
  },
  {
   "cell_type": "code",
   "execution_count": null,
   "metadata": {
    "colab": {},
    "colab_type": "code",
    "id": "DFm7vlOVI2W6"
   },
   "outputs": [],
   "source": [
    "# 83번\n",
    "scores = [8.8, 8.9, 8.7, 9.2, 9.3, 9.7, 9.9, 9.5, 7.8, 9.4]\n",
    "_, *valid_score2,  _ = scores\n",
    "print(valid_score2)"
   ]
  },
  {
   "cell_type": "code",
   "execution_count": null,
   "metadata": {
    "colab": {},
    "colab_type": "code",
    "id": "kIOSkIRZI6Ee"
   },
   "outputs": [],
   "source": [
    "# 84번\n",
    "temp = {}\n",
    "print(type(temp))"
   ]
  },
  {
   "cell_type": "code",
   "execution_count": null,
   "metadata": {
    "colab": {},
    "colab_type": "code",
    "id": "hnAfiGVeJ4j2"
   },
   "outputs": [],
   "source": [
    "# 85번\n",
    "ice = {\"메로나\" : 1000, \"폴리포\" : 1200, \"빵빠레\":1800}\n",
    "print(ice)"
   ]
  },
  {
   "cell_type": "code",
   "execution_count": null,
   "metadata": {
    "colab": {},
    "colab_type": "code",
    "id": "-CSFCLXfKK-2"
   },
   "outputs": [],
   "source": [
    "# 86번\n",
    "ice = {\"메로나\" : 1000, \"폴리포\" : 1200, \"빵빠레\":1800}\n",
    "ice [\"죠스바\"] = 1200\n",
    "ice [\"월드콘\"] = 1500\n",
    "print(ice)"
   ]
  },
  {
   "cell_type": "code",
   "execution_count": null,
   "metadata": {
    "colab": {},
    "colab_type": "code",
    "id": "2H02mCGbK7w8"
   },
   "outputs": [],
   "source": [
    "# 87번\n",
    "ice = {\"메로나\" : 1000, \n",
    "       \"폴리포\" : 1200, \n",
    "       \"빵빠레\" : 1800, \n",
    "       \"죠스바\" : 1200,\n",
    "       \"월드콘\" : 1500}\n",
    "print(\"메로나 얼마임?\", ice[\"메로나\"])"
   ]
  },
  {
   "cell_type": "code",
   "execution_count": null,
   "metadata": {
    "colab": {},
    "colab_type": "code",
    "id": "q07spfVoLl5z"
   },
   "outputs": [],
   "source": [
    "# 88번\n",
    "ice = {\"메로나\" : 1000, \n",
    "       \"폴리포\" : 1200, \n",
    "       \"빵빠레\" : 1800, \n",
    "       \"죠스바\" : 1200,\n",
    "       \"월드콘\" : 1500}\n",
    "ice[\"메로나\"] = 1300\n",
    "print(\"메로나 얼마임?\", ice[\"메로나\"])"
   ]
  },
  {
   "cell_type": "code",
   "execution_count": null,
   "metadata": {
    "colab": {},
    "colab_type": "code",
    "id": "AEsGPqbFL_lo"
   },
   "outputs": [],
   "source": [
    "# 89번\n",
    "ice = {\"메로나\" : 1000, \n",
    "       \"폴리포\" : 1200, \n",
    "       \"빵빠레\" : 1800, \n",
    "       \"죠스바\" : 1200,\n",
    "       \"월드콘\" : 1500}\n",
    "del ice[\"메로나\"]\n",
    "print(ice)"
   ]
  },
  {
   "cell_type": "code",
   "execution_count": null,
   "metadata": {
    "colab": {},
    "colab_type": "code",
    "id": "SOj8TQNwMNjS"
   },
   "outputs": [],
   "source": [
    "# 90번\n",
    "ice = {\"메로나\" : 1000, \n",
    "       \"폴리포\" : 1200, \n",
    "       \"빵빠레\" : 1800, \n",
    "       \"죠스바\" : 1200,\n",
    "       \"월드콘\" : 1500}\n",
    "del ice[\"메로나\"]\n",
    "print(ice)"
   ]
  },
  {
   "cell_type": "code",
   "execution_count": null,
   "metadata": {
    "colab": {},
    "colab_type": "code",
    "id": "0SF3zjYPOeVn"
   },
   "outputs": [],
   "source": [
    "# 91번\n",
    "inven = {\"메로나\" : [300, 20],\n",
    "         \"비비빅\" : [400, 3],\n",
    "         \"죠스바\" : [250, 100]}\n",
    "print(inven)"
   ]
  },
  {
   "cell_type": "code",
   "execution_count": null,
   "metadata": {
    "colab": {},
    "colab_type": "code",
    "id": "PPiQbqS_Ppfz"
   },
   "outputs": [],
   "source": [
    "# 92번\n",
    "print(inven[\"메로나\"][0], \"원\")"
   ]
  },
  {
   "cell_type": "code",
   "execution_count": null,
   "metadata": {
    "colab": {},
    "colab_type": "code",
    "id": "qR5ZN3K6Pql8"
   },
   "outputs": [],
   "source": [
    "# 93번\n",
    "print(inven[\"메로나\"][1], \"개\")"
   ]
  },
  {
   "cell_type": "code",
   "execution_count": null,
   "metadata": {
    "colab": {},
    "colab_type": "code",
    "id": "LHtZW7XXPrTA"
   },
   "outputs": [],
   "source": [
    "# 94번\n",
    "inven[\"월드콘\"] = [500, 7]\n",
    "print(inven)"
   ]
  },
  {
   "cell_type": "code",
   "execution_count": null,
   "metadata": {
    "colab": {},
    "colab_type": "code",
    "id": "AlOLWpD-PvNY"
   },
   "outputs": [],
   "source": [
    "# 95번\n",
    "ice = {'탱크보이':1200, '폴라포':1200, '빵빠레':1800, '월드콘':1500, '메로나':1000}\n",
    "price = list(ice.keys())\n",
    "print(price)"
   ]
  },
  {
   "cell_type": "code",
   "execution_count": null,
   "metadata": {
    "colab": {},
    "colab_type": "code",
    "id": "99nMUZ3nPwPD"
   },
   "outputs": [],
   "source": [
    "# 96번\n",
    "ice = {'탱크보이':1200, '폴라포':1200, '빵빠레':1800, '월드콘':1500, '메로나':1000}\n",
    "price = list(ice.values())\n",
    "print(price)"
   ]
  },
  {
   "cell_type": "code",
   "execution_count": null,
   "metadata": {
    "colab": {},
    "colab_type": "code",
    "id": "GnHCcRiuPxT6"
   },
   "outputs": [],
   "source": [
    "# 97번\n",
    "ice = {'탱크보이':1200, '폴라포':1200, '빵빠레':1800, '월드콘':1500, '메로나':1000}\n",
    "price = sum(ice.values())\n",
    "print(price)"
   ]
  },
  {
   "cell_type": "code",
   "execution_count": null,
   "metadata": {
    "colab": {},
    "colab_type": "code",
    "id": "f45f8TLePyU8"
   },
   "outputs": [],
   "source": [
    "# 98번\n",
    "ice = {'탱크보이':1200, '폴라포':1200, '빵빠레':1800, '월드콘':1500, '메로나':1000}\n",
    "new = {'팥빙수':2700, '아맛나':1000}\n",
    "ice.update(new)\n",
    "print(ice)"
   ]
  },
  {
   "cell_type": "code",
   "execution_count": null,
   "metadata": {
    "colab": {},
    "colab_type": "code",
    "id": "seu8cUwoPzKq"
   },
   "outputs": [],
   "source": [
    "# 99번\n",
    "key = (\"ap\", \"pe\", \"pa\")\n",
    "val = (300, 250, 400)\n",
    "result = dict(zip(key, val))\n",
    "print(result)"
   ]
  },
  {
   "cell_type": "code",
   "execution_count": null,
   "metadata": {
    "colab": {},
    "colab_type": "code",
    "id": "z9FpYZTZUrkB"
   },
   "outputs": [],
   "source": [
    "# 100번\n",
    "data = ['09/05', '09/06', '09/07', '09/08', '09/09']\n",
    "clise_price = [10500, 10300, 10100, 10800, 11000]\n",
    "result = dict(zip(date, close_price))\n",
    "print(result)"
   ]
  },
  {
   "cell_type": "code",
   "execution_count": null,
   "metadata": {
    "colab": {},
    "colab_type": "code",
    "id": "7IqegCtWWOeQ"
   },
   "outputs": [],
   "source": [
    "# 181번\n",
    "apart = [[\"101호\", \"102호\"], [\"201호\", \"202호\"], [\"301호\", \"302호\"]]\n",
    "print(apart)"
   ]
  },
  {
   "cell_type": "code",
   "execution_count": null,
   "metadata": {
    "colab": {},
    "colab_type": "code",
    "id": "rUOkWWv_XTeY"
   },
   "outputs": [],
   "source": [
    "# 182번\n",
    "stock = [[\"시가\", 100, 200, 300], [\"종가\", 80, 210, 330]]\n",
    "print(stock)"
   ]
  },
  {
   "cell_type": "code",
   "execution_count": null,
   "metadata": {
    "colab": {},
    "colab_type": "code",
    "id": "CEEHViZ5Xi45"
   },
   "outputs": [],
   "source": [
    "# 183번\n",
    "stock = {\"시가\" : [100, 200, 300], \"종가\" : [80, 210, 330]}\n",
    "print(stock)"
   ]
  },
  {
   "cell_type": "code",
   "execution_count": null,
   "metadata": {
    "colab": {},
    "colab_type": "code",
    "id": "ksZNyAN0YWKn"
   },
   "outputs": [],
   "source": [
    "# 184번\n",
    "stock = {\"10/10\": [80, 110, 70, 90], \"10/11\": [210, 230, 190, 200] }\n",
    "print(stock)"
   ]
  },
  {
   "cell_type": "code",
   "execution_count": null,
   "metadata": {
    "colab": {},
    "colab_type": "code",
    "id": "dPRVVWfwYgJ1"
   },
   "outputs": [],
   "source": [
    "# 185번\n",
    "apart = [[101, 102], [201, 202], [301, 302]]\n",
    "for i in apart:\n",
    "  for j in i:\n",
    "    print(j, \"ho\")"
   ]
  },
  {
   "cell_type": "code",
   "execution_count": null,
   "metadata": {
    "colab": {},
    "colab_type": "code",
    "id": "WhBdOYXNZALW"
   },
   "outputs": [],
   "source": [
    "# 숙제 : 185~200번까지 풀기"
   ]
  }
 ],
 "metadata": {
  "colab": {
   "name": "ex04.ipynb",
   "private_outputs": true,
   "provenance": []
  },
  "kernelspec": {
   "display_name": "Python 3",
   "language": "python",
   "name": "python3"
  },
  "language_info": {
   "codemirror_mode": {
    "name": "ipython",
    "version": 3
   },
   "file_extension": ".py",
   "mimetype": "text/x-python",
   "name": "python",
   "nbconvert_exporter": "python",
   "pygments_lexer": "ipython3",
   "version": "3.8.2"
  }
 },
 "nbformat": 4,
 "nbformat_minor": 1
}
