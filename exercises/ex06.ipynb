{
 "cells": [
  {
   "cell_type": "code",
   "execution_count": null,
   "metadata": {
    "id": "kZJQvShwFMCs"
   },
   "outputs": [],
   "source": [
    "# 229\n",
    "def my_print(a, b):\n",
    "  print(\"left:\", a)\n",
    "  print(\"right:\", b)\n",
    "\n",
    "my_print(a=100, b=200)"
   ]
  },
  {
   "cell_type": "code",
   "execution_count": null,
   "metadata": {
    "id": "TVmGQDYUGvCE"
   },
   "outputs": [],
   "source": [
    "# 230\n",
    "def my_print(a, b):\n",
    "  print(\"left:\", a)\n",
    "  print(\"right:\", b)\n",
    "\n",
    "my_print(b=100, a=200)"
   ]
  },
  {
   "cell_type": "code",
   "execution_count": null,
   "metadata": {
    "id": "3KpL3WkgHBDc"
   },
   "outputs": [],
   "source": [
    "# 231\n",
    "def n_plus_1(n):\n",
    "  reuslt = n+1\n",
    "\n",
    "n_plus_1(3)\n",
    "print(result)"
   ]
  },
  {
   "cell_type": "code",
   "execution_count": null,
   "metadata": {
    "id": "-rufrY6xHRoE"
   },
   "outputs": [],
   "source": [
    "# 232\n",
    "def make_url(string):\n",
    "  url = \"www.\" + string + \".com\"\n",
    "  return url"
   ]
  },
  {
   "cell_type": "code",
   "execution_count": null,
   "metadata": {
    "id": "OoUJ9s8NHzJ-"
   },
   "outputs": [],
   "source": [
    "make_url(\"naver\")"
   ]
  },
  {
   "cell_type": "code",
   "execution_count": null,
   "metadata": {
    "id": "GLIvvVT2H3Nn"
   },
   "outputs": [],
   "source": [
    "# 233\n",
    "def make_list(string):\n",
    "  my_list=[]\n",
    "  for i in string:\n",
    "    my_list.append(i)\n",
    "  return my_list"
   ]
  },
  {
   "cell_type": "code",
   "execution_count": null,
   "metadata": {
    "id": "GidmymCVJqV7"
   },
   "outputs": [],
   "source": [
    "make_list(\"abcd\")"
   ]
  },
  {
   "cell_type": "code",
   "execution_count": null,
   "metadata": {
    "id": "Qs5Lrb_kJs-y"
   },
   "outputs": [],
   "source": [
    "# 234\n",
    "def pickup_even(items):\n",
    "  result = []\n",
    "  for item in items:\n",
    "    if item % 2 == 0:\n",
    "      result.append(item)\n",
    "  return result\n",
    "\n"
   ]
  },
  {
   "cell_type": "code",
   "execution_count": null,
   "metadata": {
    "id": "3KptLltGK3Zs"
   },
   "outputs": [],
   "source": [
    "pickup_even([3, 4, 5, 6, 7, 8])"
   ]
  },
  {
   "cell_type": "code",
   "execution_count": null,
   "metadata": {
    "id": "vuAJFX4XK7ZO"
   },
   "outputs": [],
   "source": [
    "# 235\n",
    "def convert_int(string):\n",
    "  return int(string.replace(',', ''))"
   ]
  },
  {
   "cell_type": "code",
   "execution_count": null,
   "metadata": {
    "id": "qdYYRxXVLibf"
   },
   "outputs": [],
   "source": [
    "convert_int(\"1,234,567\")"
   ]
  },
  {
   "cell_type": "code",
   "execution_count": null,
   "metadata": {
    "id": "KrouTiPwLlcS"
   },
   "outputs": [],
   "source": [
    "# 236\n",
    "def func(num):\n",
    "  return num + 4"
   ]
  },
  {
   "cell_type": "code",
   "execution_count": null,
   "metadata": {
    "id": "ErPsnzwvLynP"
   },
   "outputs": [],
   "source": [
    "a = func(10) # 14\n",
    "print(a)\n",
    "b = func(a) # 18\n",
    "print(b)\n",
    "c = func(b) # 22\n",
    "print(c)"
   ]
  },
  {
   "cell_type": "code",
   "execution_count": null,
   "metadata": {
    "id": "rklEfiqVL4-3"
   },
   "outputs": [],
   "source": [
    "# 237\n",
    "def func(num):\n",
    "  return num + 4"
   ]
  },
  {
   "cell_type": "code",
   "execution_count": null,
   "metadata": {
    "id": "owcJYLORMlMB"
   },
   "outputs": [],
   "source": [
    "c = func(func(func(10)))\n",
    "print(c)"
   ]
  },
  {
   "cell_type": "code",
   "execution_count": null,
   "metadata": {
    "id": "tTQyXvixMpU5"
   },
   "outputs": [],
   "source": [
    "# 238\n",
    "def func1(num):\n",
    "  return num + 4\n",
    "\n",
    "def func2(num):\n",
    "  return num * 10\n",
    "\n"
   ]
  },
  {
   "cell_type": "code",
   "execution_count": null,
   "metadata": {
    "id": "pJYHSRheNFaK"
   },
   "outputs": [],
   "source": [
    "a = func1(10)\n",
    "print(a)\n",
    "c = func2(a)\n",
    "print(c)"
   ]
  },
  {
   "cell_type": "code",
   "execution_count": null,
   "metadata": {
    "id": "LKCTHL2KNL5x"
   },
   "outputs": [],
   "source": [
    "# 239\n",
    "def func1(num):\n",
    "  return num + 4\n",
    "\n",
    "def func2(num):\n",
    "  num = num + 2\n",
    "  return func1(num)"
   ]
  },
  {
   "cell_type": "code",
   "execution_count": null,
   "metadata": {
    "id": "AxsjVovSN0JN"
   },
   "outputs": [],
   "source": [
    "c = func2(10)\n",
    "print(c)"
   ]
  },
  {
   "cell_type": "code",
   "execution_count": null,
   "metadata": {
    "id": "P35qNilwN23D"
   },
   "outputs": [],
   "source": [
    "# 240\n",
    "def func0(num):\n",
    "  return num * 2\n",
    "\n",
    "def func1(num):\n",
    "  return func0(num + 2)\n",
    "\n",
    "def func2(num):\n",
    "  num = num + 10\n",
    "  return func1(num)"
   ]
  },
  {
   "cell_type": "code",
   "execution_count": null,
   "metadata": {
    "id": "IEoK5MWKOpYx"
   },
   "outputs": [],
   "source": [
    "c = func2(2)\n",
    "print(c)"
   ]
  },
  {
   "cell_type": "code",
   "execution_count": null,
   "metadata": {
    "id": "iQbdy_ReOsu2"
   },
   "outputs": [],
   "source": [
    "# 사용자 입력과 출력\n",
    "a = input()"
   ]
  },
  {
   "cell_type": "code",
   "execution_count": null,
   "metadata": {
    "id": "7mBs3IyAPWYM"
   },
   "outputs": [],
   "source": [
    "a"
   ]
  },
  {
   "cell_type": "code",
   "execution_count": null,
   "metadata": {
    "id": "C9gxtpJCPbvf"
   },
   "outputs": [],
   "source": [
    "number = input(\"숫자를 입력하세요:\")"
   ]
  },
  {
   "cell_type": "code",
   "execution_count": null,
   "metadata": {
    "id": "i2c_-BMhPoR_"
   },
   "outputs": [],
   "source": [
    "number"
   ]
  },
  {
   "cell_type": "code",
   "execution_count": null,
   "metadata": {
    "id": "nbG9yeb7Pri3"
   },
   "outputs": [],
   "source": [
    "number = input(\"이름을 입력하세요:\")"
   ]
  },
  {
   "cell_type": "code",
   "execution_count": null,
   "metadata": {
    "id": "33AXZZbxPzmI"
   },
   "outputs": [],
   "source": [
    "number"
   ]
  },
  {
   "cell_type": "code",
   "execution_count": null,
   "metadata": {
    "id": "3Kw85savP28Z"
   },
   "outputs": [],
   "source": [
    "print(\"life\" \"is\" \"too short\")"
   ]
  },
  {
   "cell_type": "code",
   "execution_count": null,
   "metadata": {
    "id": "NSJC30R2QIl_"
   },
   "outputs": [],
   "source": [
    "print(\"life\" + \"is\" + \"too short\")"
   ]
  },
  {
   "cell_type": "code",
   "execution_count": null,
   "metadata": {
    "id": "s55sUqRPQOjB"
   },
   "outputs": [],
   "source": [
    "print(\"life\", \"is\", \"too short\")"
   ]
  },
  {
   "cell_type": "code",
   "execution_count": null,
   "metadata": {
    "id": "-NKAa9FCQYaR"
   },
   "outputs": [],
   "source": [
    "for i in range(10):\n",
    "  print(i, end=' ')"
   ]
  },
  {
   "cell_type": "code",
   "execution_count": null,
   "metadata": {
    "id": "X8SmXrK7Qi4a"
   },
   "outputs": [],
   "source": [
    "# 파일 읽고 쓰기\n",
    "f = open(\"./새파일.txt\", 'w')\n",
    "for i in range(1, 11):\n",
    "  data = \"%d 번째 줄 입니다.\\n\" % i\n",
    "  f.write(data)\n",
    "f.close()"
   ]
  },
  {
   "cell_type": "code",
   "execution_count": null,
   "metadata": {
    "id": "H87uKqY_RMDD"
   },
   "outputs": [],
   "source": [
    "for i in range(1, 11):\n",
    "   data = \"%d 번째 줄 입니다.\\n\" % i\n",
    "   print(data)"
   ]
  },
  {
   "cell_type": "code",
   "execution_count": null,
   "metadata": {
    "id": "MbzO3WBKV6L2"
   },
   "outputs": [],
   "source": [
    "f = open(\"./새파일.txt\", 'r')\n",
    "line = f.readline()\n",
    "print(line)\n",
    "f.close()"
   ]
  },
  {
   "cell_type": "code",
   "execution_count": null,
   "metadata": {
    "id": "R_GC3oeMWzVo"
   },
   "outputs": [],
   "source": [
    "f = open(\"./새파일.txt\", 'r')\n",
    "while True:\n",
    "  line = f.readline()\n",
    "  if not line:\n",
    "    break\n",
    "  print(line)\n",
    "f.close()"
   ]
  },
  {
   "cell_type": "code",
   "execution_count": null,
   "metadata": {
    "id": "b206l_-BXHIg"
   },
   "outputs": [],
   "source": [
    "f = open(\"./새파일.txt\", 'r')\n",
    "lines = f.readlines()\n",
    "for line in lines:\n",
    "  print(line)\n",
    "f.close()"
   ]
  },
  {
   "cell_type": "code",
   "execution_count": null,
   "metadata": {
    "id": "rtc7-p2HXgfw"
   },
   "outputs": [],
   "source": [
    "f = open(\"./새파일.txt\", 'r')\n",
    "data = f.read()\n",
    "print(data)\n",
    "f.close()"
   ]
  },
  {
   "cell_type": "code",
   "execution_count": null,
   "metadata": {
    "id": "9j39VJeaXzK5"
   },
   "outputs": [],
   "source": [
    "f = open(\"./새파일.txt\", 'a')\n",
    "for i in range(11, 21):\n",
    "  data = \"%d 번째 줄 입니다. \\n\" % i\n",
    "  f.write(data)\n",
    "f.close()"
   ]
  },
  {
   "cell_type": "code",
   "execution_count": null,
   "metadata": {
    "id": "yba6SlV0YN5S"
   },
   "outputs": [],
   "source": [
    "f = open(\"./새파일.txt\", 'r')\n",
    "data = f.read()\n",
    "print(data)\n",
    "f.close()"
   ]
  },
  {
   "cell_type": "code",
   "execution_count": null,
   "metadata": {
    "id": "NmIG_GaMYUkZ"
   },
   "outputs": [],
   "source": [
    "# Q1\n",
    "def is_odd(number):\n",
    "  if number % 2 == 1:\n",
    "    return True\n",
    "  else:\n",
    "    return False"
   ]
  },
  {
   "cell_type": "code",
   "execution_count": null,
   "metadata": {
    "id": "msBxa3g_ZkIk"
   },
   "outputs": [],
   "source": [
    "is_odd(4)"
   ]
  },
  {
   "cell_type": "code",
   "execution_count": null,
   "metadata": {
    "id": "ryAX-o6eYkKK"
   },
   "outputs": [],
   "source": [
    "# Q2\n",
    "def avg_number(*args):\n",
    "  result = 0\n",
    "  for i in args:\n",
    "    result += i\n",
    "  return result / len(args)"
   ]
  },
  {
   "cell_type": "code",
   "execution_count": null,
   "metadata": {
    "id": "sin073ISaWw7"
   },
   "outputs": [],
   "source": [
    "avg_number(1, 2, 3, 4, 5)"
   ]
  },
  {
   "cell_type": "code",
   "execution_count": null,
   "metadata": {
    "id": "cytl9w3qYlSz"
   },
   "outputs": [],
   "source": [
    "# Q3\n",
    "input1 = input(\"첫번째 숫자를 입력:\")\n",
    "input2 = input(\"첫번째 숫자를 입력:\")\n",
    "\n",
    "total = int(input1) + int(input2)\n",
    "print(\"합은 %d이다.\" % total)"
   ]
  },
  {
   "cell_type": "code",
   "execution_count": null,
   "metadata": {
    "id": "V8xAIIodYmFK"
   },
   "outputs": [],
   "source": [
    "# Q4\n",
    "print(\"you\" \"need\" \"python\")\n",
    "print(\"you\" + \"need\" + \"python\")\n",
    "print(\"you\", \"need\", \"python\")\n",
    "print(\"\".join([\"you\", \"need\", \"python\"]))"
   ]
  },
  {
   "cell_type": "code",
   "execution_count": null,
   "metadata": {
    "id": "wrhj-6YCYm3i"
   },
   "outputs": [],
   "source": [
    "# Q5\n",
    "f1 = open(\"test.txt\", 'w')\n",
    "f1.write(\"Life is too short\")\n",
    "f1.close()\n",
    "\n",
    "f2 = open(\"test.txt\", 'r')\n",
    "print(f2.read())\n",
    "f2.close()"
   ]
  },
  {
   "cell_type": "code",
   "execution_count": null,
   "metadata": {
    "id": "DJG0xqxxYn5z"
   },
   "outputs": [],
   "source": [
    "# Q6\n",
    "user_input = input(\"입력해주세요:\")\n",
    "f = open(\"test.txt\", 'a')\n",
    "f.write('\\n')\n",
    "f.write(user_input)\n",
    "f.close()"
   ]
  },
  {
   "cell_type": "code",
   "execution_count": null,
   "metadata": {
    "id": "BrskXfE7d-gQ"
   },
   "outputs": [],
   "source": [
    "f2 = open(\"test.txt\", 'r')\n",
    "print(f2.read())\n",
    "f2.close()"
   ]
  },
  {
   "cell_type": "code",
   "execution_count": null,
   "metadata": {
    "id": "wr6mg6RmeEbm"
   },
   "outputs": [],
   "source": [
    "# Q7\n",
    "f = open('test.txt', 'r')\n",
    "body = f.read()\n",
    "f.close()\n",
    "\n",
    "body = body.replace('short', 'long')\n",
    "\n",
    "f = open('test.txt', 'w')\n",
    "f.write(body)\n",
    "f.close()"
   ]
  },
  {
   "cell_type": "code",
   "execution_count": null,
   "metadata": {
    "id": "qag9EkLae2kQ"
   },
   "outputs": [],
   "source": [
    "f2 = open(\"test.txt\", 'r')\n",
    "print(f2.read())\n",
    "f2.close()"
   ]
  },
  {
   "cell_type": "code",
   "execution_count": null,
   "metadata": {
    "id": "G_YNeGpee4n4"
   },
   "outputs": [],
   "source": [
    "# 클래스\n",
    "\n",
    "result = 0\n",
    "def add(num):\n",
    "  global result\n",
    "  result += num\n",
    "  return result\n",
    "\n",
    "print(add(3))\n",
    "print(add(5))"
   ]
  },
  {
   "cell_type": "code",
   "execution_count": null,
   "metadata": {
    "id": "Vz3hhMHLjk0j"
   },
   "outputs": [],
   "source": [
    "result1 = 0\n",
    "result2 = 0\n",
    "\n",
    "def add1(num):\n",
    "  global result1\n",
    "  result1 += num\n",
    "  return result1\n",
    "\n",
    "def add2(num):\n",
    "  global result2\n",
    "  result2 += num\n",
    "  return result2\n",
    "\n",
    "print(add1(3))\n",
    "print(add1(4))\n",
    "print(add2(3))\n",
    "print(add2(7))"
   ]
  },
  {
   "cell_type": "code",
   "execution_count": null,
   "metadata": {
    "id": "ysRqVJi_kEjE"
   },
   "outputs": [],
   "source": [
    "class Calculator:\n",
    "  def __init__(self):\n",
    "    self.result = 0\n",
    "\n",
    "  def add(self, num):\n",
    "    self.result += num\n",
    "    return self.result\n",
    "  \n",
    "  def sub(self, num):\n",
    "    self.result -= num\n",
    "    return self.result\n",
    "\n"
   ]
  },
  {
   "cell_type": "code",
   "execution_count": null,
   "metadata": {
    "id": "_xj_NSKgk1qO"
   },
   "outputs": [],
   "source": [
    "cal1 = Calculator()\n",
    "cal2 = Calculator()"
   ]
  },
  {
   "cell_type": "code",
   "execution_count": null,
   "metadata": {
    "id": "Q1mGLbSAk5EV"
   },
   "outputs": [],
   "source": [
    "print(cal1.add(3))\n",
    "print(cal1.add(4))\n",
    "print(cal2.add(3))\n",
    "print(cal2.add(7))"
   ]
  },
  {
   "cell_type": "code",
   "execution_count": null,
   "metadata": {
    "id": "UrUZMCRck-EO"
   },
   "outputs": [],
   "source": [
    "class FourCal:\n",
    "  pass\n"
   ]
  },
  {
   "cell_type": "code",
   "execution_count": null,
   "metadata": {
    "id": "4vonymtFlpiH"
   },
   "outputs": [],
   "source": [
    "a = FourCal()"
   ]
  },
  {
   "cell_type": "code",
   "execution_count": null,
   "metadata": {
    "id": "YQ_0k59plq_Y"
   },
   "outputs": [],
   "source": [
    "type(a)"
   ]
  },
  {
   "cell_type": "code",
   "execution_count": null,
   "metadata": {
    "id": "yAol1e-Olsw4"
   },
   "outputs": [],
   "source": [
    "class FourCal:\n",
    "  def setdata(self, first, second):\n",
    "    self.first = first\n",
    "    self.second = second"
   ]
  },
  {
   "cell_type": "code",
   "execution_count": null,
   "metadata": {
    "id": "wkp_3l2OnAUl"
   },
   "outputs": [],
   "source": [
    "a.setdata(4, 2)"
   ]
  },
  {
   "cell_type": "code",
   "execution_count": null,
   "metadata": {
    "id": "QhNS56VrnB1K"
   },
   "outputs": [],
   "source": [
    "a.first"
   ]
  },
  {
   "cell_type": "code",
   "execution_count": null,
   "metadata": {
    "id": "M_aMRgsKovFQ"
   },
   "outputs": [],
   "source": [
    "a.second"
   ]
  },
  {
   "cell_type": "code",
   "execution_count": null,
   "metadata": {
    "id": "RrDlcZCwow4I"
   },
   "outputs": [],
   "source": [
    "a = FourCal()\n",
    "a.setdata(8, 4)\n",
    "print(a.first)\n",
    "print(a.second)"
   ]
  },
  {
   "cell_type": "code",
   "execution_count": null,
   "metadata": {
    "id": "-il-HTN1pKZW"
   },
   "outputs": [],
   "source": [
    "a = FourCal()\n",
    "b = FourCal()\n",
    "\n",
    "a.setdata(4, 2)\n",
    "print(a.first)\n",
    "\n",
    "b.setdata(3, 7)\n",
    "print(b.first)"
   ]
  },
  {
   "cell_type": "code",
   "execution_count": null,
   "metadata": {
    "id": "FB2HRuRhpXfv"
   },
   "outputs": [],
   "source": [
    "print(a.first)"
   ]
  },
  {
   "cell_type": "code",
   "execution_count": null,
   "metadata": {
    "id": "zFFdvaxppoRv"
   },
   "outputs": [],
   "source": [
    "abc = FourCal()\n",
    "bcd = FourCal()\n",
    "\n",
    "abc.setdata(4, 2)\n",
    "\n",
    "bcd.setdata(3, 7)\n"
   ]
  },
  {
   "cell_type": "code",
   "execution_count": null,
   "metadata": {
    "id": "Btl0T8EMqCVw"
   },
   "outputs": [],
   "source": [
    "id(abc.first)\n"
   ]
  },
  {
   "cell_type": "code",
   "execution_count": null,
   "metadata": {
    "id": "fIsrYhpnqEUZ"
   },
   "outputs": [],
   "source": [
    "\n",
    "id(bcd.first)"
   ]
  },
  {
   "cell_type": "code",
   "execution_count": null,
   "metadata": {
    "id": "jJUjd6ANqMtg"
   },
   "outputs": [],
   "source": [
    "class FourCal:\n",
    "  def setdata(self, first, second):\n",
    "    self.first = first\n",
    "    self.second = second\n",
    "  def add(self):\n",
    "    result = self.first + self.second\n",
    "    return result\n",
    "  def mul(self):\n",
    "    result = self.first * self.second\n",
    "    return result\n",
    "  def sub(self):\n",
    "    result = self.first - self.second\n",
    "    return result\n",
    "  def div(self):\n",
    "    result = self.first / self.second\n",
    "    return result"
   ]
  },
  {
   "cell_type": "code",
   "execution_count": null,
   "metadata": {
    "id": "19mOJQsWuycO"
   },
   "outputs": [],
   "source": [
    "a = FourCal()\n",
    "b = FourCal()\n",
    "\n",
    "a.setdata(4, 2)\n",
    "b.setdata(3, 8)\n",
    "\n",
    "print(a.add())\n",
    "print(a.mul())\n",
    "print(a.sub())\n",
    "print(a.div())\n",
    "print(\"\\n\")\n",
    "print(b.add())\n",
    "print(b.mul())\n",
    "print(b.sub())\n",
    "print(b.div())\n"
   ]
  },
  {
   "cell_type": "code",
   "execution_count": null,
   "metadata": {
    "id": "v3JZ9wYzu40r"
   },
   "outputs": [],
   "source": [
    "a = FourCal()\n",
    "a.add()"
   ]
  },
  {
   "cell_type": "code",
   "execution_count": null,
   "metadata": {
    "id": "3YFIRVMIx37D"
   },
   "outputs": [],
   "source": [
    "class FourCal:\n",
    "  def __init__(self, first, second):\n",
    "    self.first = first\n",
    "    self.second = second\n",
    "  def setdata(self, first, second):\n",
    "    self.first = first\n",
    "    self.second = second\n",
    "  def add(self):\n",
    "    result = self.first + self.second\n",
    "    return result\n",
    "  def mul(self):\n",
    "    result = self.first * self.second\n",
    "    return result\n",
    "  def sub(self):\n",
    "    result = self.first - self.second\n",
    "    return result\n",
    "  def div(self):\n",
    "    result = self.first / self.second\n",
    "    return result"
   ]
  },
  {
   "cell_type": "code",
   "execution_count": null,
   "metadata": {
    "id": "n8xwqqzsy0RE"
   },
   "outputs": [],
   "source": [
    "a = FourCal(4, 2)\n",
    "b = FourCal(3 ,4)\n",
    "\n",
    "print(a.add())\n",
    "print(a.mul())\n",
    "print(a.sub())\n",
    "print(a.div())\n",
    "print(\"\\n\")\n",
    "print(b.add())\n",
    "print(b.mul())\n",
    "print(b.sub())\n",
    "print(b.div())\n"
   ]
  },
  {
   "cell_type": "code",
   "execution_count": null,
   "metadata": {
    "id": "eHo_cq_2y7Ds"
   },
   "outputs": [],
   "source": [
    "class MoreFourCal(FourCal):\n",
    "  pass"
   ]
  },
  {
   "cell_type": "code",
   "execution_count": null,
   "metadata": {
    "id": "X15m6M2fzbPH"
   },
   "outputs": [],
   "source": [
    "a = MoreFourCal(111, 55)"
   ]
  },
  {
   "cell_type": "code",
   "execution_count": null,
   "metadata": {
    "id": "cs0EVNVZzkst"
   },
   "outputs": [],
   "source": [
    "print(a.add())\n",
    "print(a.mul())\n",
    "print(a.sub())\n",
    "print(a.div())"
   ]
  },
  {
   "cell_type": "code",
   "execution_count": null,
   "metadata": {
    "id": "xoUy0tfpzlgl"
   },
   "outputs": [],
   "source": [
    "class MoreFourCal(FourCal):\n",
    "  def pow(self):\n",
    "    result = self.first **self.second\n",
    "    return result"
   ]
  },
  {
   "cell_type": "code",
   "execution_count": null,
   "metadata": {
    "id": "nKVNPEyk0RIf"
   },
   "outputs": [],
   "source": [
    "a = MoreFourCal(4, 2)\n",
    "a.pow()"
   ]
  },
  {
   "cell_type": "code",
   "execution_count": null,
   "metadata": {
    "id": "oaipbZ2E0XLX"
   },
   "outputs": [],
   "source": [
    "# 메서드 오버라이딩\n",
    "a = FourCal(4, 0)\n",
    "a.div()"
   ]
  },
  {
   "cell_type": "code",
   "execution_count": null,
   "metadata": {
    "id": "NwiFXdyy0xco"
   },
   "outputs": [],
   "source": [
    "class SafeFourCal(FourCal):\n",
    "  def div(self):\n",
    "    if self.second == 0:\n",
    "      return 0\n",
    "    else:\n",
    "      return self.first / self.second"
   ]
  },
  {
   "cell_type": "code",
   "execution_count": null,
   "metadata": {
    "id": "vA188IEj1Ozh"
   },
   "outputs": [],
   "source": [
    "a = SafeFourCal(4, 0)\n",
    "a.div()"
   ]
  },
  {
   "cell_type": "code",
   "execution_count": null,
   "metadata": {
    "id": "FfKUaL7M1Tmp"
   },
   "outputs": [],
   "source": [
    "# 클래스 변수\n",
    "class Family:\n",
    "  lastname = \"김\""
   ]
  },
  {
   "cell_type": "code",
   "execution_count": null,
   "metadata": {
    "id": "lrO5MKCm16he"
   },
   "outputs": [],
   "source": [
    "print(Family.lastname)"
   ]
  },
  {
   "cell_type": "code",
   "execution_count": null,
   "metadata": {
    "id": "XYeJV9JR18_6"
   },
   "outputs": [],
   "source": [
    "a = Family()\n",
    "b = Family()\n",
    "\n",
    "print(a.lastname)\n",
    "print(b.lastname)"
   ]
  },
  {
   "cell_type": "code",
   "execution_count": null,
   "metadata": {
    "id": "5WbtBu7U2JY6"
   },
   "outputs": [],
   "source": [
    "Family.lastname = \"박\"\n"
   ]
  },
  {
   "cell_type": "code",
   "execution_count": null,
   "metadata": {
    "id": "8p_wxD_o2R-k"
   },
   "outputs": [],
   "source": [
    "\n",
    "print(a.lastname)\n",
    "print(b.lastname)"
   ]
  },
  {
   "cell_type": "code",
   "execution_count": null,
   "metadata": {
    "id": "WvLqH2GO2T9r"
   },
   "outputs": [],
   "source": [
    "id(Family.lastname)\n"
   ]
  },
  {
   "cell_type": "code",
   "execution_count": null,
   "metadata": {
    "id": "Isv2LyNC2d6r"
   },
   "outputs": [],
   "source": [
    "id(a.lastname)"
   ]
  },
  {
   "cell_type": "code",
   "execution_count": null,
   "metadata": {
    "id": "N280uCmH2f5j"
   },
   "outputs": [],
   "source": [
    "id(b.lastname)"
   ]
  },
  {
   "cell_type": "code",
   "execution_count": null,
   "metadata": {
    "id": "BMzLmfwj2h7L"
   },
   "outputs": [],
   "source": [
    "# 251\n",
    "# 클래스 : \n",
    "# 객체 : \n",
    "# 인스턴스 : "
   ]
  },
  {
   "cell_type": "code",
   "execution_count": null,
   "metadata": {
    "id": "AsnpukwQ3T99"
   },
   "outputs": [],
   "source": [
    "# 252\n",
    "class Human:\n",
    "  pass"
   ]
  },
  {
   "cell_type": "code",
   "execution_count": null,
   "metadata": {
    "id": "qMYc9Ley3bD1"
   },
   "outputs": [],
   "source": [
    "# 253\n",
    "class Human:\n",
    "  pass\n",
    "areum = Human()"
   ]
  },
  {
   "cell_type": "code",
   "execution_count": null,
   "metadata": {
    "id": "gM1S2Ug73rW2"
   },
   "outputs": [],
   "source": [
    "# 254\n",
    "class Human:\n",
    "  def __init__(self):\n",
    "    print(\"응애응애\")\n",
    "areum = Human()"
   ]
  },
  {
   "cell_type": "code",
   "execution_count": null,
   "metadata": {
    "id": "c7wmyTdb4J2L"
   },
   "outputs": [],
   "source": []
  }
 ],
 "metadata": {
  "colab": {
   "name": "ex06.ipynb",
   "private_outputs": true,
   "provenance": []
  },
  "kernelspec": {
   "display_name": "Python 3",
   "language": "python",
   "name": "python3"
  },
  "language_info": {
   "codemirror_mode": {
    "name": "ipython",
    "version": 3
   },
   "file_extension": ".py",
   "mimetype": "text/x-python",
   "name": "python",
   "nbconvert_exporter": "python",
   "pygments_lexer": "ipython3",
   "version": "3.8.2"
  }
 },
 "nbformat": 4,
 "nbformat_minor": 1
}
