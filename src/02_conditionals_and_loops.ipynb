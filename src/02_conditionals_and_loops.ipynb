{
 "cells": [
  {
   "cell_type": "markdown",
   "metadata": {
    "id": "ZBPm4hVH-fdR"
   },
   "source": [
    "# 02. 조건문과 반복문\n",
    "\n",
    "## 1. 조건문\n",
    "\n",
    "- `if` 사용\n",
    "- 조건 적은 이후에 `:` 적고\n",
    "- 다음 단락은 들여쓰기로\n",
    "\n",
    "```py\n",
    "if 조건1:\n",
    "    코드 실행 # 조건1이 참일 때\n",
    "elif 조건2:\n",
    "    코드 실행 # 조건1이 거짓이고, 조건2가 참일 때\n",
    "else:\n",
    "    코드 실행 # 조건1, 2가 모두 거짓일 때 최종 실행\n",
    "```"
   ]
  },
  {
   "cell_type": "code",
   "execution_count": 5,
   "metadata": {
    "colab": {
     "base_uri": "https://localhost:8080/"
    },
    "executionInfo": {
     "elapsed": 2474,
     "status": "ok",
     "timestamp": 1604371715290,
     "user": {
      "displayName": "qbin",
      "photoUrl": "https://lh3.googleusercontent.com/a-/AOh14GgwMjwC5YxWq6f-iC8RYCxWydkPFFg2kwjiO6yQK28=s64",
      "userId": "17765229080018783972"
     },
     "user_tz": -540
    },
    "id": "jarUZ_jD_Wdv",
    "outputId": "adab4443-a39f-4689-b246-175e06d6c412"
   },
   "outputs": [
    {
     "name": "stdout",
     "output_type": "stream",
     "text": [
      "condition is true\n"
     ]
    }
   ],
   "source": [
    "condition = True\n",
    "if condition:\n",
    "    print('condition is true')"
   ]
  },
  {
   "cell_type": "code",
   "execution_count": 7,
   "metadata": {
    "colab": {
     "base_uri": "https://localhost:8080/"
    },
    "executionInfo": {
     "elapsed": 2579,
     "status": "ok",
     "timestamp": 1604372084105,
     "user": {
      "displayName": "qbin",
      "photoUrl": "https://lh3.googleusercontent.com/a-/AOh14GgwMjwC5YxWq6f-iC8RYCxWydkPFFg2kwjiO6yQK28=s64",
      "userId": "17765229080018783972"
     },
     "user_tz": -540
    },
    "id": "jtG82oMs_htu",
    "outputId": "281e9b28-44ed-46e7-fd8e-90586e33a9b6"
   },
   "outputs": [
    {
     "name": "stdout",
     "output_type": "stream",
     "text": [
      "100 is bigger than 20\n"
     ]
    }
   ],
   "source": [
    "condition = 100 > 20\n",
    "if condition:\n",
    "    print('100 is bigger than 20')"
   ]
  },
  {
   "cell_type": "code",
   "execution_count": 8,
   "metadata": {
    "colab": {
     "base_uri": "https://localhost:8080/"
    },
    "executionInfo": {
     "elapsed": 1865,
     "status": "ok",
     "timestamp": 1604372168536,
     "user": {
      "displayName": "qbin",
      "photoUrl": "https://lh3.googleusercontent.com/a-/AOh14GgwMjwC5YxWq6f-iC8RYCxWydkPFFg2kwjiO6yQK28=s64",
      "userId": "17765229080018783972"
     },
     "user_tz": -540
    },
    "id": "YZB5jMohBwhz",
    "outputId": "ed8b10db-3584-469a-a9e7-351d9876976c"
   },
   "outputs": [
    {
     "name": "stdout",
     "output_type": "stream",
     "text": [
      "Pass\n"
     ]
    }
   ],
   "source": [
    "score = 100\n",
    "if score > 80:\n",
    "    print(\"Pass\")"
   ]
  },
  {
   "cell_type": "code",
   "execution_count": 15,
   "metadata": {
    "colab": {
     "base_uri": "https://localhost:8080/"
    },
    "executionInfo": {
     "elapsed": 2574,
     "status": "ok",
     "timestamp": 1604372433253,
     "user": {
      "displayName": "qbin",
      "photoUrl": "https://lh3.googleusercontent.com/a-/AOh14GgwMjwC5YxWq6f-iC8RYCxWydkPFFg2kwjiO6yQK28=s64",
      "userId": "17765229080018783972"
     },
     "user_tz": -540
    },
    "id": "E3QsAe0jCHfw",
    "outputId": "ec305201-6c2b-4746-b38d-839bdd1129a6"
   },
   "outputs": [
    {
     "name": "stdout",
     "output_type": "stream",
     "text": [
      "Grade B\n"
     ]
    }
   ],
   "source": [
    "score = 75\n",
    "if score < 20:\n",
    "    print(\"Grade F\")\n",
    "elif 20 <= score < 40:\n",
    "    print(\"Grade D\")\n",
    "elif 40 <= score < 60:\n",
    "    print(\"Grade C\")\n",
    "elif 60 <= score < 80:\n",
    "    print(\"Grade B\")\n",
    "else:\n",
    "    print(\"Grade A\")"
   ]
  },
  {
   "cell_type": "code",
   "execution_count": 18,
   "metadata": {
    "colab": {
     "base_uri": "https://localhost:8080/"
    },
    "executionInfo": {
     "elapsed": 2475,
     "status": "ok",
     "timestamp": 1604372514493,
     "user": {
      "displayName": "qbin",
      "photoUrl": "https://lh3.googleusercontent.com/a-/AOh14GgwMjwC5YxWq6f-iC8RYCxWydkPFFg2kwjiO6yQK28=s64",
      "userId": "17765229080018783972"
     },
     "user_tz": -540
    },
    "id": "5F1_b5dpCzoe",
    "outputId": "4672830a-fdf7-4992-b443-28b20f5003ab"
   },
   "outputs": [
    {
     "name": "stdout",
     "output_type": "stream",
     "text": [
      "Score is out of range\n"
     ]
    }
   ],
   "source": [
    "score = -1\n",
    "if 0 <= score < 20:\n",
    "    print(\"Grade F\")\n",
    "elif 20 <= score < 40:\n",
    "    print(\"Grade D\")\n",
    "elif 40 <= score < 60:\n",
    "    print(\"Grade C\")\n",
    "elif 60 <= score < 80:\n",
    "    print(\"Grade B\")\n",
    "elif 80 <= score <= 100:\n",
    "    print(\"Grade A\")\n",
    "else:\n",
    "    print(\"Score is out of range\")"
   ]
  },
  {
   "cell_type": "code",
   "execution_count": 20,
   "metadata": {
    "colab": {
     "base_uri": "https://localhost:8080/"
    },
    "executionInfo": {
     "elapsed": 3026,
     "status": "ok",
     "timestamp": 1604378458334,
     "user": {
      "displayName": "qbin",
      "photoUrl": "https://lh3.googleusercontent.com/a-/AOh14GgwMjwC5YxWq6f-iC8RYCxWydkPFFg2kwjiO6yQK28=s64",
      "userId": "17765229080018783972"
     },
     "user_tz": -540
    },
    "id": "SnTDagwDDOZQ",
    "outputId": "083b5a61-a310-4a45-c6ea-783ed84ccbc2"
   },
   "outputs": [
    {
     "name": "stdout",
     "output_type": "stream",
     "text": [
      "Happy\n"
     ]
    }
   ],
   "source": [
    "# 한 줄로 써도 문법상 오류는 없지만 추천하진 않음\n",
    "weather = \"sunny\"\n",
    "if weather is 'sunny': print('Happy')\n",
    "else: print(\"Sad\")"
   ]
  },
  {
   "cell_type": "code",
   "execution_count": 21,
   "metadata": {
    "colab": {
     "base_uri": "https://localhost:8080/"
    },
    "executionInfo": {
     "elapsed": 2599,
     "status": "ok",
     "timestamp": 1604378559093,
     "user": {
      "displayName": "qbin",
      "photoUrl": "https://lh3.googleusercontent.com/a-/AOh14GgwMjwC5YxWq6f-iC8RYCxWydkPFFg2kwjiO6yQK28=s64",
      "userId": "17765229080018783972"
     },
     "user_tz": -540
    },
    "id": "ioOZyhQ9aCJw",
    "outputId": "0263a7d9-b36e-40ab-bac2-46a0eca19ab0"
   },
   "outputs": [
    {
     "name": "stdout",
     "output_type": "stream",
     "text": [
      "cold\n"
     ]
    }
   ],
   "source": [
    "# 값을 대입할 때는 간결성을 위해 쓰는 경우 많음\n",
    "temperature = -8\n",
    "feeling = 'cold' if temperature < -5 else 'hot'\n",
    "print(feeling)"
   ]
  },
  {
   "cell_type": "code",
   "execution_count": 24,
   "metadata": {
    "colab": {
     "base_uri": "https://localhost:8080/"
    },
    "executionInfo": {
     "elapsed": 3415,
     "status": "ok",
     "timestamp": 1604379026475,
     "user": {
      "displayName": "qbin",
      "photoUrl": "https://lh3.googleusercontent.com/a-/AOh14GgwMjwC5YxWq6f-iC8RYCxWydkPFFg2kwjiO6yQK28=s64",
      "userId": "17765229080018783972"
     },
     "user_tz": -540
    },
    "id": "Fzya-jUwae6b",
    "outputId": "a0ab558a-95d6-4530-dd66-ef6a83bd1d97"
   },
   "outputs": [
    {
     "name": "stdout",
     "output_type": "stream",
     "text": [
      "apple은 이미 가지고 있어요\n"
     ]
    }
   ],
   "source": [
    "gift = 'apple'\n",
    "bag = ['apple', 'banana', 'sandwich', 'coffee', 'book']\n",
    "if gift in bag:\n",
    "    print(f\"{gift}은 이미 가지고 있어요\")\n",
    "else:\n",
    "    bag.append(gift)\n",
    "    print(f'{gift} 가방에 잘 넣어둘게요.')\n",
    "    print(f\"이제 내 가방엔 {bag} 들이 있어요\")"
   ]
  },
  {
   "cell_type": "markdown",
   "metadata": {
    "id": "bdaqrHrmduHk"
   },
   "source": [
    "## 2. 반복문\n",
    "\n",
    "여러번 반복해서 계산이나 출력해야할 것이 있거나, 리스트나 dictionary의 원소들을 체크하고싶을 때 사용\n",
    "\n",
    "### 2.1 for\n",
    "\n",
    "`for ... in ...` 구문만 기억\n",
    "\n",
    "```\n",
    "for 원소 in Iterable:\n",
    "    print(원소)\n",
    "```"
   ]
  },
  {
   "cell_type": "code",
   "execution_count": 31,
   "metadata": {
    "colab": {
     "base_uri": "https://localhost:8080/"
    },
    "executionInfo": {
     "elapsed": 2888,
     "status": "ok",
     "timestamp": 1604380833501,
     "user": {
      "displayName": "qbin",
      "photoUrl": "https://lh3.googleusercontent.com/a-/AOh14GgwMjwC5YxWq6f-iC8RYCxWydkPFFg2kwjiO6yQK28=s64",
      "userId": "17765229080018783972"
     },
     "user_tz": -540
    },
    "id": "r27bwAJsb5lR",
    "outputId": "f9d24798-576d-4039-8c2e-d2387b53ee0b"
   },
   "outputs": [
    {
     "name": "stdout",
     "output_type": "stream",
     "text": [
      "red\n",
      "green\n",
      "blue\n",
      "yellow\n"
     ]
    }
   ],
   "source": [
    "colors = ['red', 'green', 'blue', 'yellow']\n",
    "for c in colors:\n",
    "    print(c)"
   ]
  },
  {
   "cell_type": "code",
   "execution_count": 32,
   "metadata": {
    "colab": {
     "base_uri": "https://localhost:8080/"
    },
    "executionInfo": {
     "elapsed": 2805,
     "status": "ok",
     "timestamp": 1604381393424,
     "user": {
      "displayName": "qbin",
      "photoUrl": "https://lh3.googleusercontent.com/a-/AOh14GgwMjwC5YxWq6f-iC8RYCxWydkPFFg2kwjiO6yQK28=s64",
      "userId": "17765229080018783972"
     },
     "user_tz": -540
    },
    "id": "DXLN5O0Ndq9u",
    "outputId": "8ef04cc5-8705-4205-9d49-7a2e113c503d"
   },
   "outputs": [
    {
     "name": "stdout",
     "output_type": "stream",
     "text": [
      "red\tin ['red', 'green', 'blue', 'yellow'], feat. q\n",
      "green\tin ['red', 'green', 'blue', 'yellow'], feat. q\n",
      "blue\tin ['red', 'green', 'blue', 'yellow'], feat. q\n",
      "yellow\tin ['red', 'green', 'blue', 'yellow'], feat. q\n"
     ]
    }
   ],
   "source": [
    "# for문 안이라고 c만 쓸 수 있는게 아니라 다른 변수 모두 활용 가능\n",
    "my_name = \"q\"\n",
    "colors = ['red', 'green', 'blue', 'yellow']\n",
    "for c in colors:\n",
    "    print(f\"{c}\\tin {colors}, feat. {my_name}\")"
   ]
  },
  {
   "cell_type": "code",
   "execution_count": 35,
   "metadata": {
    "colab": {
     "base_uri": "https://localhost:8080/"
    },
    "executionInfo": {
     "elapsed": 1270,
     "status": "ok",
     "timestamp": 1604381473786,
     "user": {
      "displayName": "qbin",
      "photoUrl": "https://lh3.googleusercontent.com/a-/AOh14GgwMjwC5YxWq6f-iC8RYCxWydkPFFg2kwjiO6yQK28=s64",
      "userId": "17765229080018783972"
     },
     "user_tz": -540
    },
    "id": "aZd_6CxpjHcJ",
    "outputId": "a8ac1981-84d7-42fb-be80-e15f27825676"
   },
   "outputs": [
    {
     "name": "stdout",
     "output_type": "stream",
     "text": [
      "0 1 2 3 4 "
     ]
    }
   ],
   "source": [
    "# 숫자로 반복\n",
    "# range(끝숫자)\n",
    "for i in range(5):\n",
    "    print(i, end=' ')"
   ]
  },
  {
   "cell_type": "code",
   "execution_count": 36,
   "metadata": {
    "colab": {
     "base_uri": "https://localhost:8080/"
    },
    "executionInfo": {
     "elapsed": 2550,
     "status": "ok",
     "timestamp": 1604381488519,
     "user": {
      "displayName": "qbin",
      "photoUrl": "https://lh3.googleusercontent.com/a-/AOh14GgwMjwC5YxWq6f-iC8RYCxWydkPFFg2kwjiO6yQK28=s64",
      "userId": "17765229080018783972"
     },
     "user_tz": -540
    },
    "id": "Fas-tg2yleIO",
    "outputId": "9823c41b-eaf0-4d8c-8825-c601f9b20a59"
   },
   "outputs": [
    {
     "name": "stdout",
     "output_type": "stream",
     "text": [
      "10 11 12 13 14 15 16 17 18 19 "
     ]
    }
   ],
   "source": [
    "# range(시작, 끝)\n",
    "for i in range(10, 20):\n",
    "    print(i, end=' ')"
   ]
  },
  {
   "cell_type": "code",
   "execution_count": 37,
   "metadata": {
    "colab": {
     "base_uri": "https://localhost:8080/"
    },
    "executionInfo": {
     "elapsed": 2446,
     "status": "ok",
     "timestamp": 1604381580376,
     "user": {
      "displayName": "qbin",
      "photoUrl": "https://lh3.googleusercontent.com/a-/AOh14GgwMjwC5YxWq6f-iC8RYCxWydkPFFg2kwjiO6yQK28=s64",
      "userId": "17765229080018783972"
     },
     "user_tz": -540
    },
    "id": "zpCpYiYRlqP5",
    "outputId": "63e01746-5ef9-47cb-9aba-0b3b5eca3b3e"
   },
   "outputs": [
    {
     "name": "stdout",
     "output_type": "stream",
     "text": [
      "100 120 140 160 180 "
     ]
    }
   ],
   "source": [
    "# range(시작, 끝, 건너뛰기)\n",
    "for i in range(100, 200, 20):\n",
    "    print(i, end=' ')"
   ]
  },
  {
   "cell_type": "code",
   "execution_count": 39,
   "metadata": {
    "colab": {
     "base_uri": "https://localhost:8080/"
    },
    "executionInfo": {
     "elapsed": 2655,
     "status": "ok",
     "timestamp": 1604381648892,
     "user": {
      "displayName": "qbin",
      "photoUrl": "https://lh3.googleusercontent.com/a-/AOh14GgwMjwC5YxWq6f-iC8RYCxWydkPFFg2kwjiO6yQK28=s64",
      "userId": "17765229080018783972"
     },
     "user_tz": -540
    },
    "id": "gWk-i7GgmBAb",
    "outputId": "fd015151-bf2e-4560-9b7f-a0134b8df86e"
   },
   "outputs": [
    {
     "name": "stdout",
     "output_type": "stream",
     "text": [
      "Artificial Intelligence"
     ]
    }
   ],
   "source": [
    "# 문자열도 iterable\n",
    "for c in \"Artificial Intelligence\":\n",
    "    print(c, end='')"
   ]
  },
  {
   "cell_type": "code",
   "execution_count": 48,
   "metadata": {
    "colab": {
     "base_uri": "https://localhost:8080/"
    },
    "executionInfo": {
     "elapsed": 1312,
     "status": "ok",
     "timestamp": 1604382326469,
     "user": {
      "displayName": "qbin",
      "photoUrl": "https://lh3.googleusercontent.com/a-/AOh14GgwMjwC5YxWq6f-iC8RYCxWydkPFFg2kwjiO6yQK28=s64",
      "userId": "17765229080018783972"
     },
     "user_tz": -540
    },
    "id": "sR_Zy06XmEf5",
    "outputId": "d04a1a74-c0cc-4ddf-cfc9-ba1773180570"
   },
   "outputs": [
    {
     "name": "stdout",
     "output_type": "stream",
     "text": [
      "aRTIFICIAL iNTELLIGENCE"
     ]
    }
   ],
   "source": [
    "# 문자열도 iterable\n",
    "small_letters = 'abcdefghijklmnopqrstuvwxyz'\n",
    "capital_letters = 'ABCDEFGHIJKLMNOPQRSTUVWXYZ'\n",
    "\n",
    "sentence = \"Artificial Intelligence\"\n",
    "for c in sentence:\n",
    "    if c in small_letters:\n",
    "        c = c.upper()\n",
    "    elif c in capital_letters:\n",
    "        c = c.lower()\n",
    "    else:\n",
    "        pass\n",
    "    print(c, end='')"
   ]
  },
  {
   "cell_type": "code",
   "execution_count": 1,
   "metadata": {},
   "outputs": [
    {
     "name": "stdout",
     "output_type": "stream",
     "text": [
      "10 12 14 16 18 20 22 24 26 28 30 32 34 36 38 "
     ]
    }
   ],
   "source": [
    "# 반복 중단 : break\n",
    "for i in range(10, 100, 2):\n",
    "    if i == 40:\n",
    "        break\n",
    "    print(i, end=' ')"
   ]
  },
  {
   "cell_type": "markdown",
   "metadata": {
    "id": "ed8Su4DRpaT-"
   },
   "source": [
    "### List comprehension\n",
    "\n",
    "for 반복을 활용해서 list 만들기"
   ]
  },
  {
   "cell_type": "code",
   "execution_count": 49,
   "metadata": {
    "colab": {
     "base_uri": "https://localhost:8080/"
    },
    "executionInfo": {
     "elapsed": 2808,
     "status": "ok",
     "timestamp": 1604382516703,
     "user": {
      "displayName": "qbin",
      "photoUrl": "https://lh3.googleusercontent.com/a-/AOh14GgwMjwC5YxWq6f-iC8RYCxWydkPFFg2kwjiO6yQK28=s64",
      "userId": "17765229080018783972"
     },
     "user_tz": -540
    },
    "id": "eQjvNUvAnvA2",
    "outputId": "c5b60d89-34ce-4a0c-e7d1-e29e5f63defd"
   },
   "outputs": [
    {
     "name": "stdout",
     "output_type": "stream",
     "text": [
      "['h', 'u', 'm', 'a', 'n']\n"
     ]
    }
   ],
   "source": [
    "# 그냥 단순 for 문으로 만들면\n",
    "h_letters = []\n",
    "\n",
    "for letter in 'human':\n",
    "    h_letters.append(letter)\n",
    "\n",
    "print(h_letters)"
   ]
  },
  {
   "cell_type": "markdown",
   "metadata": {
    "id": "QsE4FmtAp2EO"
   },
   "source": [
    "포맷은 다음과 같음\n",
    "\n",
    "![example](https://cdn.programiz.com/sites/tutorial2program/files/lc.jpg)"
   ]
  },
  {
   "cell_type": "code",
   "execution_count": 50,
   "metadata": {
    "colab": {
     "base_uri": "https://localhost:8080/"
    },
    "executionInfo": {
     "elapsed": 1769,
     "status": "ok",
     "timestamp": 1604382532679,
     "user": {
      "displayName": "qbin",
      "photoUrl": "https://lh3.googleusercontent.com/a-/AOh14GgwMjwC5YxWq6f-iC8RYCxWydkPFFg2kwjiO6yQK28=s64",
      "userId": "17765229080018783972"
     },
     "user_tz": -540
    },
    "id": "BflAHZP7plq_",
    "outputId": "f69c8078-86d9-475a-d7f3-8ccc2448dfdf"
   },
   "outputs": [
    {
     "name": "stdout",
     "output_type": "stream",
     "text": [
      "['h', 'u', 'm', 'a', 'n']\n"
     ]
    }
   ],
   "source": [
    "# list comprehension\n",
    "h_letters = [ letter for letter in 'human' ]\n",
    "print( h_letters)"
   ]
  },
  {
   "cell_type": "code",
   "execution_count": 52,
   "metadata": {
    "colab": {
     "base_uri": "https://localhost:8080/"
    },
    "executionInfo": {
     "elapsed": 2550,
     "status": "ok",
     "timestamp": 1604382686612,
     "user": {
      "displayName": "qbin",
      "photoUrl": "https://lh3.googleusercontent.com/a-/AOh14GgwMjwC5YxWq6f-iC8RYCxWydkPFFg2kwjiO6yQK28=s64",
      "userId": "17765229080018783972"
     },
     "user_tz": -540
    },
    "id": "rgQ8yamZpp05",
    "outputId": "ee4cbab8-5d70-41ed-8550-28b1bef298e3"
   },
   "outputs": [
    {
     "name": "stdout",
     "output_type": "stream",
     "text": [
      "[1000, 2000, 3000, 4000, 5000, 6000, 7000, 8000, 9000]\n"
     ]
    }
   ],
   "source": [
    "# 1000 단위의 연속된 숫자를 리스트로 만들기\n",
    "result = [i * 1000 for i in range(1, 10)]\n",
    "print(result)"
   ]
  },
  {
   "cell_type": "markdown",
   "metadata": {
    "id": "oNegCiOiq1EH"
   },
   "source": [
    "list comprehension에 if 조건문을 추가해서 사용할 수 있음\n",
    "\n",
    "원소를 필터링하는 목적이라면 if 조건문을 뒤에 쓰기"
   ]
  },
  {
   "cell_type": "code",
   "execution_count": 53,
   "metadata": {
    "colab": {
     "base_uri": "https://localhost:8080/"
    },
    "executionInfo": {
     "elapsed": 2493,
     "status": "ok",
     "timestamp": 1604382760310,
     "user": {
      "displayName": "qbin",
      "photoUrl": "https://lh3.googleusercontent.com/a-/AOh14GgwMjwC5YxWq6f-iC8RYCxWydkPFFg2kwjiO6yQK28=s64",
      "userId": "17765229080018783972"
     },
     "user_tz": -540
    },
    "id": "gG39i_hiqMsB",
    "outputId": "d03f1a6c-7ca7-4bab-82c1-73e6b1a3ed76"
   },
   "outputs": [
    {
     "name": "stdout",
     "output_type": "stream",
     "text": [
      "[0, 2, 4, 6, 8, 10, 12, 14, 16, 18]\n"
     ]
    }
   ],
   "source": [
    "# 짝수만 골라서 담아보자 1\n",
    "number_list = [ x for x in range(20) if x % 2 == 0]\n",
    "print(number_list)"
   ]
  },
  {
   "cell_type": "code",
   "execution_count": 54,
   "metadata": {
    "colab": {
     "base_uri": "https://localhost:8080/"
    },
    "executionInfo": {
     "elapsed": 2810,
     "status": "ok",
     "timestamp": 1604382814913,
     "user": {
      "displayName": "qbin",
      "photoUrl": "https://lh3.googleusercontent.com/a-/AOh14GgwMjwC5YxWq6f-iC8RYCxWydkPFFg2kwjiO6yQK28=s64",
      "userId": "17765229080018783972"
     },
     "user_tz": -540
    },
    "id": "KJUIxX98qgvl",
    "outputId": "1e5a8aaa-da5f-4ed4-e687-38dd75ca854e"
   },
   "outputs": [
    {
     "name": "stdout",
     "output_type": "stream",
     "text": [
      "[0, None, 2, None, 4, None, 6, None, 8, None, 10, None, 12, None, 14, None, 16, None, 18, None]\n"
     ]
    }
   ],
   "source": [
    "# 짝수만 골라서 담아보자 2\n",
    "number_list = [ x if x % 2 == 0 else None for x in range(20)]\n",
    "print(number_list)"
   ]
  },
  {
   "cell_type": "markdown",
   "metadata": {
    "id": "HSW9ddjPquej"
   },
   "source": [
    "### 2.2 while\n",
    "\n",
    "```py\n",
    "while 조건:\n",
    "    코드\n",
    "```"
   ]
  },
  {
   "cell_type": "code",
   "execution_count": 3,
   "metadata": {},
   "outputs": [
    {
     "name": "stdout",
     "output_type": "stream",
     "text": [
      "count is 5\n",
      "count is 4\n",
      "count is 3\n",
      "count is 2\n",
      "count is 1\n"
     ]
    }
   ],
   "source": [
    "count = 5\n",
    "while count > 0:\n",
    "    print(f\"count is {count}\")\n",
    "    count -= 1"
   ]
  },
  {
   "cell_type": "code",
   "execution_count": 4,
   "metadata": {},
   "outputs": [
    {
     "name": "stdout",
     "output_type": "stream",
     "text": [
      "count is 0\n",
      "count is 20\n",
      "count is 40\n",
      "count is 60\n",
      "count is 80\n",
      "count is 100\n"
     ]
    }
   ],
   "source": [
    "destination = 100\n",
    "count = 0\n",
    "while True:\n",
    "    if count > 100:\n",
    "        break\n",
    "    print(f\"count is {count}\")\n",
    "    count += 20"
   ]
  },
  {
   "cell_type": "code",
   "execution_count": null,
   "metadata": {},
   "outputs": [],
   "source": []
  }
 ],
 "metadata": {
  "colab": {
   "authorship_tag": "ABX9TyNc2pR5E3M88u1ZqMm65q8+",
   "collapsed_sections": [],
   "name": "conditionals_and_loops",
   "provenance": []
  },
  "kernelspec": {
   "display_name": "Python 3",
   "language": "python",
   "name": "python3"
  },
  "language_info": {
   "codemirror_mode": {
    "name": "ipython",
    "version": 3
   },
   "file_extension": ".py",
   "mimetype": "text/x-python",
   "name": "python",
   "nbconvert_exporter": "python",
   "pygments_lexer": "ipython3",
   "version": "3.8.2"
  }
 },
 "nbformat": 4,
 "nbformat_minor": 1
}
