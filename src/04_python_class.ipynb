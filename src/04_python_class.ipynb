{
 "cells": [
  {
   "cell_type": "markdown",
   "metadata": {
    "id": "IFZLnfBDFztE"
   },
   "source": [
    "# 4. Class\n",
    "\n",
    "\n",
    "### 실습 1. 특정 숫자를 더해서 반환하는 기능 필요\n",
    "\n",
    "- 숫자를 더하는 함수들이 여러개 필요한 상황\n",
    "- 필요한 상황에 알맞은 함수를 호출해서 사용하고싶은 상황\n",
    "\n",
    "함수를 사용한다면 아래처럼 각 숫자마다 함수를 매번 만들어줘야 함"
   ]
  },
  {
   "cell_type": "code",
   "execution_count": 1,
   "metadata": {
    "id": "g3-dxMxCExCj"
   },
   "outputs": [],
   "source": [
    "def add2(num):\n",
    "    \"\"\"\n",
    "    입력받은 숫자에 2를 더해서 반환하는 함수\n",
    "    \"\"\"\n",
    "    return num + 2\n",
    "\n",
    "def add3(num):\n",
    "    \"\"\"\n",
    "    입력받은 숫자에 3을 더해서 반환하는 함수\n",
    "    \"\"\"\n",
    "    return num + 3"
   ]
  },
  {
   "cell_type": "code",
   "execution_count": 2,
   "metadata": {
    "colab": {
     "base_uri": "https://localhost:8080/"
    },
    "executionInfo": {
     "elapsed": 4310,
     "status": "ok",
     "timestamp": 1604457130120,
     "user": {
      "displayName": "qbin",
      "photoUrl": "https://lh3.googleusercontent.com/a-/AOh14GgwMjwC5YxWq6f-iC8RYCxWydkPFFg2kwjiO6yQK28=s64",
      "userId": "17765229080018783972"
     },
     "user_tz": -540
    },
    "id": "7XiCXwvaGJFR",
    "outputId": "bd83faa1-54b6-4f4b-e181-d531a86f0728"
   },
   "outputs": [
    {
     "data": {
      "text/plain": [
       "102"
      ]
     },
     "execution_count": 2,
     "metadata": {},
     "output_type": "execute_result"
    }
   ],
   "source": [
    "add2(100)"
   ]
  },
  {
   "cell_type": "markdown",
   "metadata": {
    "id": "paS6GrCUGOJB"
   },
   "source": [
    "더하는 기능(function)은 같기 때문에, 어떤 숫자(variable)를 더하는지만 바꿀 수 있다면 좋을 것"
   ]
  },
  {
   "cell_type": "code",
   "execution_count": 3,
   "metadata": {
    "id": "VtGZAHBEGLJl"
   },
   "outputs": [],
   "source": [
    "class AddMachine():\n",
    "    def __init__(self, plus_num):\n",
    "        self.plus_num = plus_num\n",
    "\n",
    "    def calculate(self, num):\n",
    "        return self.plus_num + num"
   ]
  },
  {
   "cell_type": "code",
   "execution_count": 4,
   "metadata": {
    "colab": {
     "base_uri": "https://localhost:8080/"
    },
    "executionInfo": {
     "elapsed": 3367,
     "status": "ok",
     "timestamp": 1604457291971,
     "user": {
      "displayName": "qbin",
      "photoUrl": "https://lh3.googleusercontent.com/a-/AOh14GgwMjwC5YxWq6f-iC8RYCxWydkPFFg2kwjiO6yQK28=s64",
      "userId": "17765229080018783972"
     },
     "user_tz": -540
    },
    "id": "vwnSUOfDGpqh",
    "outputId": "6c11b5ed-b385-43d5-9b22-f6689da7cb02"
   },
   "outputs": [
    {
     "data": {
      "text/plain": [
       "102"
      ]
     },
     "execution_count": 4,
     "metadata": {},
     "output_type": "execute_result"
    }
   ],
   "source": [
    "add2 = AddMachine(2)\n",
    "add2.calculate(100)"
   ]
  },
  {
   "cell_type": "code",
   "execution_count": 5,
   "metadata": {
    "colab": {
     "base_uri": "https://localhost:8080/"
    },
    "executionInfo": {
     "elapsed": 2759,
     "status": "ok",
     "timestamp": 1604458465993,
     "user": {
      "displayName": "qbin",
      "photoUrl": "https://lh3.googleusercontent.com/a-/AOh14GgwMjwC5YxWq6f-iC8RYCxWydkPFFg2kwjiO6yQK28=s64",
      "userId": "17765229080018783972"
     },
     "user_tz": -540
    },
    "id": "MF1w4o1fGxka",
    "outputId": "7fdd9cf5-e991-476e-b3e9-74097083d8ca"
   },
   "outputs": [
    {
     "data": {
      "text/plain": [
       "150"
      ]
     },
     "execution_count": 5,
     "metadata": {},
     "output_type": "execute_result"
    }
   ],
   "source": [
    "add100 = AddMachine(100)\n",
    "add100.calculate(50)"
   ]
  },
  {
   "cell_type": "markdown",
   "metadata": {},
   "source": [
    "AddMachine의 object를 호출하는 형태로 사용할 수 있도록 `__call__` 메소드 추가"
   ]
  },
  {
   "cell_type": "code",
   "execution_count": 6,
   "metadata": {
    "id": "HGzkdeyALTwd"
   },
   "outputs": [],
   "source": [
    "class AddMachine():\n",
    "    def __init__(self, plus_num):\n",
    "        self.plus_num = plus_num\n",
    "\n",
    "    def calculate(self, num):\n",
    "        return self.plus_num + num\n",
    "\n",
    "    def __call__(self, num):\n",
    "        return self.calculate(num)"
   ]
  },
  {
   "cell_type": "code",
   "execution_count": 7,
   "metadata": {
    "colab": {
     "base_uri": "https://localhost:8080/"
    },
    "executionInfo": {
     "elapsed": 2152,
     "status": "ok",
     "timestamp": 1604458530697,
     "user": {
      "displayName": "qbin",
      "photoUrl": "https://lh3.googleusercontent.com/a-/AOh14GgwMjwC5YxWq6f-iC8RYCxWydkPFFg2kwjiO6yQK28=s64",
      "userId": "17765229080018783972"
     },
     "user_tz": -540
    },
    "id": "1SXlvdwSLgIC",
    "outputId": "da9d6b69-1fe7-4e36-fca5-57520d78d9df"
   },
   "outputs": [
    {
     "data": {
      "text/plain": [
       "40"
      ]
     },
     "execution_count": 7,
     "metadata": {},
     "output_type": "execute_result"
    }
   ],
   "source": [
    "add10 = AddMachine(10)\n",
    "add10(30)"
   ]
  },
  {
   "cell_type": "markdown",
   "metadata": {
    "id": "hADIdFRaRnMU"
   },
   "source": [
    "### 2. 계산기 예제\n",
    "\n",
    "- 현재 계산 중인 값을 저장하고 있어야 함\n",
    "- 덧셈, 뺄셈, 곱셈, 나눗셈 사칙연산 기능\n",
    "- 리셋 기능"
   ]
  },
  {
   "cell_type": "code",
   "execution_count": 8,
   "metadata": {
    "executionInfo": {
     "elapsed": 1176,
     "status": "ok",
     "timestamp": 1604467231134,
     "user": {
      "displayName": "qbin",
      "photoUrl": "https://lh3.googleusercontent.com/a-/AOh14GgwMjwC5YxWq6f-iC8RYCxWydkPFFg2kwjiO6yQK28=s64",
      "userId": "17765229080018783972"
     },
     "user_tz": -540
    },
    "id": "nRMcwqoQRmvF"
   },
   "outputs": [],
   "source": [
    "class Calculator():\n",
    "    def __init__(self):\n",
    "        self.result = 0\n",
    "\n",
    "    def add(self, num):\n",
    "        self.result += num\n",
    "\n",
    "    def subtract(self, num):\n",
    "        self.result -= num\n",
    "\n",
    "    def multiply(self, num):\n",
    "        self.result *= num\n",
    "\n",
    "    def divide(self, num):\n",
    "        self.result /= num\n",
    "\n",
    "    def reset(self):\n",
    "        self.result = 0\n",
    "\n",
    "    def get_result(self):\n",
    "        return self.result"
   ]
  },
  {
   "cell_type": "code",
   "execution_count": 9,
   "metadata": {
    "executionInfo": {
     "elapsed": 1488,
     "status": "ok",
     "timestamp": 1604467231788,
     "user": {
      "displayName": "qbin",
      "photoUrl": "https://lh3.googleusercontent.com/a-/AOh14GgwMjwC5YxWq6f-iC8RYCxWydkPFFg2kwjiO6yQK28=s64",
      "userId": "17765229080018783972"
     },
     "user_tz": -540
    },
    "id": "lrJnhHTLLj8D"
   },
   "outputs": [],
   "source": [
    "cal = Calculator()"
   ]
  },
  {
   "cell_type": "code",
   "execution_count": 10,
   "metadata": {
    "colab": {
     "base_uri": "https://localhost:8080/"
    },
    "executionInfo": {
     "elapsed": 1858,
     "status": "ok",
     "timestamp": 1604467447602,
     "user": {
      "displayName": "qbin",
      "photoUrl": "https://lh3.googleusercontent.com/a-/AOh14GgwMjwC5YxWq6f-iC8RYCxWydkPFFg2kwjiO6yQK28=s64",
      "userId": "17765229080018783972"
     },
     "user_tz": -540
    },
    "id": "xq6ah-7CsfSV",
    "outputId": "1ebc4ee8-e90c-438b-9b02-55d3fee08a59"
   },
   "outputs": [
    {
     "name": "stdout",
     "output_type": "stream",
     "text": [
      "100.0\n"
     ]
    }
   ],
   "source": [
    "cal.reset()\n",
    "cal.add(10)  # 10\n",
    "cal.subtract(5)  # 5\n",
    "cal.multiply(100)  # 500\n",
    "cal.divide(5)  # 100\n",
    "result = cal.get_result()\n",
    "print(result)"
   ]
  },
  {
   "cell_type": "code",
   "execution_count": 11,
   "metadata": {
    "colab": {
     "base_uri": "https://localhost:8080/"
    },
    "executionInfo": {
     "elapsed": 1067,
     "status": "ok",
     "timestamp": 1604467609315,
     "user": {
      "displayName": "qbin",
      "photoUrl": "https://lh3.googleusercontent.com/a-/AOh14GgwMjwC5YxWq6f-iC8RYCxWydkPFFg2kwjiO6yQK28=s64",
      "userId": "17765229080018783972"
     },
     "user_tz": -540
    },
    "id": "3w62fFGIsiuc",
    "outputId": "c655b303-09f9-4e44-a102-d1d9b9e7c2b7"
   },
   "outputs": [
    {
     "name": "stdout",
     "output_type": "stream",
     "text": [
      "cal1 result: 500\n",
      "cal2 result: 0\n"
     ]
    }
   ],
   "source": [
    "cal1 = Calculator()\n",
    "cal2 = Calculator()\n",
    "\n",
    "cal1.add(100)\n",
    "cal1.multiply(5)\n",
    "\n",
    "print(f\"cal1 result: {cal1.get_result()}\")\n",
    "print(f\"cal2 result: {cal2.get_result()}\")"
   ]
  },
  {
   "cell_type": "markdown",
   "metadata": {
    "id": "MArfMcBDvW3x"
   },
   "source": [
    "### 3. 상속\n",
    "\n",
    "- 기존 기능은 그대로 가져가되 추가 메소드 구현이나 수정 가능\n",
    "- 비슷한 기능이지만 약간씩 다른 클래스를 여러개 만들어야할 때, 동일 기능을 부모 클래스로 만들어두면 유지보수 쉬움"
   ]
  },
  {
   "cell_type": "code",
   "execution_count": 23,
   "metadata": {
    "executionInfo": {
     "elapsed": 1034,
     "status": "ok",
     "timestamp": 1604468019554,
     "user": {
      "displayName": "qbin",
      "photoUrl": "https://lh3.googleusercontent.com/a-/AOh14GgwMjwC5YxWq6f-iC8RYCxWydkPFFg2kwjiO6yQK28=s64",
      "userId": "17765229080018783972"
     },
     "user_tz": -540
    },
    "id": "h8oiZ-0auMo4"
   },
   "outputs": [],
   "source": [
    "class AdvancedCalculator(Calculator):\n",
    "    def pow(self, num):\n",
    "        self.result **= num"
   ]
  },
  {
   "cell_type": "code",
   "execution_count": 24,
   "metadata": {
    "executionInfo": {
     "elapsed": 548,
     "status": "ok",
     "timestamp": 1604468034006,
     "user": {
      "displayName": "qbin",
      "photoUrl": "https://lh3.googleusercontent.com/a-/AOh14GgwMjwC5YxWq6f-iC8RYCxWydkPFFg2kwjiO6yQK28=s64",
      "userId": "17765229080018783972"
     },
     "user_tz": -540
    },
    "id": "1Jm35-qsvwz8"
   },
   "outputs": [],
   "source": [
    "adcal = AdvancedCalculator()"
   ]
  },
  {
   "cell_type": "code",
   "execution_count": 25,
   "metadata": {
    "colab": {
     "base_uri": "https://localhost:8080/"
    },
    "executionInfo": {
     "elapsed": 675,
     "status": "ok",
     "timestamp": 1604468082889,
     "user": {
      "displayName": "qbin",
      "photoUrl": "https://lh3.googleusercontent.com/a-/AOh14GgwMjwC5YxWq6f-iC8RYCxWydkPFFg2kwjiO6yQK28=s64",
      "userId": "17765229080018783972"
     },
     "user_tz": -540
    },
    "id": "bcWwUBnuv0db",
    "outputId": "d2e3d6ee-b591-4636-bd61-907e7294ea72"
   },
   "outputs": [
    {
     "name": "stdout",
     "output_type": "stream",
     "text": [
      "125.0\n"
     ]
    }
   ],
   "source": [
    "adcal.add(10)\n",
    "adcal.subtract(8)\n",
    "adcal.multiply(5)\n",
    "adcal.divide(2)\n",
    "adcal.pow(3)\n",
    "result = adcal.get_result()\n",
    "print(result)"
   ]
  },
  {
   "cell_type": "markdown",
   "metadata": {
    "id": "4yYN0j0EwANE"
   },
   "source": [
    "### 4. Method override (메소드 오버라이드)"
   ]
  },
  {
   "cell_type": "code",
   "execution_count": 12,
   "metadata": {
    "colab": {
     "base_uri": "https://localhost:8080/",
     "height": 315
    },
    "executionInfo": {
     "elapsed": 1186,
     "status": "error",
     "timestamp": 1604468176022,
     "user": {
      "displayName": "qbin",
      "photoUrl": "https://lh3.googleusercontent.com/a-/AOh14GgwMjwC5YxWq6f-iC8RYCxWydkPFFg2kwjiO6yQK28=s64",
      "userId": "17765229080018783972"
     },
     "user_tz": -540
    },
    "id": "6TqGgcFSwRAh",
    "outputId": "c38d8d1e-86bf-4111-c20a-c4e3011c8d64"
   },
   "outputs": [
    {
     "ename": "ZeroDivisionError",
     "evalue": "division by zero",
     "output_type": "error",
     "traceback": [
      "\u001b[0;31m---------------------------------------------------------------------------\u001b[0m",
      "\u001b[0;31mZeroDivisionError\u001b[0m                         Traceback (most recent call last)",
      "\u001b[0;32m<ipython-input-12-ffd1ded3ae89>\u001b[0m in \u001b[0;36m<module>\u001b[0;34m\u001b[0m\n\u001b[1;32m      1\u001b[0m \u001b[0;31m# 에러\u001b[0m\u001b[0;34m\u001b[0m\u001b[0;34m\u001b[0m\u001b[0;34m\u001b[0m\u001b[0m\n\u001b[1;32m      2\u001b[0m \u001b[0mcal\u001b[0m \u001b[0;34m=\u001b[0m \u001b[0mCalculator\u001b[0m\u001b[0;34m(\u001b[0m\u001b[0;34m)\u001b[0m\u001b[0;34m\u001b[0m\u001b[0;34m\u001b[0m\u001b[0m\n\u001b[0;32m----> 3\u001b[0;31m \u001b[0mcal\u001b[0m\u001b[0;34m.\u001b[0m\u001b[0mdivide\u001b[0m\u001b[0;34m(\u001b[0m\u001b[0;36m0\u001b[0m\u001b[0;34m)\u001b[0m\u001b[0;34m\u001b[0m\u001b[0;34m\u001b[0m\u001b[0m\n\u001b[0m",
      "\u001b[0;32m<ipython-input-8-39504b3bee7c>\u001b[0m in \u001b[0;36mdivide\u001b[0;34m(self, num)\u001b[0m\n\u001b[1;32m     13\u001b[0m \u001b[0;34m\u001b[0m\u001b[0m\n\u001b[1;32m     14\u001b[0m     \u001b[0;32mdef\u001b[0m \u001b[0mdivide\u001b[0m\u001b[0;34m(\u001b[0m\u001b[0mself\u001b[0m\u001b[0;34m,\u001b[0m \u001b[0mnum\u001b[0m\u001b[0;34m)\u001b[0m\u001b[0;34m:\u001b[0m\u001b[0;34m\u001b[0m\u001b[0;34m\u001b[0m\u001b[0m\n\u001b[0;32m---> 15\u001b[0;31m         \u001b[0mself\u001b[0m\u001b[0;34m.\u001b[0m\u001b[0mresult\u001b[0m \u001b[0;34m/=\u001b[0m \u001b[0mnum\u001b[0m\u001b[0;34m\u001b[0m\u001b[0;34m\u001b[0m\u001b[0m\n\u001b[0m\u001b[1;32m     16\u001b[0m \u001b[0;34m\u001b[0m\u001b[0m\n\u001b[1;32m     17\u001b[0m     \u001b[0;32mdef\u001b[0m \u001b[0mreset\u001b[0m\u001b[0;34m(\u001b[0m\u001b[0mself\u001b[0m\u001b[0;34m)\u001b[0m\u001b[0;34m:\u001b[0m\u001b[0;34m\u001b[0m\u001b[0;34m\u001b[0m\u001b[0m\n",
      "\u001b[0;31mZeroDivisionError\u001b[0m: division by zero"
     ]
    }
   ],
   "source": [
    "# 에러\n",
    "cal = Calculator()\n",
    "cal.divide(0)"
   ]
  },
  {
   "cell_type": "code",
   "execution_count": 13,
   "metadata": {
    "executionInfo": {
     "elapsed": 1092,
     "status": "ok",
     "timestamp": 1604468327163,
     "user": {
      "displayName": "qbin",
      "photoUrl": "https://lh3.googleusercontent.com/a-/AOh14GgwMjwC5YxWq6f-iC8RYCxWydkPFFg2kwjiO6yQK28=s64",
      "userId": "17765229080018783972"
     },
     "user_tz": -540
    },
    "id": "Gm-l6kh-wJE0"
   },
   "outputs": [],
   "source": [
    "class SafeCalculator(Calculator):\n",
    "    def divide(self, num):\n",
    "        if num == 0:\n",
    "            print(\"Division by zero is not supported\")\n",
    "        else:\n",
    "            self.result /= num"
   ]
  },
  {
   "cell_type": "code",
   "execution_count": 14,
   "metadata": {
    "colab": {
     "base_uri": "https://localhost:8080/"
    },
    "executionInfo": {
     "elapsed": 537,
     "status": "ok",
     "timestamp": 1604468327164,
     "user": {
      "displayName": "qbin",
      "photoUrl": "https://lh3.googleusercontent.com/a-/AOh14GgwMjwC5YxWq6f-iC8RYCxWydkPFFg2kwjiO6yQK28=s64",
      "userId": "17765229080018783972"
     },
     "user_tz": -540
    },
    "id": "kGHWj0WcwwTG",
    "outputId": "50b0ee54-e09a-4be8-af5d-41728811e4e4"
   },
   "outputs": [
    {
     "name": "stdout",
     "output_type": "stream",
     "text": [
      "Division by zero is not supported\n"
     ]
    }
   ],
   "source": [
    "safecal = SafeCalculator()\n",
    "safecal.divide(0)"
   ]
  },
  {
   "cell_type": "markdown",
   "metadata": {
    "id": "Ca_xI2NVw8CU"
   },
   "source": [
    "### 5. 클래스 변수\n",
    "\n",
    "특정 클래스로 생성되는 모든 Object에 대해서 공통 관리되는 동일 변수가 필요할 때 사용"
   ]
  },
  {
   "cell_type": "code",
   "execution_count": 15,
   "metadata": {
    "colab": {
     "base_uri": "https://localhost:8080/"
    },
    "executionInfo": {
     "elapsed": 1036,
     "status": "ok",
     "timestamp": 1604468402256,
     "user": {
      "displayName": "qbin",
      "photoUrl": "https://lh3.googleusercontent.com/a-/AOh14GgwMjwC5YxWq6f-iC8RYCxWydkPFFg2kwjiO6yQK28=s64",
      "userId": "17765229080018783972"
     },
     "user_tz": -540
    },
    "id": "tHIR1PDxxETC",
    "outputId": "b62c1021-65d2-4b8b-800a-2490555f97aa"
   },
   "outputs": [
    {
     "name": "stdout",
     "output_type": "stream",
     "text": [
      "Kim\n"
     ]
    }
   ],
   "source": [
    "# Class viriable\n",
    "class Family:\n",
    "    lastname = \"Kim\"\n",
    "\n",
    "print(Family.lastname)"
   ]
  },
  {
   "cell_type": "code",
   "execution_count": 16,
   "metadata": {
    "colab": {
     "base_uri": "https://localhost:8080/"
    },
    "executionInfo": {
     "elapsed": 1258,
     "status": "ok",
     "timestamp": 1604468441615,
     "user": {
      "displayName": "qbin",
      "photoUrl": "https://lh3.googleusercontent.com/a-/AOh14GgwMjwC5YxWq6f-iC8RYCxWydkPFFg2kwjiO6yQK28=s64",
      "userId": "17765229080018783972"
     },
     "user_tz": -540
    },
    "id": "yKKOXhGexOPq",
    "outputId": "f9b29479-c80e-4347-ce0e-778e026df90e"
   },
   "outputs": [
    {
     "name": "stdout",
     "output_type": "stream",
     "text": [
      "Kim\n",
      "Kim\n"
     ]
    }
   ],
   "source": [
    "f1 = Family()\n",
    "f2 = Family()\n",
    "print(f1.lastname)\n",
    "print(f2.lastname)"
   ]
  },
  {
   "cell_type": "code",
   "execution_count": 17,
   "metadata": {
    "colab": {
     "base_uri": "https://localhost:8080/"
    },
    "executionInfo": {
     "elapsed": 526,
     "status": "ok",
     "timestamp": 1604468480974,
     "user": {
      "displayName": "qbin",
      "photoUrl": "https://lh3.googleusercontent.com/a-/AOh14GgwMjwC5YxWq6f-iC8RYCxWydkPFFg2kwjiO6yQK28=s64",
      "userId": "17765229080018783972"
     },
     "user_tz": -540
    },
    "id": "xM9QR4APxXzb",
    "outputId": "2a11fd04-2c1d-4652-ec34-ebf583726ac1"
   },
   "outputs": [
    {
     "name": "stdout",
     "output_type": "stream",
     "text": [
      "Park\n",
      "Park\n"
     ]
    }
   ],
   "source": [
    "Family.lastname = \"Park\"\n",
    "print(f1.lastname)\n",
    "print(f2.lastname)"
   ]
  }
 ],
 "metadata": {
  "colab": {
   "authorship_tag": "ABX9TyPVoaFNRCnjQmJjuStZ3WHy",
   "collapsed_sections": [],
   "name": "04_python_class",
   "provenance": []
  },
  "kernelspec": {
   "display_name": "Python 3",
   "language": "python",
   "name": "python3"
  },
  "language_info": {
   "codemirror_mode": {
    "name": "ipython",
    "version": 3
   },
   "file_extension": ".py",
   "mimetype": "text/x-python",
   "name": "python",
   "nbconvert_exporter": "python",
   "pygments_lexer": "ipython3",
   "version": "3.8.2"
  }
 },
 "nbformat": 4,
 "nbformat_minor": 1
}
